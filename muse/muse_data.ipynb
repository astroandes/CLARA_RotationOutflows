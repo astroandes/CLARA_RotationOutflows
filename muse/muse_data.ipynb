{
 "cells": [
  {
   "cell_type": "markdown",
   "metadata": {},
   "source": [
    "# MUSE DATA"
   ]
  },
  {
   "cell_type": "code",
   "execution_count": 51,
   "metadata": {},
   "outputs": [],
   "source": [
    "import pandas as pd\n",
    "import numpy as np\n",
    "import matplotlib.pyplot as plt\n",
    "from astropy.io import fits\n",
    "from scipy.stats import skew\n",
    "\n",
    "% matplotlib inline"
   ]
  },
  {
   "cell_type": "markdown",
   "metadata": {},
   "source": [
    "### Constants"
   ]
  },
  {
   "cell_type": "code",
   "execution_count": 2,
   "metadata": {},
   "outputs": [],
   "source": [
    "c = 299792 #km/s\n",
    "lya_lambda = 1215.67 #nm\n",
    "lya_nu = 2.46 * (10**15) #Hz"
   ]
  },
  {
   "cell_type": "markdown",
   "metadata": {},
   "source": [
    "### Main Table"
   ]
  },
  {
   "cell_type": "code",
   "execution_count": 3,
   "metadata": {},
   "outputs": [
    {
     "name": "stdout",
     "output_type": "stream",
     "text": [
      "Filename: MW_1-24_main_table.fits\n",
      "No.    Name         Type      Cards   Dimensions   Format\n",
      "  0  PRIMARY     PrimaryHDU       4   ()      \n",
      "  1              BinTableHDU     39   831R x 14C   [21A, D, D, D, D, 5A, D, 5A, I, 60A, 5A, D, 5A, D]   \n"
     ]
    }
   ],
   "source": [
    "hdul = fits.open('MW_1-24_main_table.fits')\n",
    "hdul.info()"
   ]
  },
  {
   "cell_type": "code",
   "execution_count": 4,
   "metadata": {},
   "outputs": [],
   "source": [
    "data = hdul[1].data\n",
    "hdul.close()"
   ]
  },
  {
   "cell_type": "code",
   "execution_count": 5,
   "metadata": {},
   "outputs": [
    {
     "data": {
      "text/plain": [
       "ColDefs(\n",
       "    name = 'UNIQUE_ID'; format = '21A'\n",
       "    name = 'RA'; format = 'D'; unit = 'deg'\n",
       "    name = 'DEC'; format = 'D'; unit = 'deg'\n",
       "    name = 'Z'; format = 'D'\n",
       "    name = 'Z_ERR'; format = 'D'\n",
       "    name = 'LEAD_LINE'; format = '5A'\n",
       "    name = 'SN'; format = 'D'\n",
       "    name = 'QUALITY'; format = '5A'\n",
       "    name = 'CONFIDENCE'; format = 'I'\n",
       "    name = 'OTHER_LINES'; format = '60A'\n",
       "    name = 'Guo_ID'; format = '5A'\n",
       "    name = 'Guo_sep'; format = 'D'\n",
       "    name = 'Skelton_ID'; format = '5A'\n",
       "    name = 'Skelton_sep'; format = 'D'\n",
       ")"
      ]
     },
     "execution_count": 5,
     "metadata": {},
     "output_type": "execute_result"
    }
   ],
   "source": [
    "data.columns"
   ]
  },
  {
   "cell_type": "code",
   "execution_count": 6,
   "metadata": {},
   "outputs": [
    {
     "name": "stdout",
     "output_type": "stream",
     "text": [
      "288\n"
     ]
    }
   ],
   "source": [
    "# filter by high quality = a\n",
    "\n",
    "q = 'a'\n",
    "\n",
    "data = data[data['QUALITY'] == q]\n",
    "\n",
    "print(data.size)"
   ]
  },
  {
   "cell_type": "code",
   "execution_count": 7,
   "metadata": {},
   "outputs": [],
   "source": [
    "# filter by lead line and other lines = lya\n",
    "\n",
    "lya = 'Lya'\n",
    "lya_ids = []\n",
    "lya_zs = []\n",
    "\n",
    "for d in data:\n",
    "    lead = d['LEAD_LINE']\n",
    "    others = d['OTHER_LINES']\n",
    "    if ((lya == lead) or (lya in others)):\n",
    "        lya_ids.append(d['UNIQUE_ID'])\n",
    "        lya_zs.append(d['Z'])"
   ]
  },
  {
   "cell_type": "code",
   "execution_count": 8,
   "metadata": {},
   "outputs": [
    {
     "data": {
      "text/plain": [
       "['104014050', '115003085']"
      ]
     },
     "execution_count": 8,
     "metadata": {},
     "output_type": "execute_result"
    }
   ],
   "source": [
    "lya_ids"
   ]
  },
  {
   "cell_type": "markdown",
   "metadata": {},
   "source": [
    "### Emline Table"
   ]
  },
  {
   "cell_type": "code",
   "execution_count": 9,
   "metadata": {},
   "outputs": [
    {
     "name": "stdout",
     "output_type": "stream",
     "text": [
      "Filename: MW_1-24_emline_table.fits\n",
      "No.    Name         Type      Cards   Dimensions   Format\n",
      "  0  PRIMARY     PrimaryHDU       4   ()      \n",
      "  1              BinTableHDU     81   1652R x 27C   [10A, I, I, I, 5A, 27A, D, D, D, D, D, D, D, D, D, D, D, D, D, D, D, D, D, D, D, D, L]   \n"
     ]
    }
   ],
   "source": [
    "hdul = fits.open('MW_1-24_emline_table.fits')\n",
    "hdul.info()"
   ]
  },
  {
   "cell_type": "code",
   "execution_count": 10,
   "metadata": {},
   "outputs": [],
   "source": [
    "data = hdul[1].data\n",
    "hdul.close()"
   ]
  },
  {
   "cell_type": "code",
   "execution_count": 11,
   "metadata": {},
   "outputs": [
    {
     "data": {
      "text/plain": [
       "ColDefs(\n",
       "    name = 'UNIQUE_ID'; format = '10A'\n",
       "    name = 'POINTING_ID'; format = 'I'\n",
       "    name = 'OBJ_ID'; format = 'I'\n",
       "    name = 'RID'; format = 'I'\n",
       "    name = 'IDENT'; format = '5A'\n",
       "    name = 'COMMENT'; format = '27A'\n",
       "    name = 'SN'; format = 'D'\n",
       "    name = 'RA_SN'; format = 'D'; unit = 'deg'\n",
       "    name = 'DEC_SN'; format = 'D'; unit = 'deg'\n",
       "    name = 'LAMBDA_SN'; format = 'D'; unit = 'Angstrom'\n",
       "    name = 'RA_PEAK_SN'; format = 'D'; unit = 'deg'\n",
       "    name = 'DEC_PEAK_SN'; format = 'D'; unit = 'deg'\n",
       "    name = 'LAMBDA_PEAK_SN'; format = 'D'; unit = 'Angstrom'\n",
       "    name = 'LAMBDA_NB_MIN'; format = 'D'; unit = 'Angstrom'\n",
       "    name = 'LAMBDA_NB_MAX'; format = 'D'; unit = 'Angstrom'\n",
       "    name = 'RA_1MOM'; format = 'D'; unit = 'deg'\n",
       "    name = 'DEC_1MOM'; format = 'D'; unit = 'deg'\n",
       "    name = 'R_KRON'; format = 'D'; unit = 'arcsec'\n",
       "    name = 'F_KRON'; format = 'D'; unit = 'cm-2 erg s-1'\n",
       "    name = 'F_2KRON'; format = 'D'; unit = 'cm-2 erg s-1'\n",
       "    name = 'F_3KRON'; format = 'D'; unit = 'cm-2 erg s-1'\n",
       "    name = 'F_4KRON'; format = 'D'; unit = 'cm-2 erg s-1'\n",
       "    name = 'F_KRON_ERR'; format = 'D'; unit = 'cm-2 erg s-1'\n",
       "    name = 'F_2KRON_ERR'; format = 'D'; unit = 'cm-2 erg s-1'\n",
       "    name = 'F_3KRON_ERR'; format = 'D'; unit = 'cm-2 erg s-1'\n",
       "    name = 'F_4KRON_ERR'; format = 'D'; unit = 'cm-2 erg s-1'\n",
       "    name = 'BORDER_FLAG'; format = 'L'\n",
       ")"
      ]
     },
     "execution_count": 11,
     "metadata": {},
     "output_type": "execute_result"
    }
   ],
   "source": [
    "data.columns"
   ]
  },
  {
   "cell_type": "code",
   "execution_count": 12,
   "metadata": {},
   "outputs": [],
   "source": [
    "# Filter by previous uids\n",
    "\n",
    "lya_peak, lya_min, lya_max = [], [], []\n",
    "\n",
    "for d in data:\n",
    "    if ((d['UNIQUE_ID'] in lya_ids) and (lya == d['IDENT'])):\n",
    "        lya_peak.append(d['LAMBDA_PEAK_SN']) # angstroms \n",
    "        lya_min.append(d['LAMBDA_NB_MIN']) # angstroms \n",
    "        lya_max.append(d['LAMBDA_NB_MAX']) # angstroms "
   ]
  },
  {
   "cell_type": "code",
   "execution_count": 13,
   "metadata": {},
   "outputs": [
    {
     "name": "stdout",
     "output_type": "stream",
     "text": [
      "['104014050', '115003085']\n",
      "[3.66090989112854, 3.709820032119751]\n",
      "[5664.91650390625, 5722.22900390625]\n",
      "[5653.04150390625, 5706.60400390625]\n",
      "[5683.04150390625, 5737.85400390625]\n"
     ]
    }
   ],
   "source": [
    "print(lya_ids)\n",
    "print(lya_zs)\n",
    "print(lya_peak)\n",
    "print(lya_min)\n",
    "print(lya_max)"
   ]
  },
  {
   "cell_type": "markdown",
   "metadata": {},
   "source": [
    "### Spectra"
   ]
  },
  {
   "cell_type": "code",
   "execution_count": 14,
   "metadata": {},
   "outputs": [
    {
     "data": {
      "image/png": "[encoded data removed]",
      "text/plain": [
       "<matplotlib.figure.Figure at 0x7faa631eaf98>"
      ]
     },
     "metadata": {},
     "output_type": "display_data"
    },
    {
     "data": {
      "image/png": "[encoded data removed]",
      "text/plain": [
       "<matplotlib.figure.Figure at 0x7faa631eae48>"
      ]
     },
     "metadata": {},
     "output_type": "display_data"
    }
   ],
   "source": [
    "lya_xs, lya_ys = [], []\n",
    "\n",
    "for i in range(len(lya_ids)):\n",
    "    fn = 'spectrum_' + str(lya_ids[i]) + '.fits'\n",
    "    hdul = fits.open(fn)\n",
    "    data = hdul[1].data\n",
    "    hdul.close()\n",
    "    \n",
    "    x = data['WAVE_VAC'] # angstroms \n",
    "    y = data['FLUX']\n",
    "    z = lya_zs[i]\n",
    "    \n",
    "    peak = lya_peak[i]\n",
    "    minn = lya_min[i]\n",
    "    maxx = lya_max[i]\n",
    "    \n",
    "    plt.plot(x,y)\n",
    "    plt.axvline(peak, 0, 1, linestyle='--',  color='k')\n",
    "    plt.axvline(minn, 0, 1, linestyle='--',  color='k', alpha=0.5)\n",
    "    plt.axvline(maxx, 0, 1, linestyle='--',  color='k', alpha=0.5)\n",
    "    plt.xlim(minn-10, maxx+10)\n",
    "    plt.show()\n",
    "    \n",
    "    # redshift\n",
    "    x = x/(1+z) \n",
    "    peak = peak/(1+z)\n",
    "    minn = minn/(1+z)\n",
    "    maxx = maxx/(1+z)\n",
    "    \n",
    "    '''\n",
    "    plt.plot(x,y)\n",
    "    plt.axvline(peak, 0, 1, linestyle='--',  color='k')\n",
    "    plt.axvline(minn, 0, 1, linestyle='--',  color='k', alpha=0.5)\n",
    "    plt.axvline(maxx, 0, 1, linestyle='--',  color='k', alpha=0.5)\n",
    "    plt.xlim(minn-5, maxx+5)\n",
    "    plt.show()\n",
    "    '''\n",
    "    \n",
    "    # angstrom to velocity (km/s)\n",
    "    x = c*(1 - lya_lambda/x)\n",
    "    peak = c*(1 - lya_lambda/peak)\n",
    "    minn = c*(1 - lya_lambda/minn)\n",
    "    maxx = c*(1 - lya_lambda/maxx)\n",
    "    \n",
    "    '''\n",
    "    plt.plot(x,y)\n",
    "    plt.axvline(peak, 0, 1, linestyle='--',  color='k')\n",
    "    plt.axvline(minn, 0, 1, linestyle='--',  color='k', alpha=0.5)\n",
    "    plt.axvline(maxx, 0, 1, linestyle='--',  color='k', alpha=0.5)\n",
    "    plt.xlim(peak-1000, peak+1000)\n",
    "    plt.show()\n",
    "    '''\n",
    "    \n",
    "    # center\n",
    "    x = x - peak\n",
    "    minn = minn - peak\n",
    "    maxx = maxx - peak\n",
    "    peak = 0\n",
    "    \n",
    "    '''\n",
    "    plt.plot(x,y)\n",
    "    plt.axvline(peak, 0, 1, linestyle='--',  color='k')\n",
    "    plt.axvline(minn, 0, 1, linestyle='--',  color='k', alpha=0.5)\n",
    "    plt.axvline(maxx, 0, 1, linestyle='--',  color='k', alpha=0.5)\n",
    "    plt.xlim(minn-5, maxx+5)\n",
    "    plt.show()\n",
    "    '''\n",
    "    \n",
    "    # save them\n",
    "    lya_peak[i] = peak\n",
    "    lya_min[i] = minn\n",
    "    lya_max[i] = maxx\n",
    "    \n",
    "    lya_xs.append(x)\n",
    "    lya_ys.append(y)"
   ]
  },
  {
   "cell_type": "code",
   "execution_count": 17,
   "metadata": {},
   "outputs": [
    {
     "data": {
      "text/plain": [
       "<matplotlib.lines.Line2D at 0x7faa5a669748>"
      ]
     },
     "execution_count": 17,
     "metadata": {},
     "output_type": "execute_result"
    },
    {
     "data": {
      "image/png": "[encoded data removed]",
      "text/plain": [
       "<matplotlib.figure.Figure at 0x7faa5a72bb38>"
      ]
     },
     "metadata": {},
     "output_type": "display_data"
    }
   ],
   "source": [
    "plt.plot(lya_xs[0], lya_ys[0])\n",
    "plt.xlim(lya_min[0]-100, lya_max[0]+100)\n",
    "plt.axvline(lya_peak[0], 0, 1, linestyle='--',  color='k')\n",
    "plt.axvline(lya_min[0], 0, 1, linestyle='--',  color='k', alpha=0.5)\n",
    "plt.axvline(lya_max[0], 0, 1, linestyle='--',  color='k', alpha=0.5)\n",
    "plt.axhline(0, 0, 1, linestyle='-',  color='k')"
   ]
  },
  {
   "cell_type": "code",
   "execution_count": 18,
   "metadata": {},
   "outputs": [
    {
     "data": {
      "text/plain": [
       "<matplotlib.lines.Line2D at 0x7faa5a5d8908>"
      ]
     },
     "execution_count": 18,
     "metadata": {},
     "output_type": "execute_result"
    },
    {
     "data": {
      "image/png": "[encoded data removed]",
      "text/plain": [
       "<matplotlib.figure.Figure at 0x7faa5a64b9e8>"
      ]
     },
     "metadata": {},
     "output_type": "display_data"
    }
   ],
   "source": [
    "plt.plot(lya_xs[1], lya_ys[1])\n",
    "plt.xlim(lya_min[1]-100, lya_max[1]+100)\n",
    "plt.axvline(lya_peak[1], 0, 1, linestyle='--',  color='k')\n",
    "plt.axvline(lya_min[1], 0, 1, linestyle='--',  color='k', alpha=0.5)\n",
    "plt.axvline(lya_max[1], 0, 1, linestyle='--',  color='k', alpha=0.5)\n",
    "plt.axhline(0, 0, 1, linestyle='-',  color='k')"
   ]
  },
  {
   "cell_type": "code",
   "execution_count": 54,
   "metadata": {},
   "outputs": [
    {
     "data": {
      "image/png": "[encoded data removed]",
      "text/plain": [
       "<matplotlib.figure.Figure at 0x7faa51b64748>"
      ]
     },
     "metadata": {},
     "output_type": "display_data"
    },
    {
     "data": {
      "image/png": "[encoded data removed]",
      "text/plain": [
       "<matplotlib.figure.Figure at 0x7faa51c0cef0>"
      ]
     },
     "metadata": {},
     "output_type": "display_data"
    }
   ],
   "source": [
    "lya_stds, lya_skws = [], []\n",
    "\n",
    "for i in range(len(lya_ids)):\n",
    "    x = lya_xs[i]\n",
    "    y = lya_ys[i]\n",
    "    \n",
    "    inds_sub = np.where((x>=lya_min[i]) & (x<=lya_max[i]))\n",
    "    \n",
    "    x_sub = x[inds_sub]\n",
    "    y_sub = y[inds_sub]\n",
    "    \n",
    "    n, b = np.histogram(x_sub, weights=y_sub, bins=23)\n",
    "    \n",
    "    vs = np.array([])\n",
    "    for j in range(len(n)):\n",
    "        n_j = int(n[j])\n",
    "        b_prev = b[j]\n",
    "        b_next = b[j+1]\n",
    "        \n",
    "        vs_j = np.linspace(b_prev, b_next, n_j)\n",
    "        vs = np.concatenate((vs, vs_j))\n",
    "    \n",
    "    plt.hist(vs, bins=23)\n",
    "    plt.plot(x_sub, y_sub)\n",
    "    plt.show()\n",
    "\n",
    "    std_i = np.std(vs)\n",
    "    skw_i = skew(vs)\n",
    "    \n",
    "    lya_stds.append(std_i)\n",
    "    lya_skws.append(skw_i)\n",
    "    \n",
    "    #y_sub = y_sub/np.sum(y_sub)\n",
    "    #sub = np.array([x_sub, y_sub]).T\n",
    "    #fn = 'muse_lya_' + str(lya_ids[i]) + '.txt'\n",
    "    #np.savetxt(fn, sub)"
   ]
  },
  {
   "cell_type": "code",
   "execution_count": 55,
   "metadata": {},
   "outputs": [],
   "source": [
    "stats = np.array([lya_stds, lya_skws]).T\n",
    "np.savetxt('muse_stats.txt', stats) # std, skw"
   ]
  },
  {
   "cell_type": "code",
   "execution_count": null,
   "metadata": {},
   "outputs": [],
   "source": []
  }
 ],
 "metadata": {
  "kernelspec": {
   "display_name": "Python 3",
   "language": "python",
   "name": "python3"
  },
  "language_info": {
   "codemirror_mode": {
    "name": "ipython",
    "version": 3
   },
   "file_extension": ".py",
   "mimetype": "text/x-python",
   "name": "python",
   "nbconvert_exporter": "python",
   "pygments_lexer": "ipython3",
   "version": "3.6.4"
  }
 },
 "nbformat": 4,
 "nbformat_minor": 2
}
