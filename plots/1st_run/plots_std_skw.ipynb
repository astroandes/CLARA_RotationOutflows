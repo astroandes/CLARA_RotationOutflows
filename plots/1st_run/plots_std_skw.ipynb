{
 "cells": [
  {
   "cell_type": "code",
   "execution_count": 3,
   "metadata": {
    "collapsed": false
   },
   "outputs": [],
   "source": [
    "import pandas as pd\n",
    "from numpy import *\n",
    "from matplotlib.pyplot import * \n",
    "\n",
    "rc('text', usetex=True, fontsize=20)"
   ]
  },
  {
   "cell_type": "code",
   "execution_count": 13,
   "metadata": {
    "collapsed": false
   },
   "outputs": [],
   "source": [
    "### --------------- tau10E5 --------------- ###\n",
    "\n",
    "df = pd.read_csv('./info_tau10E5.dat', delimiter='\\t')\n",
    "\n",
    "df_vrot = df['vrot']\n",
    "df_vout = df['vout']\n",
    "\n",
    "vrots = [0,100,200,300]\n",
    "vouts = [100,200,300]\n",
    "\n",
    "for vout in vouts:\n",
    "    for vrot in vrots:\n",
    "        indices_v = where((df_vrot==vrot) & (df_vout==vout))\n",
    "        \n",
    "        skw = array(df['skw'])[indices_v]\n",
    "        std = array(df['std'])[indices_v]\n",
    "        thetas = array(df['theta_lower'])[indices_v]\n",
    "        \n",
    "        vrot_lab = r'${0:.0f}$'.format(vrot)\n",
    "        vout_lab = r'${0:.0f}$'.format(vout)\n",
    "        lab = '$v_{rot}=$ '+vrot_lab+'\\n$v_{out}=$ '+vout_lab\n",
    "        \n",
    "        fig = figure(figsize=(12,8))\n",
    "        plot(thetas,skw,c='m',label=lab)\n",
    "        ylim(-1.4,0)\n",
    "        legend()\n",
    "        savefig('tau10E5/skw/vrot'+str(vrot)+'_vout'+str(vout)+'_skw.png')\n",
    "        close()\n",
    "        \n",
    "        fig = figure(figsize=(12,8))\n",
    "        plot(thetas,std,c='m',label=lab)\n",
    "        ylim(5,14)\n",
    "        legend()\n",
    "        savefig('tau10E5/std/vrot'+str(vrot)+'_vout'+str(vout)+'_std.png')\n",
    "        close()"
   ]
  },
  {
   "cell_type": "code",
   "execution_count": 15,
   "metadata": {
    "collapsed": false
   },
   "outputs": [],
   "source": [
    "### --------------- tau10E6 --------------- ###\n",
    "\n",
    "df = pd.read_csv('./info_tau10E6.dat', delimiter='\\t')\n",
    "\n",
    "df_vrot = df['vrot']\n",
    "df_vout = df['vout']\n",
    "\n",
    "vrots = [0,100,200,300]\n",
    "vouts = [100,200,300]\n",
    "\n",
    "for vout in vouts:\n",
    "    for vrot in vrots:\n",
    "        indices_v = where((df_vrot==vrot) & (df_vout==vout))\n",
    "        \n",
    "        skw = array(df['skw'])[indices_v]\n",
    "        std = array(df['std'])[indices_v]\n",
    "        thetas = array(df['theta_lower'])[indices_v]\n",
    "        \n",
    "        vrot_lab = r'${0:.0f}$'.format(vrot)\n",
    "        vout_lab = r'${0:.0f}$'.format(vout)\n",
    "        lab = '$v_{rot}=$ '+vrot_lab+'\\n$v_{out}=$ '+vout_lab\n",
    "        \n",
    "        fig = figure(figsize=(12,8))\n",
    "        plot(thetas,skw,c='m',label=lab)\n",
    "        ylim(-1.3,-0.3)\n",
    "        legend()\n",
    "        savefig('tau10E6/skw/vrot'+str(vrot)+'_vout'+str(vout)+'_skw.png')\n",
    "        close()\n",
    "        \n",
    "        fig = figure(figsize=(12,8))\n",
    "        plot(thetas,std,c='m',label=lab)\n",
    "        ylim(6,16)\n",
    "        legend()\n",
    "        savefig('tau10E6/std/vrot'+str(vrot)+'_vout'+str(vout)+'_std.png')\n",
    "        close()"
   ]
  },
  {
   "cell_type": "code",
   "execution_count": 16,
   "metadata": {
    "collapsed": false
   },
   "outputs": [
    {
     "ename": "TypeError",
     "evalue": "'float' object is not iterable",
     "output_type": "error",
     "traceback": [
      "\u001b[1;31m---------------------------------------------------------------------------\u001b[0m",
      "\u001b[1;31mTypeError\u001b[0m                                 Traceback (most recent call last)",
      "\u001b[1;32m<ipython-input-16-0588e06f8dab>\u001b[0m in \u001b[0;36m<module>\u001b[1;34m()\u001b[0m\n\u001b[0;32m     24\u001b[0m         \u001b[0mplot\u001b[0m\u001b[1;33m(\u001b[0m\u001b[0mthetas\u001b[0m\u001b[1;33m,\u001b[0m\u001b[0mskw\u001b[0m\u001b[1;33m,\u001b[0m\u001b[0mc\u001b[0m\u001b[1;33m=\u001b[0m\u001b[1;34m'm'\u001b[0m\u001b[1;33m,\u001b[0m\u001b[0mlabel\u001b[0m\u001b[1;33m=\u001b[0m\u001b[0mlab\u001b[0m\u001b[1;33m)\u001b[0m\u001b[1;33m\u001b[0m\u001b[0m\n\u001b[0;32m     25\u001b[0m         \u001b[0mylim\u001b[0m\u001b[1;33m(\u001b[0m\u001b[1;33m)\u001b[0m\u001b[1;33m\u001b[0m\u001b[0m\n\u001b[1;32m---> 26\u001b[1;33m         \u001b[0mlegend\u001b[0m\u001b[1;33m(\u001b[0m\u001b[1;33m-\u001b[0m\u001b[1;36m1.1\u001b[0m\u001b[1;33m,\u001b[0m\u001b[1;33m-\u001b[0m\u001b[1;36m0.2\u001b[0m\u001b[1;33m)\u001b[0m\u001b[1;33m\u001b[0m\u001b[0m\n\u001b[0m\u001b[0;32m     27\u001b[0m         \u001b[0msavefig\u001b[0m\u001b[1;33m(\u001b[0m\u001b[1;34m'tau10E7/skw/vrot'\u001b[0m\u001b[1;33m+\u001b[0m\u001b[0mstr\u001b[0m\u001b[1;33m(\u001b[0m\u001b[0mvrot\u001b[0m\u001b[1;33m)\u001b[0m\u001b[1;33m+\u001b[0m\u001b[1;34m'_vout'\u001b[0m\u001b[1;33m+\u001b[0m\u001b[0mstr\u001b[0m\u001b[1;33m(\u001b[0m\u001b[0mvout\u001b[0m\u001b[1;33m)\u001b[0m\u001b[1;33m+\u001b[0m\u001b[1;34m'_skw.png'\u001b[0m\u001b[1;33m)\u001b[0m\u001b[1;33m\u001b[0m\u001b[0m\n\u001b[0;32m     28\u001b[0m         \u001b[0mclose\u001b[0m\u001b[1;33m(\u001b[0m\u001b[1;33m)\u001b[0m\u001b[1;33m\u001b[0m\u001b[0m\n",
      "\u001b[1;32m/usr/lib/python2.7/dist-packages/matplotlib/pyplot.pyc\u001b[0m in \u001b[0;36mlegend\u001b[1;34m(*args, **kwargs)\u001b[0m\n\u001b[0;32m   3517\u001b[0m \u001b[1;33m@\u001b[0m\u001b[0mdocstring\u001b[0m\u001b[1;33m.\u001b[0m\u001b[0mcopy_dedent\u001b[0m\u001b[1;33m(\u001b[0m\u001b[0mAxes\u001b[0m\u001b[1;33m.\u001b[0m\u001b[0mlegend\u001b[0m\u001b[1;33m)\u001b[0m\u001b[1;33m\u001b[0m\u001b[0m\n\u001b[0;32m   3518\u001b[0m \u001b[1;32mdef\u001b[0m \u001b[0mlegend\u001b[0m\u001b[1;33m(\u001b[0m\u001b[1;33m*\u001b[0m\u001b[0margs\u001b[0m\u001b[1;33m,\u001b[0m \u001b[1;33m**\u001b[0m\u001b[0mkwargs\u001b[0m\u001b[1;33m)\u001b[0m\u001b[1;33m:\u001b[0m\u001b[1;33m\u001b[0m\u001b[0m\n\u001b[1;32m-> 3519\u001b[1;33m     \u001b[0mret\u001b[0m \u001b[1;33m=\u001b[0m \u001b[0mgca\u001b[0m\u001b[1;33m(\u001b[0m\u001b[1;33m)\u001b[0m\u001b[1;33m.\u001b[0m\u001b[0mlegend\u001b[0m\u001b[1;33m(\u001b[0m\u001b[1;33m*\u001b[0m\u001b[0margs\u001b[0m\u001b[1;33m,\u001b[0m \u001b[1;33m**\u001b[0m\u001b[0mkwargs\u001b[0m\u001b[1;33m)\u001b[0m\u001b[1;33m\u001b[0m\u001b[0m\n\u001b[0m\u001b[0;32m   3520\u001b[0m     \u001b[0mdraw_if_interactive\u001b[0m\u001b[1;33m(\u001b[0m\u001b[1;33m)\u001b[0m\u001b[1;33m\u001b[0m\u001b[0m\n\u001b[0;32m   3521\u001b[0m     \u001b[1;32mreturn\u001b[0m \u001b[0mret\u001b[0m\u001b[1;33m\u001b[0m\u001b[0m\n",
      "\u001b[1;32m/usr/lib/python2.7/dist-packages/matplotlib/axes/_axes.pyc\u001b[0m in \u001b[0;36mlegend\u001b[1;34m(self, *args, **kwargs)\u001b[0m\n\u001b[0;32m    512\u001b[0m             \u001b[1;32mraise\u001b[0m \u001b[0mTypeError\u001b[0m\u001b[1;33m(\u001b[0m\u001b[1;34m'Invalid arguments to legend.'\u001b[0m\u001b[1;33m)\u001b[0m\u001b[1;33m\u001b[0m\u001b[0m\n\u001b[0;32m    513\u001b[0m \u001b[1;33m\u001b[0m\u001b[0m\n\u001b[1;32m--> 514\u001b[1;33m         \u001b[0mself\u001b[0m\u001b[1;33m.\u001b[0m\u001b[0mlegend_\u001b[0m \u001b[1;33m=\u001b[0m \u001b[0mmlegend\u001b[0m\u001b[1;33m.\u001b[0m\u001b[0mLegend\u001b[0m\u001b[1;33m(\u001b[0m\u001b[0mself\u001b[0m\u001b[1;33m,\u001b[0m \u001b[0mhandles\u001b[0m\u001b[1;33m,\u001b[0m \u001b[0mlabels\u001b[0m\u001b[1;33m,\u001b[0m \u001b[1;33m**\u001b[0m\u001b[0mkwargs\u001b[0m\u001b[1;33m)\u001b[0m\u001b[1;33m\u001b[0m\u001b[0m\n\u001b[0m\u001b[0;32m    515\u001b[0m         \u001b[0mself\u001b[0m\u001b[1;33m.\u001b[0m\u001b[0mlegend_\u001b[0m\u001b[1;33m.\u001b[0m\u001b[0m_remove_method\u001b[0m \u001b[1;33m=\u001b[0m \u001b[1;32mlambda\u001b[0m \u001b[0mh\u001b[0m\u001b[1;33m:\u001b[0m \u001b[0msetattr\u001b[0m\u001b[1;33m(\u001b[0m\u001b[0mself\u001b[0m\u001b[1;33m,\u001b[0m \u001b[1;34m'legend_'\u001b[0m\u001b[1;33m,\u001b[0m \u001b[0mNone\u001b[0m\u001b[1;33m)\u001b[0m\u001b[1;33m\u001b[0m\u001b[0m\n\u001b[0;32m    516\u001b[0m         \u001b[1;32mreturn\u001b[0m \u001b[0mself\u001b[0m\u001b[1;33m.\u001b[0m\u001b[0mlegend_\u001b[0m\u001b[1;33m\u001b[0m\u001b[0m\n",
      "\u001b[1;32m/usr/lib/python2.7/dist-packages/matplotlib/legend.pyc\u001b[0m in \u001b[0;36m__init__\u001b[1;34m(self, parent, handles, labels, loc, numpoints, markerscale, scatterpoints, scatteryoffsets, prop, fontsize, borderpad, labelspacing, handlelength, handleheight, handletextpad, borderaxespad, columnspacing, ncol, mode, fancybox, shadow, title, framealpha, bbox_to_anchor, bbox_transform, frameon, handler_map)\u001b[0m\n\u001b[0;32m    275\u001b[0m         \u001b[1;32mdel\u001b[0m \u001b[0mlocals_view\u001b[0m\u001b[1;33m\u001b[0m\u001b[0m\n\u001b[0;32m    276\u001b[0m \u001b[1;33m\u001b[0m\u001b[0m\n\u001b[1;32m--> 277\u001b[1;33m         \u001b[0mhandles\u001b[0m \u001b[1;33m=\u001b[0m \u001b[0mlist\u001b[0m\u001b[1;33m(\u001b[0m\u001b[0mhandles\u001b[0m\u001b[1;33m)\u001b[0m\u001b[1;33m\u001b[0m\u001b[0m\n\u001b[0m\u001b[0;32m    278\u001b[0m         \u001b[1;32mif\u001b[0m \u001b[0mlen\u001b[0m\u001b[1;33m(\u001b[0m\u001b[0mhandles\u001b[0m\u001b[1;33m)\u001b[0m \u001b[1;33m<\u001b[0m \u001b[1;36m2\u001b[0m\u001b[1;33m:\u001b[0m\u001b[1;33m\u001b[0m\u001b[0m\n\u001b[0;32m    279\u001b[0m             \u001b[0mncol\u001b[0m \u001b[1;33m=\u001b[0m \u001b[1;36m1\u001b[0m\u001b[1;33m\u001b[0m\u001b[0m\n",
      "\u001b[1;31mTypeError\u001b[0m: 'float' object is not iterable"
     ]
    }
   ],
   "source": [
    "### --------------- tau10E7 --------------- ###\n",
    "\n",
    "df = pd.read_csv('./info_tau10E7.dat', delimiter='\\t')\n",
    "\n",
    "df_vrot = df['vrot']\n",
    "df_vout = df['vout']\n",
    "\n",
    "vrots = [0,100,200,300]\n",
    "vouts = [100,200,300]\n",
    "\n",
    "for vout in vouts:\n",
    "    for vrot in vrots:\n",
    "        indices_v = where((df_vrot==vrot) & (df_vout==vout))\n",
    "        \n",
    "        skw = array(df['skw'])[indices_v]\n",
    "        std = array(df['std'])[indices_v]\n",
    "        thetas = array(df['theta_lower'])[indices_v]\n",
    "        \n",
    "        vrot_lab = r'${0:.0f}$'.format(vrot)\n",
    "        vout_lab = r'${0:.0f}$'.format(vout)\n",
    "        lab = '$v_{rot}=$ '+vrot_lab+'\\n$v_{out}=$ '+vout_lab\n",
    "        \n",
    "        fig = figure(figsize=(12,8))\n",
    "        plot(thetas,skw,c='m',label=lab)\n",
    "        ylim(-1.1,-0.2)\n",
    "        legend()\n",
    "        savefig('tau10E7/skw/vrot'+str(vrot)+'_vout'+str(vout)+'_skw.png')\n",
    "        close()\n",
    "        \n",
    "        fig = figure(figsize=(12,8))\n",
    "        plot(thetas,std,c='m',label=lab)\n",
    "        ylim(9,20.5)\n",
    "        legend()\n",
    "        savefig('tau10E7/std/vrot'+str(vrot)+'_vout'+str(vout)+'_std.png')\n",
    "        close()"
   ]
  },
  {
   "cell_type": "code",
   "execution_count": null,
   "metadata": {
    "collapsed": true
   },
   "outputs": [],
   "source": []
  },
  {
   "cell_type": "code",
   "execution_count": null,
   "metadata": {
    "collapsed": true
   },
   "outputs": [],
   "source": []
  }
 ],
 "metadata": {
  "kernelspec": {
   "display_name": "Python 2",
   "language": "python",
   "name": "python2"
  },
  "language_info": {
   "codemirror_mode": {
    "name": "ipython",
    "version": 2
   },
   "file_extension": ".py",
   "mimetype": "text/x-python",
   "name": "python",
   "nbconvert_exporter": "python",
   "pygments_lexer": "ipython2",
   "version": "2.7.9"
  }
 },
 "nbformat": 4,
 "nbformat_minor": 0
}
