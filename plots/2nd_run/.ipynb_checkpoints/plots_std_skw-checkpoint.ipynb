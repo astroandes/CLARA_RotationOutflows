{
 "cells": [
  {
   "cell_type": "code",
   "execution_count": 2,
   "metadata": {
    "collapsed": false
   },
   "outputs": [],
   "source": [
    "import pandas as pd\n",
    "from numpy import *\n",
    "from matplotlib.pyplot import * \n",
    "\n",
    "rc('text', usetex=True, fontsize=20)"
   ]
  },
  {
   "cell_type": "code",
   "execution_count": 9,
   "metadata": {
    "collapsed": false
   },
   "outputs": [],
   "source": [
    "### --------------- tau10E5 --------------- ###\n",
    "\n",
    "df = pd.read_csv('./info_tau10E5.dat', delimiter='\\t')\n",
    "\n",
    "df_vrot = df['vrot']\n",
    "df_vout = df['vout']\n",
    "\n",
    "vrots = [50]\n",
    "vouts = [25,50,75]\n",
    "\n",
    "for vout in vouts:\n",
    "    for vrot in vrots:\n",
    "        indices_v = where((df_vrot==vrot) & (df_vout==vout))\n",
    "        \n",
    "        skw = array(df['skw'])[indices_v]\n",
    "        std = array(df['std'])[indices_v]\n",
    "        thetas = array(df['theta_lower'])[indices_v]\n",
    "        \n",
    "        vrot_lab = r'${0:.0f}$'.format(vrot)\n",
    "        vout_lab = r'${0:.0f}$'.format(vout)\n",
    "        lab = '$v_{rot}=$ '+vrot_lab+'\\n$v_{out}=$ '+vout_lab\n",
    "        \n",
    "        fig = figure(figsize=(12,8))\n",
    "        plot(thetas,skw,c='m',label=lab)\n",
    "        ylim(0.1,0.6)\n",
    "        legend()\n",
    "        savefig('tau10E5/skw/vrot'+str(vrot)+'_vout'+str(vout)+'_skw.png')\n",
    "        close()\n",
    "        \n",
    "        fig = figure(figsize=(12,8))\n",
    "        plot(thetas,std,c='m',label=lab)\n",
    "        ylim(4.3,5.2)\n",
    "        legend()\n",
    "        savefig('tau10E5/std/vrot'+str(vrot)+'_vout'+str(vout)+'_std.png')\n",
    "        close()"
   ]
  },
  {
   "cell_type": "code",
   "execution_count": 7,
   "metadata": {
    "collapsed": false
   },
   "outputs": [],
   "source": [
    "### --------------- tau10E6 --------------- ###\n",
    "\n",
    "df = pd.read_csv('./info_tau10E6.dat', delimiter='\\t')\n",
    "\n",
    "df_vrot = df['vrot']\n",
    "df_vout = df['vout']\n",
    "\n",
    "vrots = [100]\n",
    "vouts = [25,50,75]\n",
    "\n",
    "for vout in vouts:\n",
    "    for vrot in vrots:\n",
    "        indices_v = where((df_vrot==vrot) & (df_vout==vout))\n",
    "        \n",
    "        skw = array(df['skw'])[indices_v]\n",
    "        std = array(df['std'])[indices_v]\n",
    "        thetas = array(df['theta_lower'])[indices_v]\n",
    "        \n",
    "        vrot_lab = r'${0:.0f}$'.format(vrot)\n",
    "        vout_lab = r'${0:.0f}$'.format(vout)\n",
    "        lab = '$v_{rot}=$ '+vrot_lab+'\\n$v_{out}=$ '+vout_lab\n",
    "        \n",
    "        fig = figure(figsize=(12,8))\n",
    "        plot(thetas,skw,c='m',label=lab)\n",
    "        ylim(-0.5,1.1)\n",
    "        legend()\n",
    "        savefig('tau10E6/skw/vrot'+str(vrot)+'_vout'+str(vout)+'_skw.png')\n",
    "        close()\n",
    "        \n",
    "        fig = figure(figsize=(12,8))\n",
    "        plot(thetas,std,c='m',label=lab)\n",
    "        ylim(5.4,7.2)\n",
    "        legend()\n",
    "        savefig('tau10E6/std/vrot'+str(vrot)+'_vout'+str(vout)+'_std.png')\n",
    "        close()"
   ]
  },
  {
   "cell_type": "code",
   "execution_count": null,
   "metadata": {
    "collapsed": true
   },
   "outputs": [],
   "source": []
  },
  {
   "cell_type": "code",
   "execution_count": null,
   "metadata": {
    "collapsed": true
   },
   "outputs": [],
   "source": []
  }
 ],
 "metadata": {
  "kernelspec": {
   "display_name": "Python 2",
   "language": "python",
   "name": "python2"
  },
  "language_info": {
   "codemirror_mode": {
    "name": "ipython",
    "version": 2
   },
   "file_extension": ".py",
   "mimetype": "text/x-python",
   "name": "python",
   "nbconvert_exporter": "python",
   "pygments_lexer": "ipython2",
   "version": "2.7.9"
  }
 },
 "nbformat": 4,
 "nbformat_minor": 0
}
