{
 "cells": [
  {
   "cell_type": "markdown",
   "metadata": {},
   "source": [
    "# Line Characterization"
   ]
  },
  {
   "cell_type": "markdown",
   "metadata": {},
   "source": [
    "### Imports"
   ]
  },
  {
   "cell_type": "code",
   "execution_count": 1,
   "metadata": {
    "collapsed": true
   },
   "outputs": [],
   "source": [
    "import os\n",
    "import pandas as pd\n",
    "import numpy as np\n",
    "import matplotlib.pyplot as plt\n",
    "from mpl_toolkits.axes_grid1 import ImageGrid\n",
    "from mpl_toolkits.mplot3d import Axes3D\n",
    "from scipy.stats import skew, kurtosis\n",
    "from scipy.interpolate import interp1d\n",
    "from model import main, read_data, doppler_shift, plot_spectra, filter_by_theta, get_spectra\n",
    "\n",
    "% matplotlib inline"
   ]
  },
  {
   "cell_type": "code",
   "execution_count": 2,
   "metadata": {},
   "outputs": [],
   "source": [
    "plt.rc('text', usetex=True)\n",
    "plt.rc('font', size=50)"
   ]
  },
  {
   "cell_type": "markdown",
   "metadata": {},
   "source": [
    "### Mean, Std, Skw"
   ]
  },
  {
   "cell_type": "code",
   "execution_count": 7,
   "metadata": {},
   "outputs": [],
   "source": [
    "# Functions\n",
    "\n",
    "def get_stats(data):\n",
    "    v_th=12.86\n",
    "    v = -data['x_frec']*v_th\n",
    "    \n",
    "    n = len(v)\n",
    "    \n",
    "    # mean\n",
    "    mean = np.sum(v) / n\n",
    "\n",
    "    # moments m2 (variance), m3, m4\n",
    "    m2, m3, m4 = 0, 0, 0\n",
    "    for j in range(n):\n",
    "        x_j = v[j]\n",
    "        m2 += (x_j-mean)**2\n",
    "        m3 += (x_j-mean)**3\n",
    "        m4 += (x_j-mean)**4\n",
    "    m2 = m2 / n\n",
    "    m3 = m3 / n\n",
    "    m4 = m4 / n\n",
    "\n",
    "    # std and skw\n",
    "    std = np.sqrt(m2)\n",
    "    skw = m3 / (m2**1.5)\n",
    "    kurt = m4 / (m2**2)\n",
    "    bi = kurt - skw**2\n",
    "    \n",
    "    return mean, std, skw, bi\n",
    "\n",
    "def plot_stat(vout, logtau, x_scatter, y_scatter, x_plot, y_plot, stat='mn', ylab=False):\n",
    "    \n",
    "    dec = 2\n",
    "    ylabel = '$\\mathrm{Mean}$ ($\\mathrm{km}$ $\\mathrm{s^{-1}}$)'\n",
    "    if stat == 'std':\n",
    "        ylabel = '$\\mathrm{Standard\\;Deviation}$ ($\\mathrm{km}$ $\\mathrm{s^{-1}}$)'\n",
    "    elif stat == 'skw':\n",
    "        ylabel = '$\\mathrm{Skewness}$'\n",
    "    elif stat == 'bi':\n",
    "        ylabel = '$\\mathrm{Bimodality}$'\n",
    "        \n",
    "    vout_lab = r'$v_{\\mathrm{out}}=$ ' + '${0:.0f}$'.format(vout) + ' $\\mathrm{km}$ $\\mathrm{s^{-1}}$'\n",
    "    tau_lab = r'$\\tau_{\\mathrm{H}}=$ ' + '$10^{0:.0f}$'.format(logtau)\n",
    "    lab = tau_lab + '\\n' + vout_lab\n",
    "    xlabel = r'$v_{\\mathrm{rot}}$  ($\\mathrm{km}$ $\\mathrm{s^{-1}}$)'\n",
    "    \n",
    "    fig = plt.figure(figsize=(10, 10))\n",
    "    plt.plot(x_plot, y_plot, label='DS', linewidth=6, alpha=0.5, color='black')\n",
    "    plt.scatter(x_scatter, y_scatter, label='RT', marker='^', color='black', s=600)\n",
    "    plt.title(lab)\n",
    "    plt.xlabel(xlabel)\n",
    "    if ylab:\n",
    "        plt.ylabel(ylabel)\n",
    "    ymin = np.min([np.min(y_scatter), np.min(y_plot)])\n",
    "    ymax = np.max([np.max(y_scatter), np.max(y_plot)])\n",
    "    plt.xticks([0,50,100])\n",
    "    plt.yticks(np.around(np.linspace(ymin, ymax, 3), decimals=dec))\n",
    "    plt.legend(loc='best')\n",
    "    plt.savefig('./results/line_characterization_'+stat+'_vout'+str(vout)+'_logtau'+str(logtau)+'.pdf', \n",
    "                format='pdf', transparent=False, bbox_inches='tight', pad_inches=0.2)\n",
    "    plt.close()"
   ]
  },
  {
   "cell_type": "markdown",
   "metadata": {},
   "source": [
    "### Figures: mean_line, standard_deviation, skewness"
   ]
  },
  {
   "cell_type": "code",
   "execution_count": 8,
   "metadata": {},
   "outputs": [],
   "source": [
    "vrots = [0,50,100]\n",
    "vrots_doppler = np.linspace(0, 110, 15)\n",
    "vouts = [5,25,50]\n",
    "logtaus = [5, 6, 7]\n",
    "\n",
    "for logtau in logtaus:\n",
    "    for vout in vouts:\n",
    "        \n",
    "        x_rt, x_d = [], []\n",
    "\n",
    "        y_mn_rt, y_mn_d = [], []\n",
    "        y_std_rt, y_std_d = [], []\n",
    "        y_skw_rt, y_skw_d = [], []\n",
    "        y_bi_rt, y_bi_d = [], []\n",
    "        \n",
    "        # radiative transfer\n",
    "        for vrot in vrots:\n",
    "            data_rt = read_data(vrot=vrot, vout=vout, logtau=logtau)\n",
    "            mn, std, skw, bi = get_stats(data_rt)\n",
    "\n",
    "            x_rt.append(vrot)\n",
    "            y_mn_rt.append(mn)\n",
    "            y_std_rt.append(std)\n",
    "            y_skw_rt.append(skw)\n",
    "            y_bi_rt.append(bi)\n",
    "        \n",
    "        # doppler\n",
    "        for vrot_d in vrots_doppler:\n",
    "            data = read_data(vrot=0, vout=vout, logtau=logtau)\n",
    "            data_doppler = doppler_shift(data, vrot_d)\n",
    "            \n",
    "            mn, std, skw, bi = get_stats(data_doppler)\n",
    "            \n",
    "            x_d.append(vrot_d)\n",
    "            y_mn_d.append(mn)\n",
    "            y_std_d.append(std)\n",
    "            y_skw_d.append(skw)\n",
    "            y_bi_d.append(bi)\n",
    "        \n",
    "        # write data to compare to muse\n",
    "        stats = np.array([vrots_doppler, y_std_d, y_skw_d, y_bi_d]).T\n",
    "        stats_fn = \"results/stats_logtau{}_vout{}.txt\".format(logtau, vout)\n",
    "        np.savetxt(stats_fn, stats, fmt='%s') # v_rot, std, skw, bi\n",
    "        \n",
    "        ylab = False\n",
    "        if vout == vouts[0]:\n",
    "            ylab = True\n",
    "            \n",
    "        plot_stat(vout, logtau, x_rt, y_mn_rt, x_d, y_mn_d, stat='mn', ylab=ylab)\n",
    "        plot_stat(vout, logtau, x_rt, y_std_rt, x_d, y_std_d, stat='std', ylab=ylab)\n",
    "        plot_stat(vout, logtau, x_rt, y_skw_rt, x_d, y_skw_d, stat='skw', ylab=ylab)\n",
    "        plot_stat(vout, logtau, x_rt, y_bi_rt, x_d, y_bi_d, stat='bi', ylab=ylab)"
   ]
  },
  {
   "cell_type": "markdown",
   "metadata": {},
   "source": [
    "### Valley Intensity"
   ]
  },
  {
   "cell_type": "code",
   "execution_count": 17,
   "metadata": {},
   "outputs": [],
   "source": [
    "# Functions\n",
    "\n",
    "def get_valley_intensity_ratio(x, y):\n",
    "    '''\n",
    "    valley_intensity = y[0]\n",
    "    \n",
    "    for i in range(1, len(y)-1):\n",
    "        past = y[i-1]\n",
    "        current = y[i]\n",
    "        future = y[i+1]\n",
    "        \n",
    "        if (past>=current and current<=future and current>=valley_intensity):\n",
    "            valley_intensity = current\n",
    "    '''\n",
    "    min_0 = np.where(x<=0)[0][-1]\n",
    "    max_0 = np.where(x>=0)[0][0]\n",
    "    \n",
    "    valley_intensity = (y[min_0] + y[max_0])/2\n",
    "    y_max = np.max(y)\n",
    "    \n",
    "    return valley_intensity/y_max\n",
    "\n",
    "def plot_valley(vrot, vout, logtau, x_plot, y_plot, x_scatter, y_scatter, ylab=False):        \n",
    "        \n",
    "    vrot_lab = r'$v_{\\mathrm{rot}}=$ ' + '${0:.0f}$'.format(vrot) + ' $\\mathrm{km}$ $\\mathrm{s^{-1}}$'    \n",
    "    vout_lab = r'$v_{\\mathrm{out}}=$ ' + '${0:.0f}$'.format(vout) + ' $\\mathrm{km}$ $\\mathrm{s^{-1}}$'\n",
    "    tau_lab = r'$\\tau_{\\mathrm{H}}=$ ' + '$10^{0:.0f}$'.format(logtau)\n",
    "    xlabel = r'$\\cos{\\theta}$'\n",
    "    ylabel = '$\\mathrm{Valley/Peak\\;Ratio}$'\n",
    "    \n",
    "    fig = plt.figure(figsize=(10, 10))\n",
    "    plt.plot(x_plot, y_plot, label='DS', linewidth=6, alpha=0.5, color='black')\n",
    "    plt.scatter(x_scatter, y_scatter, label='RT', marker='^', color='black', s=600)\n",
    "    plt.title(tau_lab + '\\n' + vout_lab)\n",
    "    plt.xlabel(xlabel)\n",
    "    if ylab:\n",
    "        plt.ylabel(ylabel)\n",
    "    ymin = np.min(y_plot)\n",
    "    ymax = np.max(y_plot)\n",
    "    plt.xticks([0.0,0.5,1.0])\n",
    "    #plt.yticks(np.around(np.linspace(ymin, ymax, 3), decimals=2))\n",
    "    plt.legend(loc='lower left')\n",
    "    plt.savefig('./results/line_characterization_vi_vout'+str(vout)+'_vrot'+str(vrot)+'_logtau'+str(logtau)+'.pdf', \n",
    "                format='pdf', transparent=False, bbox_inches='tight', pad_inches=0.2)\n",
    "    plt.close()"
   ]
  },
  {
   "cell_type": "markdown",
   "metadata": {},
   "source": [
    "### Figures: valley_intensity"
   ]
  },
  {
   "cell_type": "code",
   "execution_count": 19,
   "metadata": {},
   "outputs": [],
   "source": [
    "vrot = 100\n",
    "vouts = [5, 25, 50]\n",
    "logtaus = [5, 6, 7]\n",
    "num_thetas = 9\n",
    "cos_thetas = np.linspace(0, 1, num_thetas) \n",
    "\n",
    "for vout in vouts:\n",
    "    for logtau in logtaus:\n",
    "\n",
    "        x_d = []\n",
    "        y_vi_ds = []\n",
    "        y_vi_rt = []\n",
    "\n",
    "        data = read_data(vrot, vout, logtau)\n",
    "\n",
    "        for i in range(len(cos_thetas)-1):\n",
    "            cos_theta = cos_thetas[i]\n",
    "            min_theta = np.arccos(cos_thetas[i+1])\n",
    "            max_theta = np.arccos(cos_theta)\n",
    "\n",
    "            #RT\n",
    "            data_theta = filter_by_theta(data, min_theta, max_theta)\n",
    "            x_rt, y_rt = get_spectra(data_theta, as_hist=False)\n",
    "\n",
    "            # DS\n",
    "            x_ds, y_ds = main(vrot, vout, logtau, min_theta, max_theta)\n",
    "\n",
    "            x_d.append(cos_theta)\n",
    "            y_vi_rt.append(get_valley_intensity_ratio(x_rt,y_rt))\n",
    "            y_vi_ds.append(get_valley_intensity_ratio(x_ds,y_ds))\n",
    "\n",
    "        ylab = False\n",
    "        if vout == vouts[0]:\n",
    "            ylab = True\n",
    "\n",
    "        plot_valley(vrot, vout, logtau, x_d, y_vi_ds, x_d, y_vi_rt, ylab=ylab)"
   ]
  },
  {
   "cell_type": "markdown",
   "metadata": {},
   "source": [
    "### Example"
   ]
  },
  {
   "cell_type": "code",
   "execution_count": 7,
   "metadata": {},
   "outputs": [],
   "source": [
    "vrot = 100\n",
    "vout = 5\n",
    "logtau = 7\n",
    "min_theta = np.arccos(cos_thetas[4])\n",
    "max_theta = np.arccos(cos_thetas[3])\n",
    "\n",
    "x, y = main(vrot, vout, logtau, min_theta, max_theta)"
   ]
  },
  {
   "cell_type": "code",
   "execution_count": 8,
   "metadata": {},
   "outputs": [
    {
     "data": {
      "text/plain": [
       "(0.00094114342604881621, 0.00094163003301341193, 0.7296143739077704)"
      ]
     },
     "execution_count": 8,
     "metadata": {},
     "output_type": "execute_result"
    }
   ],
   "source": [
    "np.mean(y), np.std(y), skew(y)"
   ]
  },
  {
   "cell_type": "code",
   "execution_count": 9,
   "metadata": {},
   "outputs": [
    {
     "data": {
      "text/plain": [
       "0.088930348258706465"
      ]
     },
     "execution_count": 9,
     "metadata": {},
     "output_type": "execute_result"
    }
   ],
   "source": [
    "get_valley_intensity_ratio(x,y)"
   ]
  },
  {
   "cell_type": "code",
   "execution_count": 12,
   "metadata": {},
   "outputs": [
    {
     "data": {
      "image/png": "[encoded data removed]",
      "text/plain": [
       "<matplotlib.figure.Figure at 0x7fd1d4e64748>"
      ]
     },
     "metadata": {},
     "output_type": "display_data"
    }
   ],
   "source": [
    "fig, ax = plt.subplots(figsize=(16,12))\n",
    "plot_spectra(x, y, ax, lw=4, label='Doppler Shift')\n",
    "plt.legend(loc='upper left')\n",
    "#plt.axhline(get_valley_intensity(x,y), 0, 1)\n",
    "plt.show()"
   ]
  },
  {
   "cell_type": "code",
   "execution_count": null,
   "metadata": {},
   "outputs": [],
   "source": []
  }
 ],
 "metadata": {
  "kernelspec": {
   "display_name": "Python 3",
   "language": "python",
   "name": "python3"
  },
  "language_info": {
   "codemirror_mode": {
    "name": "ipython",
    "version": 3
   },
   "file_extension": ".py",
   "mimetype": "text/x-python",
   "name": "python",
   "nbconvert_exporter": "python",
   "pygments_lexer": "ipython3",
   "version": "3.6.4"
  }
 },
 "nbformat": 4,
 "nbformat_minor": 2
}
