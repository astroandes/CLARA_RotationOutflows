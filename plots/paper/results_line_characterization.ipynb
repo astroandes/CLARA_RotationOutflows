{
 "cells": [
  {
   "cell_type": "markdown",
   "metadata": {},
   "source": [
    "# Line Characterization"
   ]
  },
  {
   "cell_type": "markdown",
   "metadata": {},
   "source": [
    "### Imports"
   ]
  },
  {
   "cell_type": "code",
   "execution_count": 1,
   "metadata": {
    "collapsed": true
   },
   "outputs": [],
   "source": [
    "import os\n",
    "import pandas as pd\n",
    "import numpy as np\n",
    "import matplotlib.pyplot as plt\n",
    "from mpl_toolkits.axes_grid1 import ImageGrid\n",
    "from mpl_toolkits.mplot3d import Axes3D\n",
    "from scipy.stats import skew\n",
    "from model import main, read_data, doppler_shift, plot_spectra\n",
    "\n",
    "% matplotlib inline"
   ]
  },
  {
   "cell_type": "code",
   "execution_count": 2,
   "metadata": {},
   "outputs": [],
   "source": [
    "plt.rc('text', usetex=True)\n",
    "plt.rc('font', size=30)"
   ]
  },
  {
   "cell_type": "markdown",
   "metadata": {},
   "source": [
    "### Functions"
   ]
  },
  {
   "cell_type": "code",
   "execution_count": 3,
   "metadata": {},
   "outputs": [],
   "source": [
    "def get_stats(data):\n",
    "    y = data['x_frec']\n",
    "    return np.mean(y), np.std(y), skew(y)\n",
    "\n",
    "def plot_stat(vout, logtau, x_scatter, y_scatter, x_plot, y_plot, stat='mn'):\n",
    "    \n",
    "    ylabel = 'Mean'\n",
    "    if stat == 'std':\n",
    "        ylabel = 'Standard Deviation'\n",
    "    elif stat == 'skw':\n",
    "        ylabel = 'Skewness'\n",
    "        \n",
    "    vout_lab = r'$v_{\\mathrm{out}}=$ ' + '${0:.0f}$'.format(vout) + ' $\\mathrm{km}$ $\\mathrm{s^{-1}}$'\n",
    "    tau_lab = r'$\\tau_{\\mathrm{H}}=$ ' + '$10^{0:.0f}$'.format(logtau)\n",
    "    lab = vout_lab + '$\\;\\;\\;$' + tau_lab\n",
    "    xlabel = r'$v_{\\mathrm{rot}}$  ($\\mathrm{km}$ $\\mathrm{s^{-1}}$)'\n",
    "    \n",
    "    fig = plt.figure(figsize=(10, 10))\n",
    "    plt.plot(x_plot, y_plot, label='DS', linewidth=2, alpha=0.5, color='black')\n",
    "    plt.scatter(x_scatter, y_scatter, label='RT', marker='^', color='black')\n",
    "    plt.title(lab)\n",
    "    plt.xlabel(xlabel)\n",
    "    plt.ylabel(ylabel)\n",
    "    ymin = np.min([np.min(y_scatter), np.min(y_plot)])\n",
    "    ymax = np.max([np.max(y_scatter), np.max(y_plot)])\n",
    "    #deltay = (ymin+ymax)/20\n",
    "    #plt.ylim(ymin-deltay, ymax+deltay)\n",
    "    plt.xticks([0,50,100])\n",
    "    plt.yticks(np.linspace(ymin, ymax, 3))\n",
    "    plt.legend(loc='best')\n",
    "    plt.savefig('./results/line_characterization_'+stat+'_vout'+str(vout)+'_logtau'+str(logtau)+'.png', \n",
    "                format='png', transparent=False, bbox_inches='tight')\n",
    "    plt.close()"
   ]
  },
  {
   "cell_type": "markdown",
   "metadata": {},
   "source": [
    "### Figures: mean_line, standard_deviation, skewness"
   ]
  },
  {
   "cell_type": "code",
   "execution_count": 4,
   "metadata": {},
   "outputs": [],
   "source": [
    "vrots = [0,50,100]\n",
    "vrots_doppler = np.linspace(0, 110, 15)\n",
    "vouts = [5,25,50]\n",
    "logtaus = [5, 6, 7]\n",
    "\n",
    "for logtau in logtaus:\n",
    "    for vout in vouts:\n",
    "        \n",
    "        x_rt, x_d = [], []\n",
    "\n",
    "        y_mn_rt, y_mn_d = [], []\n",
    "        y_std_rt, y_std_d = [], []\n",
    "        y_skw_rt, y_skw_d = [], []\n",
    "        \n",
    "        for vrot in vrots:\n",
    "            data_rt = read_data(vrot=vrot, vout=vout, logtau=logtau)\n",
    "            mn, std, skw = get_stats(data_rt)\n",
    "\n",
    "            x_rt.append(vrot)\n",
    "            y_mn_rt.append(mn)\n",
    "            y_std_rt.append(std)\n",
    "            y_skw_rt.append(skw)\n",
    "        \n",
    "        for vrot_d in vrots_doppler:\n",
    "            data = read_data(vrot=0, vout=vout, logtau=logtau)\n",
    "            data_doppler = doppler_shift(data, vrot_d)\n",
    "            mn, std, skw = get_stats(data_doppler)\n",
    "            \n",
    "            x_d.append(vrot_d)\n",
    "            y_mn_d.append(mn)\n",
    "            y_std_d.append(std)\n",
    "            y_skw_d.append(skw)\n",
    "        \n",
    "        plot_stat(vout, logtau, x_rt, y_mn_rt, x_d, y_mn_d, stat='mn')\n",
    "        plot_stat(vout, logtau, x_rt, y_std_rt, x_d, y_std_d, stat='std')\n",
    "        plot_stat(vout, logtau, x_rt, y_skw_rt, x_d, y_skw_d, stat='skw') "
   ]
  },
  {
   "cell_type": "markdown",
   "metadata": {},
   "source": [
    "### Functions"
   ]
  },
  {
   "cell_type": "code",
   "execution_count": 5,
   "metadata": {},
   "outputs": [],
   "source": [
    "def get_valley_intensity(y):\n",
    "    \n",
    "    valley_intensity = y[0]\n",
    "    \n",
    "    for i in range(1, len(y)-1):\n",
    "        past = y[i-1]\n",
    "        current = y[i]\n",
    "        future = y[i+1]\n",
    "        \n",
    "        if (past>=current and current<=future and current>=valley_intensity):\n",
    "            valley_intensity = current\n",
    "    \n",
    "    return valley_intensity\n",
    "\n",
    "def plot_valley(vrot, vout, logtau, x_plot, y_plot):        \n",
    "        \n",
    "    vrot_lab = r'$v_{\\mathrm{rot}}=$ ' + '${0:.0f}$'.format(vrot) + ' $\\mathrm{km}$ $\\mathrm{s^{-1}}$'    \n",
    "    vout_lab = r'$v_{\\mathrm{out}}=$ ' + '${0:.0f}$'.format(vout) + ' $\\mathrm{km}$ $\\mathrm{s^{-1}}$'\n",
    "    lab = vrot_lab + '$\\;\\;\\;$' + vout_lab\n",
    "    tau_lab = r'$\\tau_{\\mathrm{H}}=$ ' + '$10^{0:.0f}$'.format(logtau)\n",
    "    xlabel = r'$\\theta$ ($\\mathrm{radians}$)'\n",
    "    ylabel = 'Valley Intensity'\n",
    "    \n",
    "    fig = plt.figure(figsize=(10, 10))\n",
    "    plt.plot(x_plot, y_plot, label=tau_lab, linewidth=2, alpha=1.0, color='black')\n",
    "    plt.title(lab)\n",
    "    plt.xlabel(xlabel)\n",
    "    plt.ylabel(ylabel)\n",
    "    ymin = np.min(y_plot)\n",
    "    ymax = np.max(y_plot)\n",
    "    #plt.xticks([0,50,100])\n",
    "    plt.yticks(np.linspace(ymin, ymax, 3))\n",
    "    plt.legend(loc='best')\n",
    "    plt.savefig('./results/line_characterization_vi_vout'+str(vout)+'_vrot'+str(vrot)+'_logtau'+str(logtau)+'.png', \n",
    "                format='png', transparent=False, bbox_inches='tight')\n",
    "    plt.close()"
   ]
  },
  {
   "cell_type": "markdown",
   "metadata": {},
   "source": [
    "### Figures: valley_intensity"
   ]
  },
  {
   "cell_type": "code",
   "execution_count": 6,
   "metadata": {},
   "outputs": [],
   "source": [
    "vrot = 50\n",
    "vout = 75\n",
    "num_thetas = 9\n",
    "cos_thetas = np.linspace(1, 0, num_thetas) \n",
    "thetas = np.arccos(cos_thetas)\n",
    "\n",
    "for logtau in logtaus:\n",
    "    \n",
    "    x_d = []\n",
    "    y_vi_d = []\n",
    "\n",
    "    for i in range(len(thetas)-1):\n",
    "        min_theta = thetas[i]\n",
    "        max_theta = thetas[i+1]\n",
    "        \n",
    "        x, y = main(vrot, vout, logtau, min_theta, max_theta)\n",
    "\n",
    "        x_d.append(min_theta)\n",
    "        y_vi_d.append(get_valley_intensity(y))\n",
    "\n",
    "    plot_valley(vrot, vout, logtau, x_d, y_vi_d)"
   ]
  },
  {
   "cell_type": "markdown",
   "metadata": {},
   "source": [
    "### Example"
   ]
  },
  {
   "cell_type": "code",
   "execution_count": 7,
   "metadata": {},
   "outputs": [],
   "source": [
    "vrot = 100\n",
    "vout = 5\n",
    "logtau = 5\n",
    "min_theta = np.pi/2.0 - 0.15\n",
    "max_theta = np.pi/2.0\n",
    "\n",
    "x, y = main(vrot, vout, logtau, min_theta, max_theta)"
   ]
  },
  {
   "cell_type": "code",
   "execution_count": 8,
   "metadata": {},
   "outputs": [
    {
     "data": {
      "image/png": "[encoded data removed]",
      "text/plain": [
       "<matplotlib.figure.Figure at 0x7f5f40c62eb8>"
      ]
     },
     "metadata": {},
     "output_type": "display_data"
    }
   ],
   "source": [
    "fig, ax = plt.subplots(figsize=(16,12))\n",
    "plot_spectra(x, y, ax, lw=4, label='Doppler Shift')\n",
    "plt.legend(loc='upper left')\n",
    "plt.show()"
   ]
  },
  {
   "cell_type": "code",
   "execution_count": 9,
   "metadata": {},
   "outputs": [
    {
     "data": {
      "text/plain": [
       "(0.02, 0.018592213281752125, 0.46381070958573417)"
      ]
     },
     "execution_count": 9,
     "metadata": {},
     "output_type": "execute_result"
    }
   ],
   "source": [
    "np.mean(y), np.std(y), skew(y)"
   ]
  },
  {
   "cell_type": "code",
   "execution_count": 10,
   "metadata": {},
   "outputs": [
    {
     "data": {
      "text/plain": [
       "0.028094001730910059"
      ]
     },
     "execution_count": 10,
     "metadata": {},
     "output_type": "execute_result"
    }
   ],
   "source": [
    "get_valley_intensity(y)"
   ]
  },
  {
   "cell_type": "code",
   "execution_count": null,
   "metadata": {},
   "outputs": [],
   "source": []
  }
 ],
 "metadata": {
  "kernelspec": {
   "display_name": "Python 3",
   "language": "python",
   "name": "python3"
  },
  "language_info": {
   "codemirror_mode": {
    "name": "ipython",
    "version": 3
   },
   "file_extension": ".py",
   "mimetype": "text/x-python",
   "name": "python",
   "nbconvert_exporter": "python",
   "pygments_lexer": "ipython3",
   "version": "3.6.4"
  }
 },
 "nbformat": 4,
 "nbformat_minor": 2
}
