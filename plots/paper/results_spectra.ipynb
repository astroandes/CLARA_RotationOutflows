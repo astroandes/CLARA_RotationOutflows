{
 "cells": [
  {
   "cell_type": "markdown",
   "metadata": {},
   "source": [
    "# Spectra"
   ]
  },
  {
   "cell_type": "markdown",
   "metadata": {},
   "source": [
    "### Imports"
   ]
  },
  {
   "cell_type": "code",
   "execution_count": 4,
   "metadata": {
    "collapsed": true
   },
   "outputs": [],
   "source": [
    "import emcee, corner\n",
    "import numpy as np\n",
    "import matplotlib.pyplot as plt\n",
    "from model import read_data, doppler_shift, filter_by_theta, get_spectra, main\n",
    "\n",
    "% matplotlib inline"
   ]
  },
  {
   "cell_type": "code",
   "execution_count": 5,
   "metadata": {
    "collapsed": true
   },
   "outputs": [],
   "source": [
    "from mpl_toolkits.axes_grid1 import ImageGrid\n",
    "\n",
    "plt.rc('text', usetex=True)\n",
    "plt.rc('font', size=48)"
   ]
  },
  {
   "cell_type": "markdown",
   "metadata": {},
   "source": [
    "### Constants"
   ]
  },
  {
   "cell_type": "code",
   "execution_count": 6,
   "metadata": {},
   "outputs": [],
   "source": [
    "NUM_THETAS = 9\n",
    "THETAS_RANGE = np.arccos(np.linspace(1, 0, NUM_THETAS))\n",
    "THETAS_SELECTED = [0, 45, 90]\n",
    "THETAS_SELECTED_INDS = [0, 2, 7] # normal: 0-1, 2-3, 7-8\n",
    "THETAS_LINEWIDTHS = [1, 4, 4]\n",
    "THETAS_ALPHAS = [1, 0.4, 1]"
   ]
  },
  {
   "cell_type": "markdown",
   "metadata": {},
   "source": [
    "### Functions"
   ]
  },
  {
   "cell_type": "code",
   "execution_count": 7,
   "metadata": {
    "collapsed": true
   },
   "outputs": [],
   "source": [
    "def plot_grid_i(grid_i, i, vrot, vout, logtau, xmin, ymin, xmax, ymax, vlab):\n",
    "    data = read_data(vrot, vout, logtau)\n",
    "    for t in range(len(THETAS_SELECTED)):\n",
    "\n",
    "        ts = THETAS_SELECTED[t]\n",
    "        tsi = THETAS_SELECTED_INDS[t]\n",
    "        tl = THETAS_LINEWIDTHS[t]\n",
    "        ta = THETAS_ALPHAS[t]\n",
    "\n",
    "        data_theta = filter_by_theta(data, THETAS_RANGE[tsi], THETAS_RANGE[tsi+1])\n",
    "        x, y = get_spectra(data_theta, as_hist=False)\n",
    "\n",
    "        theta_lab = r'$\\theta=$ ' + '${0:.0f}$'.format(ts) + '$^\\circ$'\n",
    "\n",
    "        if i == 2:\n",
    "            grid_i.hist(x, weights=y, histtype='step', fill=False, normed=True, \n",
    "                        color='black', linewidth=tl, bins=50, alpha=ta, label=theta_lab)\n",
    "            grid_i.legend(loc='upper right')\n",
    "        else:\n",
    "            grid_i.hist(x, weights=y, histtype='step', fill=False, normed=True, \n",
    "                        color='black', linewidth=tl, bins=50, alpha=ta)\n",
    "\n",
    "    props = dict(boxstyle='square', facecolor='white')\n",
    "    logtau_lab = r'$\\tau=10$ ' + '$^{0:.0f}$'.format(logtau) \n",
    "\n",
    "    if i <= 2:\n",
    "        grid_i.text((xmin+xmax)/2, ymax*1.2, vlab, bbox=props,\n",
    "                    horizontalalignment='center', verticalalignment='center')\n",
    "    if i%3 == 2:\n",
    "        grid_i.text(xmax*1.2, (ymin+ymax)/2, logtau_lab, bbox=props, rotation=270,\n",
    "                    horizontalalignment='center', verticalalignment='center')\n",
    "    if i == 3:\n",
    "        grid_i.set_ylabel('$\\mathrm{Intensity}$ ($\\mathrm{Arbitrary}$ $\\mathrm{Units}$)')\n",
    "    if i == 7:\n",
    "        grid_i.set_xlabel('$\\mathrm{V}$ ($\\mathrm{km}$ $\\mathrm{s^{-1}}$)')\n",
    "        \n",
    "    grid_i.axvline(x=0, ymin=0, ymax=1, c='k', linestyle='--', linewidth=1)\n",
    "    grid_i.set_xlim(xmin,xmax)\n",
    "    grid_i.set_ylim(ymin,ymax)\n",
    "\n",
    "    \n",
    "def make_grid_plot_voutfixed(logtaus, vrots, vout):\n",
    "    num_rows, num_cols = len(logtaus), len(vrots)\n",
    "    fig = plt.figure(1, figsize=(35, 23))\n",
    "    grid = ImageGrid(fig, 111, # similar to subplot(111)\n",
    "                     nrows_ncols = (num_rows, num_cols), # creates num_rows x num_cols grid of axes\n",
    "                     axes_pad=0.3, # pad between axes in inch.\n",
    "                     aspect=False,)\n",
    "    xmin, xmax = -250,750\n",
    "    ymin, ymax = 0, 0.012\n",
    "    \n",
    "    i = 0 # grid cell number\n",
    "    for logtau in logtaus:\n",
    "        for vrot in vrots:\n",
    "            grid_i = grid[i]\n",
    "            vrot_lab = r'$v_{\\mathrm{rot}}=$ ' + '${0:.0f}$'.format(vrot) + ' $\\mathrm{km}$ $\\mathrm{s^{-1}}$'\n",
    "            plot_grid_i(grid_i, i, vrot, vout, logtau, xmin, ymin, xmax, ymax, vrot_lab)\n",
    "            i += 1\n",
    "\n",
    "    plt.savefig('./results/varying_rotation.pdf', format='pdf', transparent=False)\n",
    "    plt.close()\n",
    "    \n",
    "    \n",
    "def make_grid_plot_vrotfixed(logtaus, vrot, vouts):\n",
    "    num_rows, num_cols = len(logtaus), len(vouts)\n",
    "    fig = plt.figure(1, figsize=(35, 23))\n",
    "    grid = ImageGrid(fig, 111, # similar to subplot(111)\n",
    "                     nrows_ncols = (num_rows, num_cols), # creates num_rows x num_cols grid of axes\n",
    "                     axes_pad=0.3, # pad between axes in inch.\n",
    "                     aspect=False,)\n",
    "    xmin, xmax = -300,750\n",
    "    ymin, ymax = 0, 0.0125\n",
    "        \n",
    "    i = 0 # grid cell number\n",
    "    for logtau in logtaus:\n",
    "        for vout in vouts:\n",
    "            grid_i = grid[i]\n",
    "            vout_lab = r'$v_{\\mathrm{out}}=$ ' + '${0:.0f}$'.format(vout) + ' $\\mathrm{km}$ $\\mathrm{s^{-1}}$'\n",
    "            plot_grid_i(grid_i, i, vrot, vout, logtau, xmin, ymin, xmax, ymax, vout_lab)\n",
    "            #grid_i.set_xticks([-200,0,200,400,600], [-200,0,200,400,600])\n",
    "            i += 1\n",
    "\n",
    "    plt.savefig('./results/varying_outflow.pdf', format='pdf', transparent=False)#, bbox_inches=4)\n",
    "    plt.close()"
   ]
  },
  {
   "cell_type": "code",
   "execution_count": 8,
   "metadata": {
    "collapsed": true
   },
   "outputs": [],
   "source": [
    "def plot_grid_i_small(grid_i, i, vrot, vout, logtau, xmin, ymin, xmax, ymax, vlab):\n",
    "    data = read_data(vrot, vout, logtau)\n",
    "    for t in range(len(THETAS_SELECTED)):\n",
    "\n",
    "        ts = THETAS_SELECTED[t]\n",
    "        tsi = THETAS_SELECTED_INDS[t]\n",
    "        tl = THETAS_LINEWIDTHS[t]\n",
    "        ta = THETAS_ALPHAS[t]\n",
    "\n",
    "        data_theta = filter_by_theta(data, THETAS_RANGE[tsi], THETAS_RANGE[tsi+1])\n",
    "        x, y = get_spectra(data_theta, as_hist=False)\n",
    "\n",
    "        theta_lab = r'$\\theta=$ ' + '${0:.0f}$'.format(ts) + '$^\\circ$'\n",
    "\n",
    "        if i == 1:\n",
    "            grid_i.hist(x, weights=y, histtype='step', fill=False, normed=True, \n",
    "                        color='black', linewidth=tl, bins=50, alpha=ta, label=theta_lab)\n",
    "            grid_i.legend(loc='upper right')\n",
    "        else:\n",
    "            grid_i.hist(x, weights=y, histtype='step', fill=False, normed=True, \n",
    "                        color='black', linewidth=tl, bins=50, alpha=ta)\n",
    "\n",
    "    props = dict(boxstyle='square', facecolor='white')\n",
    "    logtau_lab = r'$\\tau=10$ ' + '$^{0:.0f}$'.format(logtau) \n",
    "\n",
    "    if i <= 1:\n",
    "        grid_i.text((xmin+xmax)/2, ymax*1.2, vlab, bbox=props,\n",
    "                    horizontalalignment='center', verticalalignment='center')\n",
    "    if i%2 == 1:\n",
    "        grid_i.text(xmax*1.2, (ymin+ymax)/2, logtau_lab, bbox=props, rotation=270,\n",
    "                    horizontalalignment='center', verticalalignment='center')\n",
    "    else:\n",
    "        grid_i.set_ylabel('$\\mathrm{Intensity}$ ($\\mathrm{AU}$)')\n",
    "\n",
    "    if i >= 2:\n",
    "        grid_i.set_xlabel('$\\mathrm{V}$ ($\\mathrm{km}$ $\\mathrm{s^{-1}}$)')\n",
    "        \n",
    "    grid_i.axvline(x=0, ymin=0, ymax=1, c='k', linestyle='--', linewidth=1)\n",
    "    grid_i.set_xlim(xmin,xmax)\n",
    "    grid_i.set_ylim(ymin,ymax)\n",
    "\n",
    "\n",
    "def make_grid_plot_voutfixed_small(logtaus, vrots, vout):\n",
    "    num_rows, num_cols = len(logtaus), len(vrots)\n",
    "    fig = plt.figure(1, figsize=(30, 20))\n",
    "    grid = ImageGrid(fig, 111, # similar to subplot(111)\n",
    "                     nrows_ncols = (num_rows, num_cols), # creates num_rows x num_cols grid of axes\n",
    "                     axes_pad=0.3, # pad between axes in inch.\n",
    "                     aspect=False,)\n",
    "    xmin, xmax = -200,400\n",
    "    ymin, ymax = 0, 0.011\n",
    "        \n",
    "    i = 0 # grid cell number\n",
    "    for logtau in logtaus:\n",
    "        for vrot in vrots:\n",
    "            grid_i = grid[i]\n",
    "            vrot_lab = r'$v_{\\mathrm{rot}}=$ ' + '${0:.0f}$'.format(vrot) + ' $\\mathrm{km}$ $\\mathrm{s^{-1}}$'\n",
    "            plot_grid_i_small(grid_i, i, vrot, vout, logtau, xmin, ymin, xmax, ymax, vrot_lab)\n",
    "            i += 1\n",
    "\n",
    "    plt.savefig('./results/varying_rotation_small.pdf', format='pdf', transparent=False)#, bbox_inches='tight')\n",
    "    plt.close()\n",
    "    \n",
    "    \n",
    "def make_grid_plot_vrotfixed_small(logtaus, vrot, vouts):\n",
    "    num_rows, num_cols = len(logtaus), len(vouts)\n",
    "    fig = plt.figure(1, figsize=(30, 20))\n",
    "    grid = ImageGrid(fig, 111, # similar to subplot(111)\n",
    "                     nrows_ncols = (num_rows, num_cols), # creates num_rows x num_cols grid of axes\n",
    "                     axes_pad=0.3, # pad between axes in inch.\n",
    "                     aspect=False,)\n",
    "    xmin, xmax = -200, 400\n",
    "    ymin, ymax = 0, 0.0125\n",
    "    \n",
    "    i = 0 # grid cell number\n",
    "    for logtau in logtaus:\n",
    "        for vout in vouts:\n",
    "            grid_i = grid[i]\n",
    "            vout_lab = r'$v_{\\mathrm{out}}=$ ' + '${0:.0f}$'.format(vout) + ' $\\mathrm{km}$ $\\mathrm{s^{-1}}$'\n",
    "            plot_grid_i_small(grid_i, i, vrot, vout, logtau, xmin, ymin, xmax, ymax, vout_lab)\n",
    "            #grid_i.set_xticks([-200,0,200,400,600], [-200,0,200,400,600])\n",
    "            i += 1\n",
    "\n",
    "    plt.savefig('./results/varying_outflow_small.pdf', format='pdf', transparent=False)#, bbox_inches=4)\n",
    "    plt.close()"
   ]
  },
  {
   "cell_type": "markdown",
   "metadata": {},
   "source": [
    "# Figure: varying_rotation"
   ]
  },
  {
   "cell_type": "code",
   "execution_count": 9,
   "metadata": {
    "collapsed": true,
    "scrolled": false
   },
   "outputs": [],
   "source": [
    "logtaus = [5,6,7]\n",
    "vrots = [0,50,100]\n",
    "vout = 50\n",
    "\n",
    "make_grid_plot_voutfixed(logtaus, vrots, vout)"
   ]
  },
  {
   "cell_type": "code",
   "execution_count": 10,
   "metadata": {
    "collapsed": true,
    "scrolled": false
   },
   "outputs": [],
   "source": [
    "logtaus = [5,6]\n",
    "vrots = [50,100]\n",
    "vout = 50\n",
    "\n",
    "make_grid_plot_voutfixed_small(logtaus, vrots, vout)"
   ]
  },
  {
   "cell_type": "markdown",
   "metadata": {},
   "source": [
    "# Figure: varying_outflow"
   ]
  },
  {
   "cell_type": "code",
   "execution_count": 11,
   "metadata": {
    "collapsed": true
   },
   "outputs": [],
   "source": [
    "logtaus = [5,6,7]\n",
    "vrot = 50\n",
    "vouts = [25,50,75]\n",
    "\n",
    "make_grid_plot_vrotfixed(logtaus, vrot, vouts)"
   ]
  },
  {
   "cell_type": "code",
   "execution_count": 12,
   "metadata": {},
   "outputs": [],
   "source": [
    "logtaus = [5,6]\n",
    "vrot = 50\n",
    "vouts = [25,75]\n",
    "\n",
    "make_grid_plot_vrotfixed_small(logtaus, vrot, vouts)"
   ]
  },
  {
   "cell_type": "code",
   "execution_count": null,
   "metadata": {},
   "outputs": [],
   "source": []
  }
 ],
 "metadata": {
  "kernelspec": {
   "display_name": "Python 3",
   "language": "python",
   "name": "python3"
  },
  "language_info": {
   "codemirror_mode": {
    "name": "ipython",
    "version": 3
   },
   "file_extension": ".py",
   "mimetype": "text/x-python",
   "name": "python",
   "nbconvert_exporter": "python",
   "pygments_lexer": "ipython3",
   "version": "3.6.4"
  }
 },
 "nbformat": 4,
 "nbformat_minor": 2
}
