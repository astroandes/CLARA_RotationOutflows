{
 "cells": [
  {
   "cell_type": "markdown",
   "metadata": {},
   "source": [
    "# Spectra"
   ]
  },
  {
   "cell_type": "markdown",
   "metadata": {},
   "source": [
    "## Imports"
   ]
  },
  {
   "cell_type": "code",
   "execution_count": 2,
   "metadata": {
    "collapsed": true
   },
   "outputs": [],
   "source": [
    "import math\n",
    "\n",
    "import pandas as pd\n",
    "import numpy as np\n",
    "import matplotlib.pyplot as plt"
   ]
  },
  {
   "cell_type": "code",
   "execution_count": 3,
   "metadata": {},
   "outputs": [],
   "source": [
    "from mpl_toolkits.axes_grid1 import ImageGrid\n",
    "\n",
    "plt.rc('text', usetex=True)\n",
    "plt.rc('font', size=48)"
   ]
  },
  {
   "cell_type": "markdown",
   "metadata": {},
   "source": [
    "## Constants"
   ]
  },
  {
   "cell_type": "code",
   "execution_count": 4,
   "metadata": {
    "collapsed": true
   },
   "outputs": [],
   "source": [
    "v_th = -12.8"
   ]
  },
  {
   "cell_type": "markdown",
   "metadata": {},
   "source": [
    "## Parameters"
   ]
  },
  {
   "cell_type": "code",
   "execution_count": 5,
   "metadata": {},
   "outputs": [
    {
     "name": "stdout",
     "output_type": "stream",
     "text": [
      "[  0.          27.26604445  38.94244127  48.1896851   56.2510114\n",
      "  63.61220004  70.52877937  77.16041159  83.62062979  90.        ]\n",
      "[ 180.          152.73395555  141.05755873  131.8103149   123.7489886\n",
      "  116.38779996  109.47122063  102.83958841   96.37937021   90.        ]\n"
     ]
    }
   ],
   "source": [
    "# Thetas\n",
    "\n",
    "num_thetas = 9\n",
    "cos_thetas = np.linspace(0,1,num_thetas+1) \n",
    "cos_thetas_plus = np.linspace(-1,0,num_thetas+1) \n",
    "\n",
    "thetas = np.sort(np.array([np.arccos(ct) for ct in cos_thetas]))\n",
    "thetas_plus = np.array([np.arccos(ctp) for ctp in cos_thetas_plus])\n",
    "\n",
    "print(np.rad2deg(thetas))\n",
    "print(np.rad2deg(thetas_plus))"
   ]
  },
  {
   "cell_type": "code",
   "execution_count": 6,
   "metadata": {
    "collapsed": true
   },
   "outputs": [],
   "source": [
    "# Selected thetas: 0, 45, 90\n",
    "\n",
    "thetas_selected = [0, 45, 90]\n",
    "thetas_selected_inds = [0, 2, 8] # normal: 0-1, 2-3, 8-9   plus: 1-0, 3-2, 9-8\n",
    "thetas_linestyles = ['-', '-.', ':']"
   ]
  },
  {
   "cell_type": "markdown",
   "metadata": {},
   "source": [
    "## Functions"
   ]
  },
  {
   "cell_type": "code",
   "execution_count": 7,
   "metadata": {
    "collapsed": true
   },
   "outputs": [],
   "source": [
    "def read_data(vrot, vout, logtau):\n",
    "    \n",
    "    df_directory = '../../data/tau10E'+str(logtau)+'/vrot'+str(vrot)+'/vout'+str(vout)+'/'\n",
    "    df_fname = 'tau10E'+str(logtau)+'_vrot'+str(vrot)+'_vout'+str(vout)+'_out.ascii'\n",
    "    df = pd.read_csv(df_directory+df_fname, delimiter=' ')\n",
    "    \n",
    "    escaped = df['escaped']\n",
    "    x_frec = df['x_frec']\n",
    "    z_u = df['z_u']\n",
    "\n",
    "    inds = np.where(escaped == 0)[0]\n",
    "\n",
    "    x_frec_escaped = np.array(x_frec)[inds]\n",
    "    z_u_escaped = np.array(z_u)[inds]\n",
    "\n",
    "    return x_frec_escaped, z_u_escaped\n",
    "\n",
    "\n",
    "def get_histogram(x):\n",
    "    \n",
    "    n, b = np.histogram(x, bins=40)        \n",
    "    delta_x = b[1]-b[0]\n",
    "    area = delta_x * sum(n)\n",
    "    n = n/area\n",
    "\n",
    "    border_x = []\n",
    "    border_y = []\n",
    "\n",
    "    for j in range(len(n)-1):\n",
    "        border_x.append(b[j]+delta_x/2)\n",
    "        border_x.append(b[j]+delta_x/2)\n",
    "        border_y.append(n[j])\n",
    "        border_y.append(n[j+1])\n",
    "        \n",
    "    #return b[0:40], n, border_x, border_y\n",
    "    return border_x, border_y"
   ]
  },
  {
   "cell_type": "code",
   "execution_count": 14,
   "metadata": {
    "collapsed": true
   },
   "outputs": [],
   "source": [
    "def make_grid_plot_voutfixed(logtaus, vrots, vout):\n",
    "    \n",
    "    num_rows, num_cols = len(logtaus), len(vrots)\n",
    "    \n",
    "    fig = plt.figure(1, figsize=(30, 20))\n",
    "    grid = ImageGrid(fig, 111, # similar to subplot(111)\n",
    "                     nrows_ncols = (num_rows, num_cols), # creates num_rows x num_cols grid of axes\n",
    "                     axes_pad=0.3, # pad between axes in inch.\n",
    "                     aspect=False,)\n",
    "    props = dict(boxstyle='square', facecolor='white')\n",
    "    \n",
    "    i = 0 # grid cell number\n",
    "    for logtau in logtaus:\n",
    "        for vrot in vrots:\n",
    "\n",
    "            x_frec, z_u = read_data(vrot, vout, logtau)\n",
    "            acos_z_u = np.array([np.arccos(z) for z in z_u])\n",
    "            \n",
    "            grid_i = grid[i]\n",
    "            \n",
    "            for t in range(len(thetas_selected)):\n",
    "                \n",
    "                ts = thetas_selected[t]\n",
    "                tsi = thetas_selected_inds[t]\n",
    "                tl = thetas_linestyles[t]\n",
    "                                \n",
    "                theta_low = thetas[tsi]\n",
    "                theta_up = thetas[tsi+1]\n",
    "                theta_plus_low = thetas_plus[tsi+1]\n",
    "                theta_plus_up = thetas_plus[tsi]\n",
    "                \n",
    "                #only the ones between those upper and lower angles\n",
    "                angle_indices = np.where( ((acos_z_u >= theta_low) & (acos_z_u < theta_up)) | \n",
    "                                          ((acos_z_u >= theta_plus_low) & (acos_z_u < theta_plus_up)) )[0]\n",
    "                \n",
    "                x = x_frec[angle_indices] * v_th\n",
    "                \n",
    "                border_x, border_y = get_histogram(x)\n",
    "                \n",
    "                theta_lab = r'$\\theta=$ ' + '${0:.0f}$'.format(ts) + '$^\\circ$'\n",
    "                \n",
    "                if i == 6:\n",
    "                    grid_i.plot(border_x, border_y, c='k', linewidth=1, linestyle=tl, label=theta_lab)\n",
    "                    grid_i.legend(loc='upper right')\n",
    "                else:\n",
    "                    grid_i.plot(border_x, border_y, c='k', linewidth=1, linestyle=tl)\n",
    "            \n",
    "            grid_i.axvline(x=0, ymin=0, ymax=1, c='k', linestyle='--', linewidth=1)\n",
    "            \n",
    "            xmin, xmax = -250,750\n",
    "            ymin, ymax = 0, 0.012\n",
    "            grid_i.set_xlim(xmin,xmax)\n",
    "            grid_i.set_ylim(ymin,ymax)\n",
    "            \n",
    "            logtau_lab = r'$\\tau=10$ ' + '$^{0:.0f}$'.format(logtau) \n",
    "            vrot_lab = r'$v_{\\mathrm{rot}}=$ ' + '${0:.0f}$'.format(vrot) + ' $\\mathrm{km}$ $\\mathrm{s^{-1}}$'\n",
    "            \n",
    "            if i <= 2:\n",
    "                grid_i.text((xmin+xmax)/2, ymax*1.2, vrot_lab, bbox=props,\n",
    "                            horizontalalignment='center', verticalalignment='center')\n",
    "            if i%3 == 2:\n",
    "                grid_i.text(xmax*1.2, (ymin+ymax)/2, logtau_lab, bbox=props, rotation=270,\n",
    "                            horizontalalignment='center', verticalalignment='center')\n",
    "            if i == 3:\n",
    "                grid_i.set_ylabel('$\\mathrm{Intensity}$')\n",
    "            if i == 7:\n",
    "                grid_i.set_xlabel('$\\mathrm{V}$ ($\\mathrm{km}$ $\\mathrm{s^{-1}}$)')\n",
    "            \n",
    "            i += 1\n",
    "\n",
    "    plt.savefig('./results/varying_rotation.png', format='png', transparent=False)#, bbox_inches='tight')\n",
    "    plt.close()\n",
    "    \n",
    "    \n",
    "def make_grid_plot_vrotfixed(logtaus, vrot, vouts):\n",
    "    \n",
    "    num_rows, num_cols = len(logtaus), len(vouts)\n",
    "    \n",
    "    fig = plt.figure(1, figsize=(30, 20))\n",
    "    grid = ImageGrid(fig, 111, # similar to subplot(111)\n",
    "                     nrows_ncols = (num_rows, num_cols), # creates num_rows x num_cols grid of axes\n",
    "                     axes_pad=0.3, # pad between axes in inch.\n",
    "                     aspect=False,)\n",
    "    props = dict(boxstyle='square', facecolor='white')\n",
    "    \n",
    "    i = 0 # grid cell number\n",
    "    for logtau in logtaus:\n",
    "        for vout in vouts:\n",
    "\n",
    "            x_frec, z_u = read_data(vrot, vout, logtau)\n",
    "            acos_z_u = np.array([np.arccos(z) for z in z_u])\n",
    "            \n",
    "            grid_i = grid[i]\n",
    "            \n",
    "            for t in range(len(thetas_selected)):\n",
    "                \n",
    "                ts = thetas_selected[t]\n",
    "                tsi = thetas_selected_inds[t]\n",
    "                tl = thetas_linestyles[t]\n",
    "                                \n",
    "                theta_low = thetas[tsi]\n",
    "                theta_up = thetas[tsi+1]\n",
    "                theta_plus_low = thetas_plus[tsi+1]\n",
    "                theta_plus_up = thetas_plus[tsi]\n",
    "                \n",
    "                #only the ones between those upper and lower angles\n",
    "                angle_indices = np.where( ((acos_z_u >= theta_low) & (acos_z_u < theta_up)) | \n",
    "                                          ((acos_z_u >= theta_plus_low) & (acos_z_u < theta_plus_up)) )[0]\n",
    "                \n",
    "                x = x_frec[angle_indices] * v_th\n",
    "                \n",
    "                border_x, border_y = get_histogram(x)\n",
    "                \n",
    "                theta_lab = r'$\\theta=$ ' + '${0:.0f}$'.format(ts) + '$^\\circ$'\n",
    "                \n",
    "                if i == 6:\n",
    "                    grid_i.plot(border_x, border_y, c='k', linewidth=1, linestyle=tl, label=theta_lab)\n",
    "                    grid_i.legend(loc='upper right')\n",
    "                else:\n",
    "                    grid_i.plot(border_x, border_y, c='k', linewidth=1, linestyle=tl)\n",
    "                \n",
    "            grid_i.axvline(x=0, ymin=0, ymax=1, c='k', linestyle='--', linewidth=1)\n",
    "            \n",
    "            #grid_i.set_xticks([-200,0,200,400,600], [-200,0,200,400,600])\n",
    "            \n",
    "            xmin, xmax = -300,750\n",
    "            ymin, ymax = 0, 0.0125\n",
    "            grid_i.set_xlim(xmin,xmax)\n",
    "            grid_i.set_ylim(ymin,ymax)\n",
    "            \n",
    "            logtau_lab = r'$\\tau=10$ ' + '$^{0:.0f}$'.format(logtau) \n",
    "            vout_lab = r'$v_{\\mathrm{out}}=$ ' + '${0:.0f}$'.format(vout) + ' $\\mathrm{km}$ $\\mathrm{s^{-1}}$'\n",
    "            \n",
    "            if i <= 2:\n",
    "                grid_i.text((xmin+xmax)/2, ymax*1.2, vout_lab, bbox=props,\n",
    "                            horizontalalignment='center', verticalalignment='center')\n",
    "            if i%3 == 2:\n",
    "                grid_i.text(xmax*1.2, (ymin+ymax)/2, logtau_lab, bbox=props, rotation=270,\n",
    "                            horizontalalignment='center', verticalalignment='center')\n",
    "            if i == 3:\n",
    "                grid_i.set_ylabel('$\\mathrm{Intensity}$')\n",
    "            if i == 7:\n",
    "                grid_i.set_xlabel('$\\mathrm{V}$ ($\\mathrm{km}$ $\\mathrm{s^{-1}}$)')\n",
    "            \n",
    "            i += 1\n",
    "\n",
    "    plt.savefig('./results/varying_outflow.png', format='png', transparent=False)#, bbox_inches=4)\n",
    "    plt.close()"
   ]
  },
  {
   "cell_type": "markdown",
   "metadata": {},
   "source": [
    "# Figure: varying_rotation"
   ]
  },
  {
   "cell_type": "code",
   "execution_count": 15,
   "metadata": {
    "collapsed": true,
    "scrolled": false
   },
   "outputs": [],
   "source": [
    "logtaus = [5,6,7]\n",
    "vrots = [0,50,100]\n",
    "vout = 50\n",
    "\n",
    "make_grid_plot_voutfixed(logtaus, vrots, vout)"
   ]
  },
  {
   "cell_type": "markdown",
   "metadata": {},
   "source": [
    "# Figure: varying_outflow"
   ]
  },
  {
   "cell_type": "code",
   "execution_count": 16,
   "metadata": {
    "collapsed": true
   },
   "outputs": [],
   "source": [
    "logtaus = [5,6,7]\n",
    "vrot = 50\n",
    "vouts = [25,50,75]\n",
    "\n",
    "make_grid_plot_vrotfixed(logtaus, vrot, vouts)"
   ]
  },
  {
   "cell_type": "code",
   "execution_count": null,
   "metadata": {
    "collapsed": true
   },
   "outputs": [],
   "source": []
  }
 ],
 "metadata": {
  "kernelspec": {
   "display_name": "Python 3",
   "language": "python",
   "name": "python3"
  },
  "language_info": {
   "codemirror_mode": {
    "name": "ipython",
    "version": 3
   },
   "file_extension": ".py",
   "mimetype": "text/x-python",
   "name": "python",
   "nbconvert_exporter": "python",
   "pygments_lexer": "ipython3",
   "version": "3.6.1"
  }
 },
 "nbformat": 4,
 "nbformat_minor": 1
}
