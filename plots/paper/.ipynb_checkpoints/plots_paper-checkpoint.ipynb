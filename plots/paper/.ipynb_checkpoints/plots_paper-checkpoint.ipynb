{
 "cells": [
  {
   "cell_type": "code",
   "execution_count": 1,
   "metadata": {
    "collapsed": false
   },
   "outputs": [
    {
     "name": "stderr",
     "output_type": "stream",
     "text": [
      "/home/mcrg/Software/anaconda3/lib/python3.5/site-packages/matplotlib/__init__.py:913: UserWarning: text.fontsize is deprecated and replaced with font.size; please use the latter.\n",
      "  warnings.warn(self.msg_depr % (key, alt_key))\n"
     ]
    }
   ],
   "source": [
    "import math\n",
    "import pandas as pd\n",
    "from numpy import *\n",
    "from matplotlib.pyplot import * \n",
    "from mpl_toolkits.axes_grid1 import ImageGrid\n",
    "from scipy.stats import skew\n",
    "\n",
    "rc('text', usetex=True, fontsize=20)"
   ]
  },
  {
   "cell_type": "code",
   "execution_count": 2,
   "metadata": {
    "collapsed": false
   },
   "outputs": [],
   "source": [
    "num_thetas = 9\n",
    "cos_thetas = linspace(0,1,num_thetas+1) \n",
    "cos_thetas_plus = linspace(-1,0,num_thetas+1) \n",
    "\n",
    "thetas = sort(array([arccos(ct) for ct in cos_thetas]))\n",
    "thetas_plus = array([arccos(ctp) for ctp in cos_thetas_plus])"
   ]
  },
  {
   "cell_type": "code",
   "execution_count": 3,
   "metadata": {
    "collapsed": false
   },
   "outputs": [
    {
     "name": "stdout",
     "output_type": "stream",
     "text": [
      "[ 0.          0.47588225  0.67967382  0.84106867  0.98176536  1.11024234\n",
      "  1.23095942  1.34670323  1.45945531  1.57079633]\n",
      "[ 3.14159265  2.6657104   2.46191883  2.30052398  2.1598273   2.03135032\n",
      "  1.91063324  1.79488942  1.68213734  1.57079633]\n",
      "[  0.          27.26604445  38.94244127  48.1896851   56.2510114\n",
      "  63.61220004  70.52877937  77.16041159  83.62062979  90.        ]\n",
      "[ 180.          152.73395555  141.05755873  131.8103149   123.7489886\n",
      "  116.38779996  109.47122063  102.83958841   96.37937021   90.        ]\n"
     ]
    }
   ],
   "source": [
    "print(thetas)\n",
    "print(thetas_plus)\n",
    "print(rad2deg(thetas))\n",
    "print(rad2deg(thetas_plus))"
   ]
  },
  {
   "cell_type": "code",
   "execution_count": 4,
   "metadata": {
    "collapsed": true
   },
   "outputs": [],
   "source": [
    "thetas_3l = [thetas[0], thetas[2], thetas[8]]\n",
    "thetas_3u = [thetas[1], thetas[3], thetas[9]]\n",
    "\n",
    "thetas_plus_3l = [thetas_plus[1], thetas_plus[3], thetas_plus[9]]\n",
    "thetas_plus_3u = [thetas_plus[0], thetas_plus[2], thetas_plus[8]]"
   ]
  },
  {
   "cell_type": "code",
   "execution_count": 4,
   "metadata": {
    "collapsed": false
   },
   "outputs": [
    {
     "name": "stderr",
     "output_type": "stream",
     "text": [
      "/home/mcrg/Software/anaconda3/lib/python3.5/site-packages/IPython/core/interactiveshell.py:2717: DtypeWarning: Columns (0,1,2,3,4,5,6,7,8) have mixed types. Specify dtype option on import or set low_memory=False.\n",
      "  interactivity=interactivity, compiler=compiler, result=result)\n"
     ]
    }
   ],
   "source": [
    "### --------------- tau10E5 --------------- ###\n",
    "\n",
    "vrots = [50,100]\n",
    "vouts = [5,25]\n",
    "\n",
    "all_x_frec = []\n",
    "all_z_u = []\n",
    "vrot_labs = []\n",
    "vout_labs = []\n",
    "\n",
    "for vout in vouts:\n",
    "    for vrot in vrots:\n",
    "        df = pd.read_csv('../../data/tau10E5/vrot'+str(vrot)+'/vout'+str(vout)+'/tau10E5_vrot'+str(vrot)+'_vout'+str(vout)+'_out.ascii', delimiter=' ')\n",
    "        \n",
    "        escaped = df['escaped']\n",
    "        x_frec = df['x_frec']\n",
    "        z_u = df['z_u']\n",
    "        \n",
    "        inds = where(escaped == 0)[0]\n",
    "        \n",
    "        x_frec_escaped = array(x_frec)[inds]\n",
    "        z_u_escaped = array(z_u)[inds]\n",
    "        \n",
    "        all_x_frec.append(x_frec_escaped)\n",
    "        all_z_u.append(z_u_escaped)\n",
    "              \n",
    "        vrot_labs.append(vrot)\n",
    "        vout_labs.append(vout)"
   ]
  },
  {
   "cell_type": "code",
   "execution_count": 18,
   "metadata": {
    "collapsed": false,
    "scrolled": false
   },
   "outputs": [
    {
     "name": "stdout",
     "output_type": "stream",
     "text": [
      "0.00850901093817\n",
      "0.0061480124257\n",
      "0.00978243802796\n",
      "0.00704221645643\n"
     ]
    }
   ],
   "source": [
    "#info_file = open('info_tau10E5.dat','w') \n",
    "#info_file.write('vrot\\tvout\\ttheta_lower\\ttheta_upper\\tstd\\tskw\\n') # if skw > 0 there is more weight in the left tail of the distribution\n",
    "\n",
    "v_th = -12.8\n",
    "\n",
    "fig = figure(1, (14., 8.))\n",
    "grid = ImageGrid(fig, 111, # similar to subplot(111)\n",
    "                nrows_ncols = (2, 2), # creates 2x2 grid of axes\n",
    "                axes_pad=0.3, # pad between axes in inch.\n",
    "                aspect=False,)\n",
    "\n",
    "props = dict(boxstyle='square', facecolor='white')\n",
    "\n",
    "theta_lower = thetas[-2]\n",
    "theta_upper = thetas[-1]\n",
    "\n",
    "theta_plus_lower = thetas_plus[-1]\n",
    "theta_plus_upper = thetas_plus[-2]\n",
    "\n",
    "for i in range(4):\n",
    "\n",
    "    current_z_u = all_z_u[i]\n",
    "    current_x_frec = all_x_frec[i]\n",
    "\n",
    "    acos_current_z_u = array([arccos(czu) for czu in current_z_u])\n",
    "\n",
    "    angle_indices = where( ((acos_current_z_u >= theta_lower) & (acos_current_z_u < theta_upper)) | ((acos_current_z_u >= theta_plus_lower) & (acos_current_z_u < theta_plus_upper)))[0]\n",
    "\n",
    "    current_x = current_x_frec[angle_indices] #only the ones between those upper and lower angles\n",
    "    current_x = current_x*v_th\n",
    "\n",
    "    vrot_lab = r'${0:.0f}$'.format(vrot_labs[i])\n",
    "    vout_lab = r'${0:.0f}$'.format(vout_labs[i])\n",
    "    theta_lower_lab = r'${0:.0f}$'.format(int(rad2deg(theta_lower)))\n",
    "    theta_upper_lab = r'${0:.0f}$'.format(int(rad2deg(theta_upper)))\n",
    "\n",
    "    theta_lab = r'$\\theta=$ '\n",
    "    lab = '$v_{out}=$ '+vout_lab+' $\\mathrm{km}$ $\\mathrm{s^{-1}}$'\n",
    "    lab_upper = '$v_{rot}=$ '+vrot_lab+' $\\mathrm{km}$ $\\mathrm{s^{-1}}$'\n",
    "\n",
    "    grid_i = grid[i]\n",
    "\n",
    "    n, b = histogram(current_x, bins=40)        \n",
    "    delta_x = b[1]-b[0]\n",
    "    area = delta_x * sum(n)\n",
    "    n = n/area\n",
    "    \n",
    "    print(max(n))\n",
    "    \n",
    "    border_x = []\n",
    "    border_y = []\n",
    "\n",
    "    for j in range(len(n)-1):\n",
    "        border_x.append(b[j]+delta_x/2)\n",
    "        border_x.append(b[j]+delta_x/2)\n",
    "        border_y.append(n[j])\n",
    "        border_y.append(n[j+1])\n",
    "        \n",
    "    grid_i.bar(b[0:40], n, width=delta_x, color='c', edgecolor=None, alpha = 1)\n",
    "    grid_i.plot(border_x, border_y, c='k', linewidth=1)\n",
    "\n",
    "    #grid_i.hist(current_x, bins=30, histtype='stepfilled', color='c')\n",
    "\n",
    "    grid_i.axvline(x=0, ymin=0, ymax=1, c='k', linestyle='--', linewidth=1)\n",
    "    grid_i.set_xlim(-200,250)\n",
    "    grid_i.set_ylim(0,0.01)\n",
    "    grid_i.set_ylabel('$\\mathrm{Intensity}$')\n",
    "    grid_i.set_xlabel('$\\mathrm{V}$ ($\\mathrm{km}$ $\\mathrm{s^{-1}}$)')\n",
    "    grid_i.text(-180,0.0085, lab, fontsize=20, bbox=props)\n",
    "    if (i==0 or i==1):\n",
    "        grid_i.text(-70,0.011, lab_upper, fontsize=20, bbox=props)\n",
    "\n",
    "    #info_file.write(str(vrot_labs[i])+'\\t'+str(vout_labs[i])+'\\t'+str(theta_lower)+'\\t'+str(theta_upper)+'\\t'+str(std(current_x))+'\\t'+str(skew(current_x))+'\\n')\n",
    "\n",
    "savefig('./tau10E5_phi'+str(int(rad2deg(theta_lower)))+'-'+str(int(rad2deg(theta_upper)))+'.png', format='png', transparent=False, bbox_inches='tight')\n",
    "close()\n",
    "    \n",
    "#info_file.close()"
   ]
  },
  {
   "cell_type": "code",
   "execution_count": null,
   "metadata": {
    "collapsed": true
   },
   "outputs": [],
   "source": []
  },
  {
   "cell_type": "code",
   "execution_count": null,
   "metadata": {
    "collapsed": true
   },
   "outputs": [],
   "source": []
  },
  {
   "cell_type": "code",
   "execution_count": 25,
   "metadata": {
    "collapsed": false
   },
   "outputs": [
    {
     "name": "stderr",
     "output_type": "stream",
     "text": [
      "/home/mcrg/Software/anaconda3/lib/python3.5/site-packages/IPython/core/interactiveshell.py:2717: DtypeWarning: Columns (0,1,2,3,4,5,6,7,8) have mixed types. Specify dtype option on import or set low_memory=False.\n",
      "  interactivity=interactivity, compiler=compiler, result=result)\n"
     ]
    }
   ],
   "source": [
    "all_x_frec = []\n",
    "all_z_u = []\n",
    "vrot_labs = []\n",
    "vout_labs = []\n",
    "\n",
    "#Influence theta tau10E5\n",
    "\n",
    "vrot = 50\n",
    "vout = 20\n",
    "\n",
    "df = pd.read_csv('../../data/tau10E5/vrot'+str(vrot)+'/vout'+str(vout)+'/tau10E5_vrot'+str(vrot)+'_vout'+str(vout)+'_out.ascii', delimiter=' ')\n",
    "        \n",
    "escaped = df['escaped']\n",
    "x_frec = df['x_frec']\n",
    "z_u = df['z_u']\n",
    "\n",
    "inds = where(escaped == 0)[0]\n",
    "\n",
    "x_frec_escaped = array(x_frec)[inds]\n",
    "z_u_escaped = array(z_u)[inds]\n",
    "\n",
    "all_x_frec.append(x_frec_escaped)\n",
    "all_z_u.append(z_u_escaped)\n",
    "\n",
    "vrot_labs.append(vrot)\n",
    "vout_labs.append(vout)   \n",
    "\n",
    "#Influence theta tau10E6\n",
    "\n",
    "vrot = 100\n",
    "vout = 5\n",
    "\n",
    "df = pd.read_csv('../../data/tau10E6/vrot'+str(vrot)+'/vout'+str(vout)+'/tau10E6_vrot'+str(vrot)+'_vout'+str(vout)+'_out.ascii', delimiter=' ')\n",
    "        \n",
    "escaped = df['escaped']\n",
    "x_frec = df['x_frec']\n",
    "z_u = df['z_u']\n",
    "\n",
    "inds = where(escaped == 0)[0]\n",
    "\n",
    "x_frec_escaped = array(x_frec)[inds]\n",
    "z_u_escaped = array(z_u)[inds]\n",
    "\n",
    "all_x_frec.append(x_frec_escaped)\n",
    "all_z_u.append(z_u_escaped)\n",
    "\n",
    "vrot_labs.append(vrot)\n",
    "vout_labs.append(vout)   \n",
    "\n",
    "#Influence theta tau10E7\n",
    "\n",
    "vrot = 100\n",
    "vout = 15\n",
    "\n",
    "df = pd.read_csv('../../data/tau10E7/vrot'+str(vrot)+'/vout'+str(vout)+'/tau10E7_vrot'+str(vrot)+'_vout'+str(vout)+'_out.ascii', delimiter=' ')\n",
    "        \n",
    "escaped = df['escaped']\n",
    "x_frec = df['x_frec']\n",
    "z_u = df['z_u']\n",
    "\n",
    "inds = where(escaped == 0)[0]\n",
    "\n",
    "x_frec_escaped = array(x_frec)[inds]\n",
    "z_u_escaped = array(z_u)[inds]\n",
    "\n",
    "all_x_frec.append(x_frec_escaped)\n",
    "all_z_u.append(z_u_escaped)\n",
    "\n",
    "vrot_labs.append(vrot)\n",
    "vout_labs.append(vout) "
   ]
  },
  {
   "cell_type": "code",
   "execution_count": 26,
   "metadata": {
    "collapsed": false
   },
   "outputs": [
    {
     "data": {
      "text/plain": [
       "3"
      ]
     },
     "execution_count": 26,
     "metadata": {},
     "output_type": "execute_result"
    }
   ],
   "source": [
    "len(all_z_u)"
   ]
  },
  {
   "cell_type": "code",
   "execution_count": 32,
   "metadata": {
    "collapsed": false
   },
   "outputs": [
    {
     "name": "stdout",
     "output_type": "stream",
     "text": [
      "0.0943119754895\n",
      "0.0860178895689\n",
      "0.0884010876053\n",
      "0.0824650458634\n",
      "0.068669527897\n",
      "0.0624105865522\n",
      "0.0886434179295\n",
      "0.0914880258319\n",
      "0.0939068100358\n"
     ]
    }
   ],
   "source": [
    "v_th = -12.8\n",
    "\n",
    "fig = figure(1, (16., 16.))\n",
    "grid = ImageGrid(fig, 111, # similar to subplot(111)\n",
    "                nrows_ncols = (3, 3), # creates 2x2 grid of axes\n",
    "                axes_pad=0.3, # pad between axes in inch.\n",
    "                aspect=False,)\n",
    "\n",
    "props = dict(boxstyle='square', facecolor='white')\n",
    "\n",
    "for i in range(9):\n",
    "    \n",
    "    theta_lower = thetas_3l[i%3]\n",
    "    theta_upper = thetas_3u[i%3]\n",
    "\n",
    "    theta_plus_lower = thetas_plus_3l[i%3]\n",
    "    theta_plus_upper = thetas_plus_3u[i%3]\n",
    "    \n",
    "    i_3_int = int(i/3)\n",
    "    \n",
    "    current_z_u = all_z_u[i_3_int]\n",
    "    current_x_frec = all_x_frec[i_3_int]\n",
    "\n",
    "    acos_current_z_u = array([arccos(czu) for czu in current_z_u])\n",
    "\n",
    "    angle_indices = where( ((acos_current_z_u >= theta_lower) & (acos_current_z_u < theta_upper)) | ((acos_current_z_u >= theta_plus_lower) & (acos_current_z_u < theta_plus_upper)))[0]\n",
    "\n",
    "    current_x = current_x_frec[angle_indices] #only the ones between those upper and lower angles\n",
    "    current_x = current_x*v_th\n",
    "\n",
    "    vrot_lab = r'${0:.0f}$'.format(vrot_labs[i_3_int])\n",
    "    vout_lab = r'${0:.0f}$'.format(vout_labs[i_3_int])\n",
    "    theta_lower_lab = r'${0:.0f}$'.format(int(rad2deg(theta_lower)))\n",
    "    theta_upper_lab = r'${0:.0f}$'.format(int(rad2deg(theta_upper)))\n",
    "\n",
    "    theta_lab = r'$\\theta=$ '\n",
    "    lab_upper = '$v_{out}=$ '+vout_lab+' $\\mathrm{km}$ $\\mathrm{s^{-1}}$'\n",
    "    lab = '$v_{rot}=$ '+vrot_lab+' $\\mathrm{km}$ $\\mathrm{s^{-1}}$'\n",
    "\n",
    "    grid_i = grid[i]\n",
    "\n",
    "    n, b = histogram(current_x, bins=40)        \n",
    "    delta_x = b[1]-b[0]\n",
    "    n = n/delta_x\n",
    "    sum_n = sum(n)\n",
    "    n = n/sum_n\n",
    "    \n",
    "    print(max(n))\n",
    "    \n",
    "    border_x = []\n",
    "    border_y = []\n",
    "\n",
    "    for j in range(len(n)-1):\n",
    "        border_x.append(b[j]+delta_x/2)\n",
    "        border_x.append(b[j]+delta_x/2)\n",
    "        border_y.append(n[j])\n",
    "        border_y.append(n[j+1])\n",
    "        \n",
    "    grid_i.bar(b[0:40], n, width=delta_x, color='c', edgecolor=None, alpha = 0.4)\n",
    "    grid_i.plot(border_x, border_y, c='k', linewidth=1)\n",
    "\n",
    "    grid_i.axvline(x=0, ymin=0, ymax=1, c='k', linestyle='--', linewidth=1)\n",
    "    grid_i.set_xlim(-300,400)\n",
    "    grid_i.set_ylim(0,0.1)\n",
    "    grid_i.set_ylabel('$\\mathrm{Intensity}$')\n",
    "    grid_i.set_xlabel('$\\mathrm{V}$ ($\\mathrm{km}$ $\\mathrm{s^{-1}}$)')\n",
    "    grid_i.text(-170,0.07, lab, fontsize=20, bbox=props)\n",
    "    #if (i==0 or i==1):\n",
    "    #    grid_i.text(-70,0.1, lab_upper, fontsize=20, bbox=props)\n",
    "\n",
    "savefig('./angles.png', format='png', transparent=False, bbox_inches='tight')\n",
    "close()"
   ]
  },
  {
   "cell_type": "code",
   "execution_count": 25,
   "metadata": {
    "collapsed": false
   },
   "outputs": [],
   "source": [
    "labbb = '$v_{rot}=$ $50$ $\\mathrm{km}$ $\\mathrm{s^{-1}} \\quad$   $v_{out}=$ $20$ $\\mathrm{km}$ $\\mathrm{s^{-1}}$'\n",
    "\n",
    "fig = figure(figsize=(16,8))\n",
    "plot(ones(5))\n",
    "text(6,1.5,labbb, fontsize=20, bbox=props, rotation=270)\n",
    "xlim(0,8)\n",
    "ylim(0,2)\n",
    "#savefig(\"./1.png\")\n",
    "close()"
   ]
  },
  {
   "cell_type": "code",
   "execution_count": null,
   "metadata": {
    "collapsed": true
   },
   "outputs": [],
   "source": []
  }
 ],
 "metadata": {
  "kernelspec": {
   "display_name": "Python [conda root]",
   "language": "python",
   "name": "conda-root-py"
  },
  "language_info": {
   "codemirror_mode": {
    "name": "ipython",
    "version": 3
   },
   "file_extension": ".py",
   "mimetype": "text/x-python",
   "name": "python",
   "nbconvert_exporter": "python",
   "pygments_lexer": "ipython3",
   "version": "3.5.2"
  }
 },
 "nbformat": 4,
 "nbformat_minor": 0
}
