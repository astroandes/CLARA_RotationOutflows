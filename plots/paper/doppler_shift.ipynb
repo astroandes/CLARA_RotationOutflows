{
 "cells": [
  {
   "cell_type": "markdown",
   "metadata": {},
   "source": [
    "# Doppler Shift\n",
    "\n",
    "We take $v_{out}$ with $v_{rot_0} = 0$ km/s. Then we Doppler shift it to reproduce $v_{out}$ with $v_{rot}$. The combinations for each of the 3 taus are:\n",
    "\n",
    "* $v_{rot} = 50$ km/s and $v_{out} = 25$ km/s\n",
    "* $v_{rot} = 50$ km/s and $v_{out} = 50$ km/s\n",
    "* $v_{rot} = 50$ km/s and $v_{out} = 75$ km/s -> data vout=75?\n",
    "* $v_{rot} = 100$ km/s and $v_{out} = 25$ km/s\n",
    "* $v_{rot} = 100$ km/s and $v_{out} = 50$ km/s\n",
    "* $v_{rot} = 100$ km/s and $v_{out} = 75$ km/s -> data vout=75?"
   ]
  },
  {
   "cell_type": "markdown",
   "metadata": {},
   "source": [
    "This is an example:\n",
    "\n",
    "![example](../../paper/figures/rotation_doppler_outflow.png)"
   ]
  },
  {
   "cell_type": "markdown",
   "metadata": {},
   "source": [
    "### Imports"
   ]
  },
  {
   "cell_type": "code",
   "execution_count": 1,
   "metadata": {
    "collapsed": false
   },
   "outputs": [],
   "source": [
    "import pandas as pd\n",
    "import numpy as np\n",
    "import matplotlib.pyplot as plt\n",
    "from mpl_toolkits.axes_grid1 import ImageGrid\n",
    "from mpl_toolkits.mplot3d import Axes3D\n",
    "import os\n",
    "%matplotlib inline"
   ]
  },
  {
   "cell_type": "code",
   "execution_count": 2,
   "metadata": {
    "collapsed": false
   },
   "outputs": [],
   "source": [
    "def read_data(vrot=0, vout=5, logtau=5, input_dir=\"../../data/\"):\n",
    "    tau_name = 'tau10E' + str(logtau)\n",
    "    vrot_name = 'vrot' + str(vrot)\n",
    "    vout_name = 'vout' + str(vout)\n",
    "    filename = tau_name + '_' + vrot_name + '_' + vout_name + '_out.ascii'\n",
    "    fname =  os.path.join(input_dir, tau_name, vrot_name, vout_name, filename)\n",
    "\n",
    "    dtype=[('x', 'f8'),('y', 'f8'), ('z', 'f8'),\n",
    "           ('k_x', 'f8'),('k_y', 'f8'),('k_z', 'f8'),\n",
    "           ('x_frec', 'f8'), ('escaped', 'i8'), ('n_scattering', 'i8')]\n",
    "\n",
    "    df = np.loadtxt(fname, skiprows=1, dtype=dtype)\n",
    "    df = df[df['escaped']==0]\n",
    "    return df"
   ]
  },
  {
   "cell_type": "code",
   "execution_count": 67,
   "metadata": {
    "collapsed": false
   },
   "outputs": [],
   "source": [
    "# We are going to transform data_A to rewrite data_C and compare it against data_B\n",
    "data_A = read_data(vout=50, vrot=0, logtau=5)\n",
    "data_B = read_data(vout=50, vrot=100, logtau=5)\n",
    "\n",
    "#data_C = read_data(vout=0, vrot=100, logtau=6)\n",
    "#../../data/tau10E5/vrot0/vout5/tau10E5_vrot0_vout5_out.ascii"
   ]
  },
  {
   "cell_type": "code",
   "execution_count": 68,
   "metadata": {
    "collapsed": false
   },
   "outputs": [],
   "source": [
    "def get_angles(num_thetas, num_phis):\n",
    "    '''Get the angles'''\n",
    "    cos_thetas = np.linspace(0,1,num_thetas+1) \n",
    "    cos_thetas_plus = np.linspace(-1,0,num_thetas+1)\n",
    "    thetas = np.sort(np.arccos(cos_thetas))\n",
    "    thetas_plus = np.arccos(cos_thetas_plus)\n",
    "    phis = np.linspace(0,2*np.pi,num_phis+1) \n",
    "    return thetas, thetas_plus, phis\n",
    "\n",
    "def get_unit_r_sphere(data):\n",
    "    '''Re-scale positions on the sphere at which the photons escaped'''\n",
    "    r_norm = np.sqrt(data['x']**2 + data['y']**2 + data['z']**2)\n",
    "    x_sphere = data['x'] / r_norm\n",
    "    y_sphere = data['y'] / r_norm\n",
    "    z_sphere = data['z'] / r_norm\n",
    "    return x_sphere, y_sphere, z_sphere\n",
    "\n",
    "# Auxiliar functions\n",
    "\n",
    "def filter_by_theta(data, theta_min, theta_max):\n",
    "    '''Return only the x_frec_escaped between those upper and lower angles'''\n",
    "    \n",
    "    cos_theta_k_out = np.abs(data['k_z'])\n",
    "    ii = (cos_theta_k_out<np.abs(np.cos(theta_min))) \n",
    "    ii = ii &   (cos_theta_k_out>np.abs(np.cos(theta_max)))\n",
    "    print(np.cos(theta_min))\n",
    "    return data[ii]\n",
    "\n",
    "def get_atom_velocities(x_unitary, y_unitary, z_unitary, vrot):\n",
    "    '''Defines new atom velocities based on vrot (vr) '''\n",
    "    v_x = - y_unitary*vrot\n",
    "    v_y = x_unitary*vrot\n",
    "    v_z = np.zeros(len(z_unitary))\n",
    "    return {'x':v_x, 'y':v_y, 'z':v_z}\n",
    "\n",
    "def doppler_shift(data, min_theta_obs, max_theta_obs, vrot=0.0, v_th=12.86):\n",
    "    '''updates old_data adding doppler shifts. the result is stored in new_data'''\n",
    "    \n",
    "    new_data = data.copy()\n",
    "    \n",
    "    new_data['x'], new_data['y'], new_data['z'] = get_unit_r_sphere(data)\n",
    "    \n",
    "    atom_velocities = get_atom_velocities(\n",
    "                        new_data['x'], new_data['y'], new_data['z'], vrot=vrot)\n",
    "    \n",
    "    #line of sight unit vectors\n",
    "    los_vector = data[['k_x', 'k_y', 'k_z']]\n",
    "    \n",
    "    new_data['x_frec'] = data['x_frec'] \n",
    "    new_data['x_frec'] += atom_velocities['x']*data['k_x']\n",
    "    new_data['x_frec'] += atom_velocities['y']*data['k_y']\n",
    "    new_data['x_frec'] += atom_velocities['z']*data['k_z']\n",
    "    new_data['x_frec'] = new_data['x_frec']/v_th\n",
    "    \n",
    "    return new_data"
   ]
  },
  {
   "cell_type": "code",
   "execution_count": 69,
   "metadata": {
    "collapsed": false
   },
   "outputs": [
    {
     "name": "stdout",
     "output_type": "stream",
     "text": [
      "0.1699671429\n",
      "0\n",
      "1.0\n",
      "[ (-0.7586647412878853, -0.1252641565875112, -0.6393251922152025, -0.7199572, 0.4201132, -0.5524188, -0.2570339530534462, 0, 83344)\n",
      " (-0.8908017178730516, -0.38730958183163483, 0.23762067935224865, -0.9205007, -0.3894241, -0.03205263, -0.4541881679094557, 0, 34125)\n",
      " (-0.07062913540662742, -0.20500861994246233, -0.9762084772122189, -0.1137064, -0.3472096, -0.9308686, -0.32389275139171436, 0, 106679)\n",
      " (0.5878987503659059, 0.6618655967340056, 0.46509030432610066, 0.5497871, 0.6867492, 0.4755099, -0.29336016370402246, 0, 259297)\n",
      " (-0.21417926157307485, -0.7339722065340542, -0.644524665119609, -0.2196446, -0.7383701, -0.6376251, 0.33140196817289874, 0, 16290)\n",
      " (-0.5166541435995966, -0.8509412176100339, 0.09469709643764308, -0.5174929, -0.8545375, -0.04434769, -0.2518031867762887, 0, 45524)\n",
      " (-0.0025129062911569714, -0.5400194256812569, -0.8416488015727566, 0.1359066, -0.5822702, -0.8015552, -0.39235816910806715, 0, 20514)\n",
      " (-0.10341265849827379, 0.3496857862746258, 0.9311421335863909, 0.2718452, 0.4161041, 0.8677313, -0.6338627011664186, 0, 25212)\n",
      " (0.14373628723142298, 0.16576433687876566, 0.9756341857233525, 0.4326854, 0.4214024, 0.7969965, -0.36131033592668155, 0, 49227)\n",
      " (-0.18953992553212598, 0.9794385334633241, 0.06909975250671302, -0.366707, 0.9146088, -0.1703429, 0.048218959912681235, 0, 98844)]\n"
     ]
    }
   ],
   "source": [
    "print(np.count_nonzero(filter_by_theta(data_B, 1.4, 3.14)))\n",
    "ll = get_unitary_vectors(filter_by_theta(data_B, 0.0, 0.08))\n",
    "#print(ll['z'])\n",
    "nn = doppler_shift(data_B, 0.0, 0.01, vrot=10.0)\n",
    "print(nn[0:10])\n",
    "new_data = doppler_shift(data_A, 0.0, 0.01, vrot=100)"
   ]
  },
  {
   "cell_type": "code",
   "execution_count": 73,
   "metadata": {
    "collapsed": true
   },
   "outputs": [],
   "source": [
    "def plot_spectra(data, min_theta, max_theta, alpha=0.5):\n",
    "    data_theta = filter_by_theta(data, min_theta, max_theta)\n",
    "    a = plt.hist(data_theta['x_frec'], bins=100, alpha=alpha)"
   ]
  },
  {
   "cell_type": "code",
   "execution_count": 74,
   "metadata": {
    "collapsed": false
   },
   "outputs": [
    {
     "name": "stdout",
     "output_type": "stream",
     "text": [
      "0.0998334166468\n",
      "0.0998334166468\n"
     ]
    },
    {
     "data": {
      "image/png": "[encoded data removed]",
      "text/plain": [
       "<matplotlib.figure.Figure at 0x11cf661d0>"
      ]
     },
     "metadata": {},
     "output_type": "display_data"
    }
   ],
   "source": [
    "fig = plt.figure(1, (10., 6.))\n",
    "plot_spectra(data_A, min_theta=np.pi/2.0 -0.1, max_theta=np.pi/2.0, alpha=0.5)\n",
    "plot_spectra(data_B, min_theta=np.pi/2.0 -0.1, max_theta=np.pi/2.0, alpha=0.5)"
   ]
  },
  {
   "cell_type": "code",
   "execution_count": null,
   "metadata": {
    "collapsed": false
   },
   "outputs": [],
   "source": []
  },
  {
   "cell_type": "code",
   "execution_count": null,
   "metadata": {
    "collapsed": true
   },
   "outputs": [],
   "source": [
    "# Main functions\n",
    "\n"
   ]
  },
  {
   "cell_type": "code",
   "execution_count": null,
   "metadata": {
    "collapsed": false
   },
   "outputs": [],
   "source": [
    "# Plots\n",
    "\n",
    "def plot_final_positions(x_escaped, y_escaped, z_escaped):\n",
    "\n",
    "    fig = plt.figure(figsize=(25,25))\n",
    "    ax = fig.add_subplot(111, projection='3d')\n",
    "\n",
    "    ax.scatter(x_escaped, y_escaped, z_escaped, s=1, lw = 0)\n",
    "\n",
    "    ax.set_xlabel('x')\n",
    "    ax.set_ylabel('y')\n",
    "    ax.set_zlabel('z')\n",
    "\n",
    "    plt.show()\n",
    "    \n",
    "def plot_final_positions_sphere(x_escaped_sphere, y_escaped_sphere, z_escaped_sphere, x_u_escaped, y_u_escaped, z_u_escaped):\n",
    "    \n",
    "    fig = plt.figure(figsize=(25,25))\n",
    "    ax = fig.add_subplot(111, projection='3d')\n",
    "\n",
    "    ax.scatter(x_escaped_sphere, y_escaped_sphere, z_escaped_sphere, s=1, lw = 0, c='c')\n",
    "    ax.quiver(x_escaped_sphere[0:500], y_escaped_sphere[0:500], z_escaped_sphere[0:500], x_u_escaped[0:500], y_u_escaped[0:500], z_u_escaped[0:500], length=1E11)\n",
    "\n",
    "    ax.set_xlabel('x')\n",
    "    ax.set_ylabel('y')\n",
    "    ax.set_zlabel('z')\n",
    "\n",
    "    plt.show()\n",
    "    \n",
    "def plot_spectrum(final_velocities, vrot, vout, logtau, theta_lower, theta_upper, plot_non_doppler=False):\n",
    "    \n",
    "    fig = plt.figure(1, (10., 6.))\n",
    "\n",
    "    props = dict(boxstyle='square', facecolor='white')    \n",
    "\n",
    "    vrot_lab = r'${0:.0f}$'.format(vrot)\n",
    "    vout_lab = r'${0:.0f}$'.format(vout)\n",
    "    theta_lower_lab = r'${0:.0f}$'.format(int(np.rad2deg(theta_lower)))\n",
    "    theta_upper_lab = r'${0:.0f}$'.format(int(np.rad2deg(theta_upper)))\n",
    "\n",
    "    theta_lab = r'$\\theta=$ '\n",
    "    lab = '$v_{rot}=$ '+vrot_lab+' $\\mathrm{km}$ $\\mathrm{s^{-1}}$\\n $v_{out}=$ '+vout_lab+' $\\mathrm{km}$ $\\mathrm{s^{-1}}$'\n",
    "\n",
    "    n, b = np.histogram(final_velocities, bins=40)        \n",
    "    delta_v = b[1]-b[0]\n",
    "    area = delta_v * sum(n)\n",
    "    n = n/area\n",
    "\n",
    "    border_x = []\n",
    "    border_y = []\n",
    "\n",
    "    for j in range(len(n)-1):\n",
    "        border_x.append(b[j]+delta_v/2)\n",
    "        border_x.append(b[j]+delta_v/2)\n",
    "        border_y.append(n[j])\n",
    "        border_y.append(n[j+1])\n",
    "\n",
    "    plt.bar(b[0:40], n, width=delta_v, color='c', edgecolor=None, alpha = 1)\n",
    "    plt.plot(border_x, border_y, c='k', linewidth=1)\n",
    "\n",
    "    plt.axvline(x=0, ymin=0, ymax=1, c='k', linestyle='--', linewidth=1)\n",
    "    plt.xlim(-200,250)\n",
    "    plt.ylim(0,0.013)\n",
    "    plt.ylabel('$\\mathrm{Intensity}$')\n",
    "    plt.xlabel('$\\mathrm{V}$ ($\\mathrm{km}$ $\\mathrm{s^{-1}}$)')\n",
    "    plt.text(-180,0.011, lab, fontsize=20, bbox=props)\n",
    "    \n",
    "    tau_dir = 'tau10E'+str(logtau)\n",
    "    vrot_dir = 'vrot'+str(vrot)\n",
    "    vout_dir = 'vout'+str(vout)\n",
    "    fname = tau_dir+'/'+tau_dir+'_'+vrot_dir+'_'+vout_dir\n",
    "    if plot_non_doppler:\n",
    "        fname += '_simulated.png'\n",
    "    else:\n",
    "        fname += '_doppler_shifted.png'\n",
    "\n",
    "    plt.savefig(fname, format='png', transparent=False, bbox_inches='tight')\n",
    "    plt.close()"
   ]
  },
  {
   "cell_type": "markdown",
   "metadata": {},
   "source": [
    "### Values"
   ]
  },
  {
   "cell_type": "code",
   "execution_count": null,
   "metadata": {
    "collapsed": true
   },
   "outputs": [],
   "source": [
    "# Combination}s\n",
    "\n",
    "logtaus = [5, 6, 7]\n",
    "#logtaus = [5]\n",
    "vrot0 = 0\n",
    "vrots = [50, 100]\n",
    "#vrots = [50]\n",
    "vouts = [25, 50] #[25, 50, 75]\n",
    "#vouts = [25] #[25, 50, 75]\n",
    "\n",
    "# Fixed values\n",
    "num_thetas = 9\n",
    "num_phis = 180\n",
    "\n",
    "v_th = -12.8"
   ]
  },
  {
   "cell_type": "markdown",
   "metadata": {},
   "source": [
    "### Execution"
   ]
  },
  {
   "cell_type": "code",
   "execution_count": null,
   "metadata": {
    "collapsed": false
   },
   "outputs": [],
   "source": [
    "# Same angles for all combinations \n",
    "thetas, thetas_plus, phis = get_angles(num_thetas, num_phis)\n",
    "\n",
    "# Getting angle ~90°\n",
    "theta_lower = thetas[-2] \n",
    "theta_upper = thetas[-1]\n",
    "theta_plus_lower = thetas_plus[-1]\n",
    "theta_plus_upper = thetas_plus[-2]"
   ]
  },
  {
   "cell_type": "code",
   "execution_count": null,
   "metadata": {
    "collapsed": false
   },
   "outputs": [],
   "source": [
    "# Looping through combinations\n",
    "\n",
    "for logtau in logtaus:\n",
    "    for vrot in vrots:\n",
    "        for vout in vouts:\n",
    "            \n",
    "            # read data\n",
    "            x_escaped, y_escaped, z_escaped, x_u_escaped, y_u_escaped, z_u_escaped, x_frec_escaped = read_data(vrot0, vout, logtau)\n",
    "            num_photons_escaped = len(x_escaped)\n",
    "            \n",
    "            # sphere radius\n",
    "            R = get_radius(x_escaped, y_escaped, z_escaped)\n",
    "            #R = np.sqrt( x_escaped**2 + y_escaped**2 + z_escaped**2 )\n",
    "            \n",
    "            # positions in sphere\n",
    "            x_sphere, y_sphere, z_sphere = get_final_positions_sphere(x_escaped, y_escaped, z_escaped, x_u_escaped, y_u_escaped, z_u_escaped, R)\n",
    "            #x_sphere, y_sphere, z_sphere = x_escaped, y_escaped, z_escaped\n",
    "            \n",
    "            # unitary vectors\n",
    "            x_unitary, y_unitary, z_unitary = get_unitary_vectors(x_sphere, y_sphere, z_sphere, R)\n",
    "            \n",
    "            # atom velocities\n",
    "            v_x, v_y, v_z = get_atom_velocities(x_unitary, y_unitary, z_unitary, vrot)\n",
    "            \n",
    "            # doppler shift\n",
    "            final_velocities = doppler_shift(x_unitary, y_sphere, z_u_escaped, x_frec_escaped, v_x, v_y, v_z, theta_lower, theta_upper, theta_plus_lower, theta_plus_upper, phis, v_th)\n",
    "            \n",
    "            # plot doppler shifted spectrum\n",
    "            plot_spectrum(final_velocities, vrot, vout, logtau, theta_lower, theta_upper)\n",
    "            \n",
    "            # get and plot spectrum from simulation (vout)\n",
    "            x_sim, y_sim, z_sim, x_u_sim, y_u_sim, z_u_sim, x_frec_sim = read_data(vrot, vout, logtau)\n",
    "            x_frec_sim_thetas = filter_by_theta(z_u_sim, x_frec_sim, theta_lower, theta_upper, theta_plus_lower, theta_plus_upper)\n",
    "            final_velocities_sim = x_frec_sim_thetas*v_th\n",
    "            plot_spectrum(final_velocities_sim, vrot, vout, logtau, theta_lower, theta_upper, plot_non_doppler=True)\n",
    "            \n",
    "            # get and plot spectrum from simulation (vout0)\n",
    "            x_sim0, y_sim0, z_sim0, x_u_sim0, y_u_sim0, z_u_sim0, x_frec_sim0 = read_data(vrot0, vout, logtau)\n",
    "            x_frec_sim_thetas0 = filter_by_theta(z_u_sim0, x_frec_sim0, theta_lower, theta_upper, theta_plus_lower, theta_plus_upper)\n",
    "            final_velocities_sim0 = x_frec_sim_thetas0*v_th\n",
    "            plot_spectrum(final_velocities_sim0, vrot0, vout, logtau, theta_lower, theta_upper, plot_non_doppler=True)"
   ]
  },
  {
   "cell_type": "code",
   "execution_count": null,
   "metadata": {
    "collapsed": false
   },
   "outputs": [],
   "source": []
  },
  {
   "cell_type": "code",
   "execution_count": null,
   "metadata": {
    "collapsed": true
   },
   "outputs": [],
   "source": []
  },
  {
   "cell_type": "code",
   "execution_count": null,
   "metadata": {
    "collapsed": true
   },
   "outputs": [],
   "source": []
  }
 ],
 "metadata": {
  "kernelspec": {
   "display_name": "Python 3",
   "language": "python",
   "name": "python3"
  },
  "language_info": {
   "codemirror_mode": {
    "name": "ipython",
    "version": 3
   },
   "file_extension": ".py",
   "mimetype": "text/x-python",
   "name": "python",
   "nbconvert_exporter": "python",
   "pygments_lexer": "ipython3",
   "version": "3.6.0"
  }
 },
 "nbformat": 4,
 "nbformat_minor": 0
}
