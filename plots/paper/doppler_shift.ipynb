{
 "cells": [
  {
   "cell_type": "markdown",
   "metadata": {},
   "source": [
    "# Doppler Shift\n",
    "\n",
    "We take $v_{out}$ with $v_{rot_0} = 0$ km/s. Then we Doppler shift it to reproduce $v_{out}$ with $v_{rot}$. The combinations for each of the 3 taus are:\n",
    "\n",
    "* $v_{rot} = 50$ km/s and $v_{out} = 25$ km/s\n",
    "* $v_{rot} = 50$ km/s and $v_{out} = 50$ km/s\n",
    "* $v_{rot} = 50$ km/s and $v_{out} = 75$ km/s -> data vout=75?\n",
    "* $v_{rot} = 100$ km/s and $v_{out} = 25$ km/s\n",
    "* $v_{rot} = 100$ km/s and $v_{out} = 50$ km/s\n",
    "* $v_{rot} = 100$ km/s and $v_{out} = 75$ km/s -> data vout=75?"
   ]
  },
  {
   "cell_type": "markdown",
   "metadata": {},
   "source": [
    "This is an example:\n",
    "\n",
    "![example](../../paper/figures/rotation_doppler_outflow.png)"
   ]
  },
  {
   "cell_type": "markdown",
   "metadata": {},
   "source": [
    "### Imports"
   ]
  },
  {
   "cell_type": "code",
   "execution_count": 1,
   "metadata": {
    "collapsed": false
   },
   "outputs": [],
   "source": [
    "import pandas as pd\n",
    "import numpy as np\n",
    "import matplotlib.pyplot as plt\n",
    "from mpl_toolkits.axes_grid1 import ImageGrid\n",
    "from mpl_toolkits.mplot3d import Axes3D\n",
    "import os\n",
    "%matplotlib inline"
   ]
  },
  {
   "cell_type": "code",
   "execution_count": 2,
   "metadata": {
    "collapsed": false
   },
   "outputs": [],
   "source": [
    "def read_data(vrot=0, vout=5, logtau=5, input_dir=\"../../data/\"):\n",
    "    tau_name = 'tau10E' + str(logtau)\n",
    "    vrot_name = 'vrot' + str(vrot)\n",
    "    vout_name = 'vout' + str(vout)\n",
    "    filename = tau_name + '_' + vrot_name + '_' + vout_name + '_out.ascii'\n",
    "    fname =  os.path.join(input_dir, tau_name, vrot_name, vout_name, filename)\n",
    "\n",
    "    dtype=[('x', 'f8'),('y', 'f8'), ('z', 'f8'),\n",
    "           ('k_x', 'f8'),('k_y', 'f8'),('k_z', 'f8'),\n",
    "           ('x_frec', 'f8'), ('escaped', 'i8'), ('n_scattering', 'i8')]\n",
    "\n",
    "    df = np.loadtxt(fname, skiprows=1, dtype=dtype)\n",
    "    df = df[df['escaped']==0]\n",
    "    return df"
   ]
  },
  {
   "cell_type": "code",
   "execution_count": 67,
   "metadata": {
    "collapsed": false
   },
   "outputs": [],
   "source": []
  },
  {
   "cell_type": "code",
   "execution_count": 90,
   "metadata": {
    "collapsed": false
   },
   "outputs": [],
   "source": [
    "def get_angles(num_thetas, num_phis):\n",
    "    '''Get the angles'''\n",
    "    cos_thetas = np.linspace(0,1,num_thetas+1) \n",
    "    cos_thetas_plus = np.linspace(-1,0,num_thetas+1)\n",
    "    thetas = np.sort(np.arccos(cos_thetas))\n",
    "    thetas_plus = np.arccos(cos_thetas_plus)\n",
    "    phis = np.linspace(0,2*np.pi,num_phis+1) \n",
    "    return thetas, thetas_plus, phis\n",
    "\n",
    "def get_unit_r_sphere(data):\n",
    "    '''Re-scale positions on the sphere at which the photons escaped'''\n",
    "    r_norm = np.sqrt(data['x']**2 + data['y']**2 + data['z']**2)\n",
    "    x_sphere = data['x'] / r_norm\n",
    "    y_sphere = data['y'] / r_norm\n",
    "    z_sphere = data['z'] / r_norm\n",
    "    return x_sphere, y_sphere, z_sphere\n",
    "\n",
    "# Auxiliar functions\n",
    "\n",
    "def filter_by_theta(data, theta_min, theta_max):\n",
    "    '''Return only the x_frec_escaped between those upper and lower angles'''\n",
    "    \n",
    "    cos_theta_k_out = np.abs(data['k_z'])\n",
    "    ii = (cos_theta_k_out<np.abs(np.cos(theta_min))) \n",
    "    ii = ii &   (cos_theta_k_out>np.abs(np.cos(theta_max)))\n",
    "    print(np.cos(theta_min))\n",
    "    return data[ii]\n",
    "\n",
    "def get_atom_velocities(x_unitary, y_unitary, z_unitary, vrot):\n",
    "    '''Defines new atom velocities based on vrot (vr) '''\n",
    "    v_x = - y_unitary*vrot\n",
    "    v_y = x_unitary*vrot\n",
    "    v_z = np.zeros(len(z_unitary))\n",
    "    return {'x':v_x, 'y':v_y, 'z':v_z}\n",
    "\n",
    "def doppler_shift(data, vrot=0.0, v_th=12.86):\n",
    "    '''updates old_data adding doppler shifts. the result is stored in new_data'''\n",
    "    \n",
    "    new_data = data.copy()\n",
    "    \n",
    "    new_data['x'], new_data['y'], new_data['z'] = get_unit_r_sphere(data)\n",
    "    \n",
    "    atom_velocities = get_atom_velocities(\n",
    "                        new_data['x'], new_data['y'], new_data['z'], vrot=vrot)\n",
    "    \n",
    "    #line of sight unit vectors\n",
    "    los_vector = data[['k_x', 'k_y', 'k_z']]\n",
    "    \n",
    "    new_data['x_frec'] = data['x_frec'] \n",
    "    new_data['x_frec'] += atom_velocities['x']*data['k_x']/v_th\n",
    "    new_data['x_frec'] += atom_velocities['y']*data['k_y']/v_th\n",
    "    new_data['x_frec'] += atom_velocities['z']*data['k_z']/v_th\n",
    "    \n",
    "    return new_data"
   ]
  },
  {
   "cell_type": "code",
   "execution_count": 91,
   "metadata": {
    "collapsed": false
   },
   "outputs": [
    {
     "name": "stdout",
     "output_type": "stream",
     "text": [
      "0.1699671429\n",
      "0\n",
      "1.0\n",
      "[ (-0.7586647412878853, -0.1252641565875112, -0.6393251922152025, -0.7199572, 0.4201132, -0.5524188, 0.4656720239294465, 0, 83344)\n",
      " (-0.8908017178730516, -0.38730958183163483, 0.23762067935224865, -0.9205007, -0.3894241, -0.03205263, -5.752148847536206, 0, 34125)\n",
      " (-0.07062913540662742, -0.20500861994246233, -0.9762084772122189, -0.1137064, -0.3472096, -0.9308686, -4.176441292604778, 0, 106679)\n",
      " (0.5878987503659059, 0.6618655967340056, 0.46509030432610066, 0.5497871, 0.6867492, 0.4755099, -4.140159463859543, 0, 259297)\n",
      " (-0.21417926157307485, -0.7339722065340542, -0.644524665119609, -0.2196446, -0.7383701, -0.6376251, 4.290137165684563, 0, 16290)\n",
      " (-0.5166541435995966, -0.8509412176100339, 0.09469709643764308, -0.5174929, -0.8545375, -0.04434769, -3.248742185221079, 0, 45524)\n",
      " (-0.0025129062911569714, -0.5400194256812569, -0.8416488015727566, 0.1359066, -0.5822702, -0.8015552, -5.73607207268505, 0, 20514)\n",
      " (-0.10341265849827379, 0.3496857862746258, 0.9311421335863909, 0.2718452, 0.4161041, 0.8677313, -6.877946119517896, 0, 25212)\n",
      " (0.14373628723142298, 0.16576433687876566, 0.9756341857233525, 0.4326854, 0.4214024, 0.7969965, -4.543593622085313, 0, 49227)\n",
      " (-0.18953992553212598, 0.9794385334633241, 0.06909975250671302, -0.366707, 0.9146088, -0.1703429, -1.0935365999629019, 0, 98844)]\n"
     ]
    }
   ],
   "source": [
    "print(np.count_nonzero(filter_by_theta(data_B, 1.4, 3.14)))\n",
    "ll = get_unitary_vectors(filter_by_theta(data_B, 0.0, 0.08))\n",
    "#print(ll['z'])\n",
    "nn = doppler_shift(data_B, vrot=10.0)\n",
    "print(nn[0:10])\n",
    "new_data = doppler_shift(data_A, vrot=100)"
   ]
  },
  {
   "cell_type": "code",
   "execution_count": 92,
   "metadata": {
    "collapsed": true
   },
   "outputs": [],
   "source": [
    "def plot_spectra(data, min_theta, max_theta, alpha=0.5):\n",
    "    data_theta = filter_by_theta(data, min_theta, max_theta)\n",
    "    a = plt.hist(data_theta['x_frec'], bins=100, alpha=alpha)"
   ]
  },
  {
   "cell_type": "code",
   "execution_count": 95,
   "metadata": {
    "collapsed": true
   },
   "outputs": [],
   "source": [
    "# We are going to transform data_A to rewrite data_C and compare it against data_B\n",
    "data_A = read_data(vout=50, vrot=0, logtau=5)\n",
    "data_B = read_data(vout=50, vrot=100, logtau=5)\n",
    "data_C = doppler_shift(data_A, vrot=100.0)\n",
    "#data_C = read_data(vout=0, vrot=100, logtau=6)\n",
    "#../../data/tau10E5/vrot0/vout5/tau10E5_vrot0_vout5_out.ascii"
   ]
  },
  {
   "cell_type": "code",
   "execution_count": 96,
   "metadata": {
    "collapsed": false
   },
   "outputs": [
    {
     "name": "stdout",
     "output_type": "stream",
     "text": [
      "0.0998334166468\n",
      "0.0998334166468\n",
      "0.0998334166468\n"
     ]
    },
    {
     "data": {
      "image/png": "[encoded data removed]",
      "text/plain": [
       "<matplotlib.figure.Figure at 0x1144ed278>"
      ]
     },
     "metadata": {},
     "output_type": "display_data"
    }
   ],
   "source": [
    "fig = plt.figure(1, (10., 6.))\n",
    "plot_spectra(data_A, min_theta=np.pi/2.0 -0.1, max_theta=np.pi/2.0, alpha=0.5)\n",
    "plot_spectra(data_B, min_theta=np.pi/2.0 -0.1, max_theta=np.pi/2.0, alpha=0.5)\n",
    "plot_spectra(data_C, min_theta=np.pi/2.0 -0.1, max_theta=np.pi/2.0, alpha=0.5)"
   ]
  },
  {
   "cell_type": "code",
   "execution_count": 97,
   "metadata": {
    "collapsed": false
   },
   "outputs": [
    {
     "name": "stdout",
     "output_type": "stream",
     "text": [
      "0.0998334166468\n",
      "0.0998334166468\n",
      "0.0998334166468\n"
     ]
    },
    {
     "data": {
      "image/png": "[encoded data removed]",
      "text/plain": [
       "<matplotlib.figure.Figure at 0x1145f4748>"
      ]
     },
     "metadata": {},
     "output_type": "display_data"
    }
   ],
   "source": [
    "fig = plt.figure(1, (10., 6.))\n",
    "plot_spectra(data_A, min_theta=np.pi/2.0 -0.1, max_theta=np.pi/2.0, alpha=0.5)\n",
    "plot_spectra(data_B, min_theta=np.pi/2.0 -0.1, max_theta=np.pi/2.0, alpha=0.5)\n",
    "plot_spectra(data_C, min_theta=np.pi/2.0 -0.1, max_theta=np.pi/2.0, alpha=0.5)"
   ]
  },
  {
   "cell_type": "code",
   "execution_count": null,
   "metadata": {
    "collapsed": true
   },
   "outputs": [],
   "source": []
  },
  {
   "cell_type": "code",
   "execution_count": null,
   "metadata": {
    "collapsed": true
   },
   "outputs": [],
   "source": []
  }
 ],
 "metadata": {
  "kernelspec": {
   "display_name": "Python 3",
   "language": "python",
   "name": "python3"
  },
  "language_info": {
   "codemirror_mode": {
    "name": "ipython",
    "version": 3
   },
   "file_extension": ".py",
   "mimetype": "text/x-python",
   "name": "python",
   "nbconvert_exporter": "python",
   "pygments_lexer": "ipython3",
   "version": "3.6.0"
  }
 },
 "nbformat": 4,
 "nbformat_minor": 0
}
