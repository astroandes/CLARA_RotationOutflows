{
 "cells": [
  {
   "cell_type": "markdown",
   "metadata": {},
   "source": [
    "# Doppler Shift\n",
    "\n",
    "We take $v_{out}$ with $v_{rot_0} = 0$ km/s. Then we Doppler shift it to reproduce $v_{out}$ with $v_{rot}$. The combinations for each of the 3 taus are:\n",
    "\n",
    "* $v_{rot} = 50$ km/s and $v_{out} = 25$ km/s\n",
    "* $v_{rot} = 50$ km/s and $v_{out} = 50$ km/s\n",
    "* $v_{rot} = 50$ km/s and $v_{out} = 75$ km/s -> data vout=75?\n",
    "* $v_{rot} = 100$ km/s and $v_{out} = 25$ km/s\n",
    "* $v_{rot} = 100$ km/s and $v_{out} = 50$ km/s\n",
    "* $v_{rot} = 100$ km/s and $v_{out} = 75$ km/s -> data vout=75?"
   ]
  },
  {
   "cell_type": "markdown",
   "metadata": {},
   "source": [
    "This is an example:\n",
    "\n",
    "![example](../../paper/figures/rotation_doppler_outflow.png)"
   ]
  },
  {
   "cell_type": "markdown",
   "metadata": {},
   "source": [
    "### Imports"
   ]
  },
  {
   "cell_type": "code",
   "execution_count": 1,
   "metadata": {
    "collapsed": false
   },
   "outputs": [],
   "source": [
    "import pandas as pd\n",
    "import numpy as np\n",
    "import matplotlib.pyplot as plt\n",
    "from mpl_toolkits.axes_grid1 import ImageGrid\n",
    "from mpl_toolkits.mplot3d import Axes3D\n",
    "import os\n",
    "%matplotlib inline"
   ]
  },
  {
   "cell_type": "code",
   "execution_count": 2,
   "metadata": {
    "collapsed": false
   },
   "outputs": [],
   "source": [
    "def read_data(vrot=0, vout=5, logtau=5, input_dir=\"../../data/\"):\n",
    "    tau_name = 'tau10E' + str(logtau)\n",
    "    vrot_name = 'vrot' + str(vrot)\n",
    "    vout_name = 'vout' + str(vout)\n",
    "    filename = tau_name + '_' + vrot_name + '_' + vout_name + '_out.ascii'\n",
    "    fname =  os.path.join(input_dir, tau_name, vrot_name, vout_name, filename)\n",
    "\n",
    "    dtype=[('x', 'f8'),('y', 'f8'), ('z', 'f8'),\n",
    "           ('k_x', 'f8'),('k_y', 'f8'),('k_z', 'f8'),\n",
    "           ('x_frec', 'f8'), ('escaped', 'i8'), ('n_scattering', 'i8')]\n",
    "\n",
    "    df = np.loadtxt(fname, skiprows=1, dtype=dtype)\n",
    "    df = df[df['escaped']==0]\n",
    "    return df"
   ]
  },
  {
   "cell_type": "code",
   "execution_count": 3,
   "metadata": {
    "collapsed": false
   },
   "outputs": [],
   "source": [
    "# We are going to transform data_A to rewrite data_C and compare it against data_B\n",
    "data_A = read_data(vout=50, vrot=0, logtau=6)\n",
    "data_B = read_data(vout=50, vrot=100, logtau=6)\n",
    "data_C = read_data(vout=50, vrot=0, logtau=6)\n",
    "\n",
    "#data_C = read_data(vout=0, vrot=100, logtau=6)\n",
    "#../../data/tau10E5/vrot0/vout5/tau10E5_vrot0_vout5_out.ascii"
   ]
  },
  {
   "cell_type": "code",
   "execution_count": 28,
   "metadata": {
    "collapsed": false
   },
   "outputs": [
    {
     "name": "stdout",
     "output_type": "stream",
     "text": [
      "(array([ 0.        ,  0.45102681,  0.64350111,  0.79539883,  0.92729522,\n",
      "        1.04719755,  1.15927948,  1.26610367,  1.36943841,  1.47062891,\n",
      "        1.57079633]), array([ 3.14159265,  2.69056584,  2.49809154,  2.34619382,  2.21429744,\n",
      "        2.0943951 ,  1.98231317,  1.87548898,  1.77215425,  1.67096375,\n",
      "        1.57079633]), array([ 0.        ,  0.31415927,  0.62831853,  0.9424778 ,  1.25663706,\n",
      "        1.57079633,  1.88495559,  2.19911486,  2.51327412,  2.82743339,\n",
      "        3.14159265,  3.45575192,  3.76991118,  4.08407045,  4.39822972,\n",
      "        4.71238898,  5.02654825,  5.34070751,  5.65486678,  5.96902604,\n",
      "        6.28318531]))\n",
      "(array([  8.33994746e+12,  -1.59909061e+13,   1.10761193e+13, ...,\n",
      "        -1.39304528e+13,  -1.41780390e+13,  -6.77102253e+12]), array([ -1.41758850e+13,  -5.17069239e+12,   1.00109472e+13, ...,\n",
      "        -5.98374941e+12,  -5.22185984e+12,   5.24060350e+12]), array([ -4.14167719e+12,   2.28446715e+12,  -8.04763598e+12, ...,\n",
      "        -7.60270717e+12,  -7.70579771e+12,   1.46408079e+13]))\n",
      "0.1699671429\n",
      "0\n",
      "1.0\n"
     ]
    }
   ],
   "source": [
    "def get_angles(num_thetas, num_phis):\n",
    "    '''Get the angles'''\n",
    "    cos_thetas = np.linspace(0,1,num_thetas+1) \n",
    "    cos_thetas_plus = np.linspace(-1,0,num_thetas+1)\n",
    "    thetas = np.sort(np.arccos(cos_thetas))\n",
    "    thetas_plus = np.arccos(cos_thetas_plus)\n",
    "    phis = np.linspace(0,2*np.pi,num_phis+1) \n",
    "    return thetas, thetas_plus, phis\n",
    "print(get_angles(10,20))\n",
    "\n",
    "def get_min_radius(x_escaped, y_escaped, z_escaped):\n",
    "    '''Estimate the radius over the sphere at which the photons escaped. '''\n",
    "    distance = np.sqrt(x_escaped**2 + y_escaped**2 + z_escaped**2)\n",
    "    R = np.min(distance)\n",
    "    return R\n",
    "\n",
    "def get_final_positions_sphere(data):\n",
    "    '''Re-scale positions on the sphere at which the photons escaped'''\n",
    "    \n",
    "    R = get_min_radius(data['x'], data['y'], data['z'])\n",
    "    r_norm = np.sqrt(data['x']**2 + data['y']**2 + data['z']**2)\n",
    "\n",
    "    x_sphere = data['x'] * R/r_norm\n",
    "    y_sphere = data['y'] * R/r_norm\n",
    "    z_sphere = data['z'] * R/r_norm\n",
    "    return x_sphere, y_sphere, z_sphere\n",
    "print(get_final_positions_sphere(data_A))\n",
    "\n",
    "# Auxiliar functions\n",
    "\n",
    "def filter_by_theta(data, theta_min, theta_max):\n",
    "    '''Return only the x_frec_escaped between those upper and lower angles'''\n",
    "    \n",
    "    cos_theta_k_out = np.abs(data['k_z'])\n",
    "    ii = (cos_theta_k_out<np.abs(np.cos(theta_min))) \n",
    "    ii = ii &   (cos_theta_k_out>np.abs(np.cos(theta_max)))\n",
    "    print(np.cos(theta_min))\n",
    "    return data[ii]\n",
    "\n",
    "def get_unitary_vectors(data, cols=['x', 'y', 'z']):\n",
    "    '''Unitary vectors in the x, y, z directions'''\n",
    "    norm = data[cols[0]]*0.0\n",
    "    for c in cols:\n",
    "        norm += data[c]**2\n",
    "    norm = np.sqrt(norm)\n",
    "    for c in cols:\n",
    "        data[c] = data[c]/norm\n",
    "    return data[cols]\n",
    "\n",
    "\n",
    "def get_atom_velocities(x_unitary, y_unitary, z_unitary, vrot):\n",
    "    '''Defines new atom velocities based on vrot (vr) '''\n",
    "    v_x = - y_unitary*vrot\n",
    "    v_y = x_unitary*vrot\n",
    "    v_z = np.zeros(len(z_unitary))\n",
    "    return v_x, v_y, v_z\n",
    "\n",
    "\n",
    "def doppler_shift(old_data, new_data, vrot):\n",
    "    '''Gets the final velocities after the doppler shift'''\n",
    "    \n",
    "    final_velocities = []\n",
    "\n",
    "    acos_x_escaped_pos = np.array([np.arccos(xu) for xu in x_unitary])\n",
    "    acos_x_escaped_neg = np.array([2.0*np.pi-np.arccos(xu) for xu in x_unitary])\n",
    "    acos_z_u_escaped = np.array([np.arccos(zu) for zu in z_u_escaped])\n",
    "    \n",
    "    for n_phi in range(len(phis)-1):\n",
    "        phi_lower = phis[n_phi]\n",
    "        phi_upper = phis[n_phi+1]\n",
    "        phi_middle = (phi_lower + phi_upper)/2.0\n",
    "        \n",
    "        r_observer = np.array([np.cos(phi_middle), np.sin(phi_middle), 0])\n",
    "\n",
    "        angle_indices = np.where( ((y_sphere >= 0) & (acos_x_escaped_pos >= phi_lower) & (acos_x_escaped_pos < phi_upper)) | ((y_sphere < 0) & (acos_x_escaped_neg >= phi_lower) & (acos_x_escaped_neg < phi_upper)) | ((acos_z_u_escaped >= theta_lower) & (acos_z_u_escaped < theta_upper)) | ((acos_z_u_escaped >= theta_plus_lower) & (acos_z_u_escaped < theta_plus_upper)) )[0]\n",
    "\n",
    "        x_frec_escaped_angle = x_frec_escaped[angle_indices]\n",
    "\n",
    "        v_x_angle = v_x[angle_indices]\n",
    "        v_y_angle = v_y[angle_indices]\n",
    "        v_z_angle = v_z[angle_indices]\n",
    "\n",
    "        shift_factors_angle = v_x_angle*r_observer[0] + v_y_angle*r_observer[1] + v_z_angle*r_observer[2]\n",
    "\n",
    "        shifted_velocities = x_frec_escaped_angle*v_th + shift_factors_angle\n",
    "\n",
    "        final_velocities = np.concatenate((final_velocities, shifted_velocities))\n",
    "        \n",
    "    return final_velocities"
   ]
  },
  {
   "cell_type": "code",
   "execution_count": 29,
   "metadata": {
    "collapsed": false
   },
   "outputs": [
    {
     "name": "stdout",
     "output_type": "stream",
     "text": [
      "0.1699671429\n",
      "0\n",
      "1.0\n"
     ]
    }
   ],
   "source": [
    "\n",
    "print(np.count_nonzero(filter_by_theta(data_B, 1.4, 3.14)))\n",
    "ll = get_unitary_vectors(filter_by_theta(data_B, 0.0, 0.08))\n",
    "#print(ll['z'])\n"
   ]
  },
  {
   "cell_type": "code",
   "execution_count": 26,
   "metadata": {
    "collapsed": false
   },
   "outputs": [
    {
     "data": {
      "text/plain": [
       "<matplotlib.collections.PathCollection at 0x116ad2a90>"
      ]
     },
     "execution_count": 26,
     "metadata": {},
     "output_type": "execute_result"
    },
    {
     "data": {
      "image/png": "[encoded data removed]",
      "text/plain": [
       "<matplotlib.figure.Figure at 0x1169ff470>"
      ]
     },
     "metadata": {},
     "output_type": "display_data"
    }
   ],
   "source": [
    "plt.scatter(ll['x'], ll['z'])"
   ]
  },
  {
   "cell_type": "code",
   "execution_count": null,
   "metadata": {
    "collapsed": false
   },
   "outputs": [],
   "source": []
  },
  {
   "cell_type": "code",
   "execution_count": null,
   "metadata": {
    "collapsed": true
   },
   "outputs": [],
   "source": [
    "# Main functions\n",
    "\n"
   ]
  },
  {
   "cell_type": "code",
   "execution_count": null,
   "metadata": {
    "collapsed": false
   },
   "outputs": [],
   "source": [
    "# Plots\n",
    "\n",
    "def plot_final_positions(x_escaped, y_escaped, z_escaped):\n",
    "\n",
    "    fig = plt.figure(figsize=(25,25))\n",
    "    ax = fig.add_subplot(111, projection='3d')\n",
    "\n",
    "    ax.scatter(x_escaped, y_escaped, z_escaped, s=1, lw = 0)\n",
    "\n",
    "    ax.set_xlabel('x')\n",
    "    ax.set_ylabel('y')\n",
    "    ax.set_zlabel('z')\n",
    "\n",
    "    plt.show()\n",
    "    \n",
    "def plot_final_positions_sphere(x_escaped_sphere, y_escaped_sphere, z_escaped_sphere, x_u_escaped, y_u_escaped, z_u_escaped):\n",
    "    \n",
    "    fig = plt.figure(figsize=(25,25))\n",
    "    ax = fig.add_subplot(111, projection='3d')\n",
    "\n",
    "    ax.scatter(x_escaped_sphere, y_escaped_sphere, z_escaped_sphere, s=1, lw = 0, c='c')\n",
    "    ax.quiver(x_escaped_sphere[0:500], y_escaped_sphere[0:500], z_escaped_sphere[0:500], x_u_escaped[0:500], y_u_escaped[0:500], z_u_escaped[0:500], length=1E11)\n",
    "\n",
    "    ax.set_xlabel('x')\n",
    "    ax.set_ylabel('y')\n",
    "    ax.set_zlabel('z')\n",
    "\n",
    "    plt.show()\n",
    "    \n",
    "def plot_spectrum(final_velocities, vrot, vout, logtau, theta_lower, theta_upper, plot_non_doppler=False):\n",
    "    \n",
    "    fig = plt.figure(1, (10., 6.))\n",
    "\n",
    "    props = dict(boxstyle='square', facecolor='white')    \n",
    "\n",
    "    vrot_lab = r'${0:.0f}$'.format(vrot)\n",
    "    vout_lab = r'${0:.0f}$'.format(vout)\n",
    "    theta_lower_lab = r'${0:.0f}$'.format(int(np.rad2deg(theta_lower)))\n",
    "    theta_upper_lab = r'${0:.0f}$'.format(int(np.rad2deg(theta_upper)))\n",
    "\n",
    "    theta_lab = r'$\\theta=$ '\n",
    "    lab = '$v_{rot}=$ '+vrot_lab+' $\\mathrm{km}$ $\\mathrm{s^{-1}}$\\n $v_{out}=$ '+vout_lab+' $\\mathrm{km}$ $\\mathrm{s^{-1}}$'\n",
    "\n",
    "    n, b = np.histogram(final_velocities, bins=40)        \n",
    "    delta_v = b[1]-b[0]\n",
    "    area = delta_v * sum(n)\n",
    "    n = n/area\n",
    "\n",
    "    border_x = []\n",
    "    border_y = []\n",
    "\n",
    "    for j in range(len(n)-1):\n",
    "        border_x.append(b[j]+delta_v/2)\n",
    "        border_x.append(b[j]+delta_v/2)\n",
    "        border_y.append(n[j])\n",
    "        border_y.append(n[j+1])\n",
    "\n",
    "    plt.bar(b[0:40], n, width=delta_v, color='c', edgecolor=None, alpha = 1)\n",
    "    plt.plot(border_x, border_y, c='k', linewidth=1)\n",
    "\n",
    "    plt.axvline(x=0, ymin=0, ymax=1, c='k', linestyle='--', linewidth=1)\n",
    "    plt.xlim(-200,250)\n",
    "    plt.ylim(0,0.013)\n",
    "    plt.ylabel('$\\mathrm{Intensity}$')\n",
    "    plt.xlabel('$\\mathrm{V}$ ($\\mathrm{km}$ $\\mathrm{s^{-1}}$)')\n",
    "    plt.text(-180,0.011, lab, fontsize=20, bbox=props)\n",
    "    \n",
    "    tau_dir = 'tau10E'+str(logtau)\n",
    "    vrot_dir = 'vrot'+str(vrot)\n",
    "    vout_dir = 'vout'+str(vout)\n",
    "    fname = tau_dir+'/'+tau_dir+'_'+vrot_dir+'_'+vout_dir\n",
    "    if plot_non_doppler:\n",
    "        fname += '_simulated.png'\n",
    "    else:\n",
    "        fname += '_doppler_shifted.png'\n",
    "\n",
    "    plt.savefig(fname, format='png', transparent=False, bbox_inches='tight')\n",
    "    plt.close()"
   ]
  },
  {
   "cell_type": "markdown",
   "metadata": {},
   "source": [
    "### Values"
   ]
  },
  {
   "cell_type": "code",
   "execution_count": null,
   "metadata": {
    "collapsed": true
   },
   "outputs": [],
   "source": [
    "# Combination}s\n",
    "\n",
    "logtaus = [5, 6, 7]\n",
    "#logtaus = [5]\n",
    "vrot0 = 0\n",
    "vrots = [50, 100]\n",
    "#vrots = [50]\n",
    "vouts = [25, 50] #[25, 50, 75]\n",
    "#vouts = [25] #[25, 50, 75]\n",
    "\n",
    "# Fixed values\n",
    "num_thetas = 9\n",
    "num_phis = 180\n",
    "\n",
    "v_th = -12.8"
   ]
  },
  {
   "cell_type": "markdown",
   "metadata": {},
   "source": [
    "### Execution"
   ]
  },
  {
   "cell_type": "code",
   "execution_count": null,
   "metadata": {
    "collapsed": false
   },
   "outputs": [],
   "source": [
    "# Same angles for all combinations \n",
    "thetas, thetas_plus, phis = get_angles(num_thetas, num_phis)\n",
    "\n",
    "# Getting angle ~90°\n",
    "theta_lower = thetas[-2] \n",
    "theta_upper = thetas[-1]\n",
    "theta_plus_lower = thetas_plus[-1]\n",
    "theta_plus_upper = thetas_plus[-2]"
   ]
  },
  {
   "cell_type": "code",
   "execution_count": null,
   "metadata": {
    "collapsed": false
   },
   "outputs": [],
   "source": [
    "# Looping through combinations\n",
    "\n",
    "for logtau in logtaus:\n",
    "    for vrot in vrots:\n",
    "        for vout in vouts:\n",
    "            \n",
    "            # read data\n",
    "            x_escaped, y_escaped, z_escaped, x_u_escaped, y_u_escaped, z_u_escaped, x_frec_escaped = read_data(vrot0, vout, logtau)\n",
    "            num_photons_escaped = len(x_escaped)\n",
    "            \n",
    "            # sphere radius\n",
    "            R = get_radius(x_escaped, y_escaped, z_escaped)\n",
    "            #R = np.sqrt( x_escaped**2 + y_escaped**2 + z_escaped**2 )\n",
    "            \n",
    "            # positions in sphere\n",
    "            x_sphere, y_sphere, z_sphere = get_final_positions_sphere(x_escaped, y_escaped, z_escaped, x_u_escaped, y_u_escaped, z_u_escaped, R)\n",
    "            #x_sphere, y_sphere, z_sphere = x_escaped, y_escaped, z_escaped\n",
    "            \n",
    "            # unitary vectors\n",
    "            x_unitary, y_unitary, z_unitary = get_unitary_vectors(x_sphere, y_sphere, z_sphere, R)\n",
    "            \n",
    "            # atom velocities\n",
    "            v_x, v_y, v_z = get_atom_velocities(x_unitary, y_unitary, z_unitary, vrot)\n",
    "            \n",
    "            # doppler shift\n",
    "            final_velocities = doppler_shift(x_unitary, y_sphere, z_u_escaped, x_frec_escaped, v_x, v_y, v_z, theta_lower, theta_upper, theta_plus_lower, theta_plus_upper, phis, v_th)\n",
    "            \n",
    "            # plot doppler shifted spectrum\n",
    "            plot_spectrum(final_velocities, vrot, vout, logtau, theta_lower, theta_upper)\n",
    "            \n",
    "            # get and plot spectrum from simulation (vout)\n",
    "            x_sim, y_sim, z_sim, x_u_sim, y_u_sim, z_u_sim, x_frec_sim = read_data(vrot, vout, logtau)\n",
    "            x_frec_sim_thetas = filter_by_theta(z_u_sim, x_frec_sim, theta_lower, theta_upper, theta_plus_lower, theta_plus_upper)\n",
    "            final_velocities_sim = x_frec_sim_thetas*v_th\n",
    "            plot_spectrum(final_velocities_sim, vrot, vout, logtau, theta_lower, theta_upper, plot_non_doppler=True)\n",
    "            \n",
    "            # get and plot spectrum from simulation (vout0)\n",
    "            x_sim0, y_sim0, z_sim0, x_u_sim0, y_u_sim0, z_u_sim0, x_frec_sim0 = read_data(vrot0, vout, logtau)\n",
    "            x_frec_sim_thetas0 = filter_by_theta(z_u_sim0, x_frec_sim0, theta_lower, theta_upper, theta_plus_lower, theta_plus_upper)\n",
    "            final_velocities_sim0 = x_frec_sim_thetas0*v_th\n",
    "            plot_spectrum(final_velocities_sim0, vrot0, vout, logtau, theta_lower, theta_upper, plot_non_doppler=True)"
   ]
  },
  {
   "cell_type": "code",
   "execution_count": null,
   "metadata": {
    "collapsed": false
   },
   "outputs": [],
   "source": []
  },
  {
   "cell_type": "code",
   "execution_count": null,
   "metadata": {
    "collapsed": true
   },
   "outputs": [],
   "source": []
  },
  {
   "cell_type": "code",
   "execution_count": null,
   "metadata": {
    "collapsed": true
   },
   "outputs": [],
   "source": []
  }
 ],
 "metadata": {
  "kernelspec": {
   "display_name": "Python 3",
   "language": "python",
   "name": "python3"
  },
  "language_info": {
   "codemirror_mode": {
    "name": "ipython",
    "version": 3
   },
   "file_extension": ".py",
   "mimetype": "text/x-python",
   "name": "python",
   "nbconvert_exporter": "python",
   "pygments_lexer": "ipython3",
   "version": "3.6.0"
  }
 },
 "nbformat": 4,
 "nbformat_minor": 0
}
