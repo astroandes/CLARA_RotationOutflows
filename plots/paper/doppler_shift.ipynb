{
 "cells": [
  {
   "cell_type": "markdown",
   "metadata": {},
   "source": [
    "# Doppler Shift\n",
    "\n",
    "We take $v_{out} = 25$ km/s with $v_{rot} = 0$ km/s. Then we Doppler shift it to reproduce $v_{out} = 25$ km/s with $v_{rot} = 50$ km/s"
   ]
  },
  {
   "cell_type": "markdown",
   "metadata": {},
   "source": [
    "This is an example:\n",
    "\n",
    "![example](../../paper/figures/rotation_doppler_outflow.png)"
   ]
  },
  {
   "cell_type": "markdown",
   "metadata": {},
   "source": [
    "Ly$\\alpha$ scattering through an optically thick gas cloud that is undergoing solid-body rotation (i.e. in which the angular speed around the rotation axis is identical for each hydrogen atom) proceeds identical as in a static cloud. In order to compute the spectrum emerging from a rotating cloud, we sum the spectra emerging from all surface elements of the cloud, weighted by their intensity."
   ]
  },
  {
   "cell_type": "code",
   "execution_count": 1,
   "metadata": {
    "collapsed": false
   },
   "outputs": [],
   "source": [
    "import pandas as pd\n",
    "import numpy as np\n",
    "import matplotlib.pyplot as plt\n",
    "from mpl_toolkits.axes_grid1 import ImageGrid\n",
    "\n",
    "plt.rc('text', usetex=True)\n",
    "plt.rc('font', size=20)"
   ]
  },
  {
   "cell_type": "code",
   "execution_count": 17,
   "metadata": {
    "collapsed": true
   },
   "outputs": [],
   "source": [
    "# Values\n",
    "\n",
    "tau = 100000\n",
    "vrot = 0\n",
    "vrot_new = 50\n",
    "vout = 25"
   ]
  },
  {
   "cell_type": "code",
   "execution_count": 18,
   "metadata": {
    "collapsed": false
   },
   "outputs": [],
   "source": [
    "#Reading data\n",
    "\n",
    "fname = '../../data/tau10E5/vrot'+str(vrot)+'/vout'+str(vout)+'/tau10E5_vrot'+str(vrot)+'_vout'+str(vout)+'_out.ascii'\n",
    "df = pd.read_csv(fname, delimiter=' ', dtype='float64')\n",
    "        \n",
    "escaped = df['escaped']\n",
    "x = df['x']\n",
    "y = df['y']\n",
    "z = df['z']\n",
    "z_u = df['z_u']\n",
    "x_frec = df['x_frec']\n",
    "\n",
    "inds = np.where(escaped == 0)[0]\n",
    "\n",
    "x_escaped = np.array(x)[inds]\n",
    "y_escaped = np.array(y)[inds]\n",
    "z_escaped = np.array(z)[inds]\n",
    "z_u_escaped = np.array(z_u)[inds]\n",
    "x_frec_escaped = np.array(x_frec)[inds]"
   ]
  },
  {
   "cell_type": "code",
   "execution_count": 19,
   "metadata": {
    "collapsed": false
   },
   "outputs": [],
   "source": [
    "num_thetas = 9\n",
    "cos_thetas = np.linspace(0,1,num_thetas+1) \n",
    "cos_thetas_plus = np.linspace(-1,0,num_thetas+1) \n",
    "\n",
    "thetas = np.sort(np.array([np.arccos(ct) for ct in cos_thetas]))\n",
    "thetas_plus = np.array([np.arccos(ctp) for ctp in cos_thetas_plus])"
   ]
  },
  {
   "cell_type": "code",
   "execution_count": 23,
   "metadata": {
    "collapsed": true
   },
   "outputs": [],
   "source": [
    "# unitary vectors in the x, y, z directions\n",
    "\n",
    "distance = np.sqrt(x_escaped**2 + y_escaped**2 + z_escaped**2)\n",
    "x_unitary = x_escaped/distance\n",
    "y_unitary = y_escaped/distance\n",
    "z_unitary = z_escaped/distance"
   ]
  },
  {
   "cell_type": "code",
   "execution_count": 32,
   "metadata": {
    "collapsed": false
   },
   "outputs": [],
   "source": [
    "# atom velocities\n",
    "\n",
    "v_x = x_unitary*vout - y_unitary*vrot_new\n",
    "v_y = y_unitary*vout + x_unitary*vrot_new\n",
    "v_z = z_unitary*vout"
   ]
  },
  {
   "cell_type": "code",
   "execution_count": 33,
   "metadata": {
    "collapsed": true
   },
   "outputs": [],
   "source": [
    "# shift factor\n",
    "\n",
    "num_photons = len(x_frec_escaped)\n",
    "shift_factors = np.zeros(num_photons)\n",
    "\n",
    "for i in range(num_photons):\n",
    "    r_unitary = np.array([x_unitary[i], y_unitary[i], z_unitary[i]])\n",
    "    velocity_vector = np.array([v_x[i], v_y[i], v_z[i]])\n",
    "    \n",
    "    shift_factors[i] = np.dot(velocity_vector, r_unitary)"
   ]
  },
  {
   "cell_type": "code",
   "execution_count": 40,
   "metadata": {
    "collapsed": false,
    "scrolled": false
   },
   "outputs": [],
   "source": [
    "v_th = -12.8\n",
    "\n",
    "theta_lower = thetas[-2]\n",
    "theta_upper = thetas[-1]\n",
    "theta_plus_lower = thetas_plus[-1]\n",
    "theta_plus_upper = thetas_plus[-2]\n",
    "\n",
    "\n",
    "fig = plt.figure(1, (10., 6.))\n",
    "\n",
    "props = dict(boxstyle='square', facecolor='white')\n",
    "\n",
    "acos_z_u_escaped = np.array([np.arccos(zu) for zu in z_u_escaped])\n",
    "angle_indices = np.where( ((acos_z_u_escaped >= theta_lower) & (acos_z_u_escaped < theta_upper)) | ((acos_z_u_escaped >= theta_plus_lower) & (acos_z_u_escaped < theta_plus_upper)))[0]\n",
    "\n",
    "current_x = x_frec_escaped[angle_indices] #only the ones between those upper and lower angles\n",
    "current_shift_factors = shift_factors[angle_indices]\n",
    "current_x_vel_shifted = current_x*v_th + current_shift_factors\n",
    "\n",
    "vrot_lab = r'${0:.0f}$'.format(vrot_new)\n",
    "vout_lab = r'${0:.0f}$'.format(vout)\n",
    "theta_lower_lab = r'${0:.0f}$'.format(int(np.rad2deg(theta_lower)))\n",
    "theta_upper_lab = r'${0:.0f}$'.format(int(np.rad2deg(theta_upper)))\n",
    "\n",
    "theta_lab = r'$\\theta=$ '\n",
    "lab = '$v_{rot}=$ '+vrot_lab+' $\\mathrm{km}$ $\\mathrm{s^{-1}}$\\n $v_{out}=$ '+vout_lab+' $\\mathrm{km}$ $\\mathrm{s^{-1}}$'\n",
    "\n",
    "n, b = np.histogram(current_x_vel_shifted, bins=40)        \n",
    "delta_x = b[1]-b[0]\n",
    "area = delta_x * sum(n)\n",
    "n = n/area\n",
    "\n",
    "border_x = []\n",
    "border_y = []\n",
    "\n",
    "for j in range(len(n)-1):\n",
    "    border_x.append(b[j]+delta_x/2)\n",
    "    border_x.append(b[j]+delta_x/2)\n",
    "    border_y.append(n[j])\n",
    "    border_y.append(n[j+1])\n",
    "\n",
    "plt.bar(b[0:40], n, width=delta_x, color='c', edgecolor=None, alpha = 1)\n",
    "plt.plot(border_x, border_y, c='k', linewidth=1)\n",
    "\n",
    "plt.axvline(x=0, ymin=0, ymax=1, c='k', linestyle='--', linewidth=1)\n",
    "plt.xlim(-200,250)\n",
    "plt.ylim(0,0.013)\n",
    "plt.ylabel('$\\mathrm{Intensity}$')\n",
    "plt.xlabel('$\\mathrm{V}$ ($\\mathrm{km}$ $\\mathrm{s^{-1}}$)')\n",
    "plt.text(-180,0.011, lab, fontsize=20, bbox=props)\n",
    "\n",
    "plt.savefig('doppler_shift_shifted.png', format='png', transparent=False, bbox_inches='tight')\n",
    "plt.close()"
   ]
  },
  {
   "cell_type": "code",
   "execution_count": 42,
   "metadata": {
    "collapsed": false
   },
   "outputs": [
    {
     "data": {
      "image/png": "[encoded data removed]",
      "text/plain": [
       "<matplotlib.figure.Figure at 0x7f7f20e21630>"
      ]
     },
     "metadata": {},
     "output_type": "display_data"
    }
   ],
   "source": [
    "plt.hist(current_x_vel_shifted, bins=30)\n",
    "plt.show()"
   ]
  },
  {
   "cell_type": "code",
   "execution_count": null,
   "metadata": {
    "collapsed": true
   },
   "outputs": [],
   "source": []
  }
 ],
 "metadata": {
  "kernelspec": {
   "display_name": "Python [conda root]",
   "language": "python",
   "name": "conda-root-py"
  },
  "language_info": {
   "codemirror_mode": {
    "name": "ipython",
    "version": 3
   },
   "file_extension": ".py",
   "mimetype": "text/x-python",
   "name": "python",
   "nbconvert_exporter": "python",
   "pygments_lexer": "ipython3",
   "version": "3.5.2"
  }
 },
 "nbformat": 4,
 "nbformat_minor": 0
}
