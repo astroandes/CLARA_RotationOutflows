{
 "cells": [
  {
   "cell_type": "markdown",
   "metadata": {},
   "source": [
    "# Doppler Shift\n",
    "\n",
    "We take $v_{out} = 5$ km/s with $v_{rot} = 0$ km/s. Then we Doppler shift it to reproduce $v_{out} = 5$ km/s with $v_{rot} = 50$ km/s"
   ]
  },
  {
   "cell_type": "markdown",
   "metadata": {},
   "source": [
    "This is an example:\n",
    "\n",
    "![example](../../paper/figures/rotation_doppler_outflow.png)"
   ]
  },
  {
   "cell_type": "markdown",
   "metadata": {},
   "source": [
    "Ly$\\alpha$ scattering through an optically thick gas cloud that is undergoing solid-body rotation (i.e. in which the angular speed around the rotation axis is identical for each hydrogen atom) proceeds identical as in a static cloud. In order to compute the spectrum emerging from a rotating cloud, we sum the spectra emerging from all surface elements of the cloud, weighted by their intensity."
   ]
  },
  {
   "cell_type": "code",
   "execution_count": 1,
   "metadata": {
    "collapsed": false
   },
   "outputs": [],
   "source": [
    "import pandas as pd\n",
    "import numpy as np\n",
    "import matplotlib.pyplot as plt\n",
    "from mpl_toolkits.axes_grid1 import ImageGrid\n",
    "\n",
    "plt.rc('text', usetex=True)\n",
    "plt.rc('font', size=20)"
   ]
  },
  {
   "cell_type": "code",
   "execution_count": 2,
   "metadata": {
    "collapsed": false
   },
   "outputs": [],
   "source": [
    "num_thetas = 9\n",
    "cos_thetas = np.linspace(0,1,num_thetas+1) \n",
    "cos_thetas_plus = np.linspace(-1,0,num_thetas+1) \n",
    "\n",
    "thetas = np.sort(np.array([np.arccos(ct) for ct in cos_thetas]))\n",
    "thetas_plus = np.array([np.arccos(ctp) for ctp in cos_thetas_plus])"
   ]
  },
  {
   "cell_type": "code",
   "execution_count": 3,
   "metadata": {
    "collapsed": false
   },
   "outputs": [
    {
     "name": "stderr",
     "output_type": "stream",
     "text": [
      "/home/mcrg/Software/anaconda3/lib/python3.5/site-packages/IPython/core/interactiveshell.py:2717: DtypeWarning: Columns (0,1,2,3,4,5,6,7,8) have mixed types. Specify dtype option on import or set low_memory=False.\n",
      "  interactivity=interactivity, compiler=compiler, result=result)\n"
     ]
    }
   ],
   "source": [
    "### --------------- tau10E5 --------------- ###\n",
    "\n",
    "vrots = [0,50]\n",
    "vouts = [25]\n",
    "\n",
    "all_x_frec = []\n",
    "all_z_u = []\n",
    "vrot_labs = []\n",
    "vout_labs = []\n",
    "\n",
    "for vout in vouts:\n",
    "    for vrot in vrots:\n",
    "        df = pd.read_csv('../../data/tau10E5/vrot'+str(vrot)+'/vout'+str(vout)+'/tau10E5_vrot'+str(vrot)+'_vout'+str(vout)+'_out.ascii', delimiter=' ')\n",
    "        \n",
    "        escaped = df['escaped']\n",
    "        x_frec = df['x_frec']\n",
    "        z_u = df['z_u']\n",
    "        \n",
    "        inds = np.where(escaped == 0)[0]\n",
    "        \n",
    "        x_frec_escaped = np.array(x_frec)[inds]\n",
    "        z_u_escaped = np.array(z_u)[inds]\n",
    "        \n",
    "        all_x_frec.append(x_frec_escaped)\n",
    "        all_z_u.append(z_u_escaped)\n",
    "              \n",
    "        vrot_labs.append(vrot)\n",
    "        vout_labs.append(vout)"
   ]
  },
  {
   "cell_type": "code",
   "execution_count": 4,
   "metadata": {
    "collapsed": false,
    "scrolled": false
   },
   "outputs": [],
   "source": [
    "v_th = -12.8\n",
    "\n",
    "fig = plt.figure(1, (10., 12.))\n",
    "grid = ImageGrid(fig, 111, # similar to subplot(111)\n",
    "                nrows_ncols = (2, 1), # creates 2x1 grid of axes\n",
    "                axes_pad=0.3, # pad between axes in inch.\n",
    "                aspect=False,)\n",
    "\n",
    "props = dict(boxstyle='square', facecolor='white')\n",
    "\n",
    "theta_lower = thetas[-2]\n",
    "theta_upper = thetas[-1]\n",
    "\n",
    "theta_plus_lower = thetas_plus[-1]\n",
    "theta_plus_upper = thetas_plus[-2]\n",
    "\n",
    "for i in range(2):\n",
    "    \n",
    "    filtered_file = open('vrot'+str(vrot_labs[i])+'_vout'+str(vout_labs[i])+'.dat','w') # contains a list of x's within that angle range\n",
    "\n",
    "    current_z_u = all_z_u[i]\n",
    "    current_x_frec = all_x_frec[i]\n",
    "\n",
    "    acos_current_z_u = np.array([np.arccos(czu) for czu in current_z_u])\n",
    "\n",
    "    angle_indices = np.where( ((acos_current_z_u >= theta_lower) & (acos_current_z_u < theta_upper)) | ((acos_current_z_u >= theta_plus_lower) & (acos_current_z_u < theta_plus_upper)))[0]\n",
    "\n",
    "    current_x = current_x_frec[angle_indices] #only the ones between those upper and lower angles\n",
    "    \n",
    "    for cx in current_x:\n",
    "        filtered_file.write(\"%s\\n\" % cx)\n",
    "    \n",
    "    current_x = current_x*v_th\n",
    "\n",
    "    vrot_lab = r'${0:.0f}$'.format(vrot_labs[i])\n",
    "    vout_lab = r'${0:.0f}$'.format(vout_labs[i])\n",
    "    theta_lower_lab = r'${0:.0f}$'.format(int(np.rad2deg(theta_lower)))\n",
    "    theta_upper_lab = r'${0:.0f}$'.format(int(np.rad2deg(theta_upper)))\n",
    "\n",
    "    theta_lab = r'$\\theta=$ '\n",
    "    lab_upper = '$v_{out}=$ '+vout_lab+' $\\mathrm{km}$ $\\mathrm{s^{-1}}$'\n",
    "    lab = '$v_{rot}=$ '+vrot_lab+' $\\mathrm{km}$ $\\mathrm{s^{-1}}$'\n",
    "\n",
    "    grid_i = grid[i]\n",
    "\n",
    "    n, b = np.histogram(current_x, bins=40)        \n",
    "    delta_x = b[1]-b[0]\n",
    "    area = delta_x * sum(n)\n",
    "    n = n/area\n",
    "    \n",
    "    border_x = []\n",
    "    border_y = []\n",
    "\n",
    "    for j in range(len(n)-1):\n",
    "        border_x.append(b[j]+delta_x/2)\n",
    "        border_x.append(b[j]+delta_x/2)\n",
    "        border_y.append(n[j])\n",
    "        border_y.append(n[j+1])\n",
    "        \n",
    "    grid_i.bar(b[0:40], n, width=delta_x, color='c', edgecolor=None, alpha = 1)\n",
    "    grid_i.plot(border_x, border_y, c='k', linewidth=1)\n",
    "\n",
    "    grid_i.axvline(x=0, ymin=0, ymax=1, c='k', linestyle='--', linewidth=1)\n",
    "    grid_i.set_xlim(-200,250)\n",
    "    grid_i.set_ylim(0,0.013)\n",
    "    grid_i.set_ylabel('$\\mathrm{Intensity}$')\n",
    "    grid_i.set_xlabel('$\\mathrm{V}$ ($\\mathrm{km}$ $\\mathrm{s^{-1}}$)')\n",
    "    grid_i.text(-180,0.011, lab, fontsize=20, bbox=props)\n",
    "    if (i==0):\n",
    "        grid_i.text(-65,0.014, lab_upper, fontsize=20, bbox=props)\n",
    "\n",
    "    filtered_file.close()\n",
    "\n",
    "plt.savefig('doppler_shift_original.png', format='png', transparent=False, bbox_inches='tight')\n",
    "plt.close()"
   ]
  },
  {
   "cell_type": "code",
   "execution_count": null,
   "metadata": {
    "collapsed": true
   },
   "outputs": [],
   "source": []
  }
 ],
 "metadata": {
  "kernelspec": {
   "display_name": "Python [conda root]",
   "language": "python",
   "name": "conda-root-py"
  },
  "language_info": {
   "codemirror_mode": {
    "name": "ipython",
    "version": 3
   },
   "file_extension": ".py",
   "mimetype": "text/x-python",
   "name": "python",
   "nbconvert_exporter": "python",
   "pygments_lexer": "ipython3",
   "version": "3.5.2"
  }
 },
 "nbformat": 4,
 "nbformat_minor": 0
}
