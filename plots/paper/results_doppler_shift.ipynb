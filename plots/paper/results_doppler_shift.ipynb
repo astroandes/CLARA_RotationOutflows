{
 "cells": [
  {
   "cell_type": "markdown",
   "metadata": {},
   "source": [
    "# Doppler Shift\n",
    "\n",
    "We take $v_{out}$ with $v_{rot_0} = 0$ km/s. Then we Doppler shift it to reproduce $v_{out}$ with $v_{rot}$. The combinations for each of the 3 taus are:\n",
    "\n",
    "* $v_{rot} = 50$ km/s and $v_{out} = 25$ km/s\n",
    "* $v_{rot} = 50$ km/s and $v_{out} = 50$ km/s\n",
    "* $v_{rot} = 50$ km/s and $v_{out} = 75$ km/s -> data vout=75?\n",
    "* $v_{rot} = 100$ km/s and $v_{out} = 25$ km/s\n",
    "* $v_{rot} = 100$ km/s and $v_{out} = 50$ km/s\n",
    "* $v_{rot} = 100$ km/s and $v_{out} = 75$ km/s -> data vout=75?"
   ]
  },
  {
   "cell_type": "markdown",
   "metadata": {},
   "source": [
    "This is an example:\n",
    "\n",
    "![example](../../paper/figures/rotation_doppler_outflow.png)"
   ]
  },
  {
   "cell_type": "markdown",
   "metadata": {},
   "source": [
    "### Imports"
   ]
  },
  {
   "cell_type": "code",
   "execution_count": 1,
   "metadata": {
    "collapsed": true
   },
   "outputs": [],
   "source": [
    "import pandas as pd\n",
    "import numpy as np\n",
    "import matplotlib.pyplot as plt\n",
    "from mpl_toolkits.axes_grid1 import ImageGrid\n",
    "from mpl_toolkits.mplot3d import Axes3D\n",
    "import os\n",
    "\n",
    "% matplotlib inline"
   ]
  },
  {
   "cell_type": "code",
   "execution_count": 2,
   "metadata": {
    "collapsed": true
   },
   "outputs": [],
   "source": [
    "def read_data(vrot=0, vout=5, logtau=5, input_dir=\"../../data/\"):\n",
    "    tau_name = 'tau10E' + str(logtau)\n",
    "    vrot_name = 'vrot' + str(vrot)\n",
    "    vout_name = 'vout' + str(vout)\n",
    "    filename = tau_name + '_' + vrot_name + '_' + vout_name + '_out.ascii'\n",
    "    fname =  os.path.join(input_dir, tau_name, vrot_name, vout_name, filename)\n",
    "\n",
    "    dtype=[('x', 'f8'),('y', 'f8'), ('z', 'f8'),\n",
    "           ('k_x', 'f8'),('k_y', 'f8'),('k_z', 'f8'),\n",
    "           ('x_frec', 'f8'), ('escaped', 'i8'), ('n_scattering', 'i8')]\n",
    "\n",
    "    df = np.loadtxt(fname, skiprows=1, dtype=dtype)\n",
    "    df = df[df['escaped']==0]\n",
    "    return df"
   ]
  },
  {
   "cell_type": "code",
   "execution_count": 3,
   "metadata": {
    "collapsed": true
   },
   "outputs": [],
   "source": [
    "def get_angles(num_thetas, num_phis):\n",
    "    '''Get the angles'''\n",
    "    cos_thetas = np.linspace(0,1,num_thetas+1) \n",
    "    cos_thetas_plus = np.linspace(-1,0,num_thetas+1)\n",
    "    thetas = np.sort(np.arccos(cos_thetas))\n",
    "    thetas_plus = np.arccos(cos_thetas_plus)\n",
    "    phis = np.linspace(0,2*np.pi,num_phis+1) \n",
    "    return thetas, thetas_plus, phis\n",
    "\n",
    "def get_unit_r_sphere(data):\n",
    "    '''Re-scale positions on the sphere at which the photons escaped'''\n",
    "    r_norm = np.sqrt(data['x']**2 + data['y']**2 + data['z']**2)\n",
    "    x_sphere = data['x'] / r_norm\n",
    "    y_sphere = data['y'] / r_norm\n",
    "    z_sphere = data['z'] / r_norm\n",
    "    return x_sphere, y_sphere, z_sphere\n",
    "\n",
    "# Auxiliar functions\n",
    "\n",
    "def filter_by_theta(data, theta_min, theta_max):\n",
    "    '''Return only the x_frec_escaped between those upper and lower angles'''\n",
    "    \n",
    "    cos_theta_k_out = np.abs(data['k_z'])\n",
    "    ii = (cos_theta_k_out<np.abs(np.cos(theta_min))) \n",
    "    ii = ii &   (cos_theta_k_out>np.abs(np.cos(theta_max)))\n",
    "    return data[ii]\n",
    "\n",
    "def get_atom_velocities(x_unitary, y_unitary, z_unitary, vrot):\n",
    "    '''Defines new atom velocities based on vrot (vr) '''\n",
    "    v_x = - y_unitary * vrot\n",
    "    v_y = x_unitary * vrot\n",
    "    v_z = np.zeros(len(z_unitary))\n",
    "    return {'x':v_x, 'y':v_y, 'z':v_z}\n",
    "\n",
    "def doppler_shift(data, vrot=0.0, v_th=12.86):\n",
    "    '''updates old_data adding doppler shifts. the result is stored in new_data'''\n",
    "    \n",
    "    new_data = data.copy()\n",
    "    \n",
    "    new_data['x'], new_data['y'], new_data['z'] = get_unit_r_sphere(data)\n",
    "    \n",
    "    atom_velocities = get_atom_velocities(\n",
    "                        new_data['x'], new_data['y'], new_data['z'], vrot=vrot)\n",
    "    \n",
    "    new_data['x_frec'] = data['x_frec'] \n",
    "    new_data['x_frec'] += atom_velocities['x']*data['k_x']/v_th\n",
    "    new_data['x_frec'] += atom_velocities['y']*data['k_y']/v_th\n",
    "    new_data['x_frec'] += atom_velocities['z']*data['k_z']/v_th\n",
    "    \n",
    "    return new_data"
   ]
  },
  {
   "cell_type": "code",
   "execution_count": 4,
   "metadata": {
    "collapsed": true
   },
   "outputs": [],
   "source": [
    "def plot_spectra(data, min_theta, max_theta, alpha=1.0, v_th=12.86, lw=2,label='label'):\n",
    "    data_theta = filter_by_theta(data, min_theta, max_theta)\n",
    "    a = plt.hist(-data_theta['x_frec']*v_th, histtype='step', \n",
    "                 fill=False, stacked=False, normed=True, color='black',\n",
    "                 linewidth=lw, bins=50, alpha=alpha, label=label)"
   ]
  },
  {
   "cell_type": "code",
   "execution_count": 5,
   "metadata": {},
   "outputs": [
    {
     "data": {
      "text/plain": [
       "<matplotlib.legend.Legend at 0x7fdbc7645f98>"
      ]
     },
     "execution_count": 5,
     "metadata": {},
     "output_type": "execute_result"
    },
    {
     "data": {
      "image/png": "[encoded data removed]",
      "text/plain": [
       "<matplotlib.figure.Figure at 0x7fdbd4817160>"
      ]
     },
     "metadata": {},
     "output_type": "display_data"
    }
   ],
   "source": [
    "# We are going to transform data_A to rewrite data_C and compare it against data_B\n",
    "data_A = read_data(vout=5, vrot=0, logtau=5)\n",
    "data_B = read_data(vout=5, vrot=100, logtau=5)\n",
    "data_C = doppler_shift(data_A, vrot=100.0)\n",
    "fig = plt.figure(1, (8., 6.))\n",
    "mint= np.pi/2.0 -0.05\n",
    "maxt = np.pi/2.0\n",
    "plot_spectra(data_A, min_theta=mint, max_theta=maxt, lw=1, label='No Rotation')\n",
    "plot_spectra(data_B, min_theta=mint, max_theta=maxt, lw=4, label='Rotation')\n",
    "plot_spectra(data_C, min_theta=mint, max_theta=maxt, lw=4, alpha=0.4, \n",
    "            label='No Rotation + Doppler Shift')\n",
    "plt.legend(loc=2)"
   ]
  },
  {
   "cell_type": "code",
   "execution_count": 6,
   "metadata": {},
   "outputs": [
    {
     "data": {
      "text/plain": [
       "<matplotlib.legend.Legend at 0x7fdbc766e518>"
      ]
     },
     "execution_count": 6,
     "metadata": {},
     "output_type": "execute_result"
    },
    {
     "data": {
      "image/png": "[encoded data removed]",
      "text/plain": [
       "<matplotlib.figure.Figure at 0x7fdbc766e4a8>"
      ]
     },
     "metadata": {},
     "output_type": "display_data"
    }
   ],
   "source": [
    "data_A = read_data(vout=25, vrot=0, logtau=5)\n",
    "data_B = read_data(vout=25, vrot=100, logtau=5)\n",
    "data_C = doppler_shift(data_A, vrot=100.0)\n",
    "fig = plt.figure(1, (8., 6.))\n",
    "mint= np.pi/2.0 -0.05\n",
    "maxt = np.pi/2.0\n",
    "plot_spectra(data_A, min_theta=mint, max_theta=maxt, lw=1, label='No Rotation')\n",
    "plot_spectra(data_B, min_theta=mint, max_theta=maxt, lw=4, label='Rotation')\n",
    "plot_spectra(data_C, min_theta=mint, max_theta=maxt, lw=4, alpha=0.4, \n",
    "            label='No Rotation + Doppler Shift')\n",
    "plt.legend(loc=2)"
   ]
  },
  {
   "cell_type": "code",
   "execution_count": 7,
   "metadata": {},
   "outputs": [
    {
     "data": {
      "text/plain": [
       "<matplotlib.legend.Legend at 0x7fdbc5503e48>"
      ]
     },
     "execution_count": 7,
     "metadata": {},
     "output_type": "execute_result"
    },
    {
     "data": {
      "image/png": "[encoded data removed]",
      "text/plain": [
       "<matplotlib.figure.Figure at 0x7fdbc4f83f98>"
      ]
     },
     "metadata": {},
     "output_type": "display_data"
    }
   ],
   "source": [
    "data_A = read_data(vout=50, vrot=0, logtau=5)\n",
    "data_B = read_data(vout=50, vrot=100, logtau=5)\n",
    "data_C = doppler_shift(data_A, vrot=100.0)\n",
    "fig = plt.figure(1, (8., 6.))\n",
    "mint= np.pi/2.0 -0.05\n",
    "maxt = np.pi/2.0\n",
    "plot_spectra(data_A, min_theta=mint, max_theta=maxt, lw=1, label='No Rotation')\n",
    "plot_spectra(data_B, min_theta=mint, max_theta=maxt, lw=4, label='Rotation')\n",
    "plot_spectra(data_C, min_theta=mint, max_theta=maxt, lw=4, alpha=0.4, \n",
    "            label='No Rotation + Doppler Shift')\n",
    "plt.legend(loc=2)"
   ]
  },
  {
   "cell_type": "code",
   "execution_count": 8,
   "metadata": {},
   "outputs": [
    {
     "data": {
      "text/plain": [
       "<matplotlib.legend.Legend at 0x7fdbc53b52b0>"
      ]
     },
     "execution_count": 8,
     "metadata": {},
     "output_type": "execute_result"
    },
    {
     "data": {
      "image/png": "[encoded data removed]",
      "text/plain": [
       "<matplotlib.figure.Figure at 0x7fdbf65c84a8>"
      ]
     },
     "metadata": {},
     "output_type": "display_data"
    }
   ],
   "source": [
    "data_A = read_data(vout=5, vrot=0, logtau=6)\n",
    "data_B = read_data(vout=5, vrot=100, logtau=6)\n",
    "data_C = doppler_shift(data_A, vrot=100.0)\n",
    "fig = plt.figure(1, (8., 6.))\n",
    "mint= np.pi/2.0 -0.05\n",
    "maxt = np.pi/2.0\n",
    "plot_spectra(data_A, min_theta=mint, max_theta=maxt, lw=1, label='No Rotation')\n",
    "plot_spectra(data_B, min_theta=mint, max_theta=maxt, lw=4, label='Rotation')\n",
    "plot_spectra(data_C, min_theta=mint, max_theta=maxt, lw=4, alpha=0.4, \n",
    "            label='No Rotation + Doppler Shift')\n",
    "plt.legend(loc=2)"
   ]
  },
  {
   "cell_type": "code",
   "execution_count": null,
   "metadata": {
    "collapsed": true
   },
   "outputs": [],
   "source": []
  },
  {
   "cell_type": "code",
   "execution_count": null,
   "metadata": {
    "collapsed": true
   },
   "outputs": [],
   "source": []
  },
  {
   "cell_type": "markdown",
   "metadata": {
    "collapsed": true
   },
   "source": [
    "# Figure: fig:doppler_shift"
   ]
  },
  {
   "cell_type": "code",
   "execution_count": 9,
   "metadata": {
    "collapsed": true
   },
   "outputs": [],
   "source": [
    "def plot_spectra_gridcell(grid_i, data, min_theta, max_theta, alpha=1.0, v_th=12.86, lw=2,label='label'):\n",
    "    data_theta = filter_by_theta(data, min_theta, max_theta)\n",
    "    grid_i.hist(-data_theta['x_frec']*v_th, histtype='step', \n",
    "                fill=False, stacked=False, normed=True, color='black',\n",
    "                linewidth=lw, bins=50, alpha=alpha, label=label)"
   ]
  },
  {
   "cell_type": "code",
   "execution_count": 10,
   "metadata": {
    "collapsed": true
   },
   "outputs": [],
   "source": [
    "plt.rc('text', usetex=True)\n",
    "plt.rc('font', size=20)"
   ]
  },
  {
   "cell_type": "code",
   "execution_count": 11,
   "metadata": {
    "collapsed": true
   },
   "outputs": [],
   "source": [
    "def plot_doppler_grid(logtau, xmin=-150, xmax=200, ymin=0, ymax=0.0125):\n",
    "    vrot0 = 0\n",
    "    vrots = [50,100]\n",
    "    vouts = [5,25,50]\n",
    "\n",
    "    num_rows, num_cols = len(vouts), len(vrots)\n",
    "\n",
    "    fig = plt.figure(1, figsize=(20, 20))\n",
    "    grid = ImageGrid(fig, 111, # similar to subplot(111)\n",
    "                     nrows_ncols = (num_rows, num_cols), # creates num_rows x num_cols grid of axes\n",
    "                     axes_pad=0.3, # pad between axes in inch.\n",
    "                     aspect=False,)\n",
    "    props = dict(boxstyle='square', facecolor='white')\n",
    "\n",
    "    i = 0 # grid cell number\n",
    "    for vout in vouts:\n",
    "        for vrot in vrots:\n",
    "\n",
    "            data_A = read_data(vout=vout, vrot=vrot0, logtau=logtau)\n",
    "            data_B = read_data(vout=vout, vrot=vrot, logtau=logtau)\n",
    "            data_C = doppler_shift(data_A, vrot=vrot)\n",
    "\n",
    "            grid_i = grid[i]\n",
    "\n",
    "            mint= np.pi/2.0 - 0.05\n",
    "            maxt = np.pi/2.0\n",
    "            plot_spectra_gridcell(grid_i, data_A, min_theta=mint, max_theta=maxt, lw=1, label='Outflows')\n",
    "            plot_spectra_gridcell(grid_i, data_B, min_theta=mint, max_theta=maxt, lw=4, \n",
    "                                  label='Outflows + \\n Rotation')\n",
    "            plot_spectra_gridcell(grid_i, data_C, min_theta=mint, max_theta=maxt, lw=4, alpha=0.4, \n",
    "                                  label='Outflows + \\n Doppler')\n",
    "            grid_i.legend(loc=2)\n",
    "\n",
    "            grid_i.set_xlim(xmin,xmax)\n",
    "            grid_i.set_ylim(ymin,ymax)\n",
    "\n",
    "            vout_lab = r'$v_{\\mathrm{out}}=$ ' + '${0:.0f}$'.format(vout) + ' $\\mathrm{km}$ $\\mathrm{s^{-1}}$'\n",
    "            vrot_lab = r'$v_{\\mathrm{rot}}=$ ' + '${0:.0f}$'.format(vrot) + ' $\\mathrm{km}$ $\\mathrm{s^{-1}}$'\n",
    "\n",
    "            if i <= 1:\n",
    "                grid_i.text((xmin+xmax)/2, ymax*1.1, vrot_lab, bbox=props,\n",
    "                            horizontalalignment='center', verticalalignment='center')\n",
    "            if i%2 == 1:\n",
    "                grid_i.text(xmax*1.1, (ymin+ymax)/2, vout_lab, bbox=props, rotation=270,\n",
    "                            horizontalalignment='center', verticalalignment='center')\n",
    "            if i == 2:\n",
    "                grid_i.set_ylabel('$\\mathrm{Intensity}$')\n",
    "            if i == 4 or i == 5:\n",
    "                grid_i.set_xlabel('$\\mathrm{V}$ ($\\mathrm{km}$ $\\mathrm{s^{-1}}$)')\n",
    "\n",
    "            i += 1\n",
    "\n",
    "    plt.savefig('./results/doppler_shift_'+str(logtau)+'.png', format='png', transparent=False, bbox_inches='tight')\n",
    "    plt.close()"
   ]
  },
  {
   "cell_type": "code",
   "execution_count": 12,
   "metadata": {
    "collapsed": true
   },
   "outputs": [],
   "source": [
    "plot_doppler_grid(logtau=5)"
   ]
  },
  {
   "cell_type": "code",
   "execution_count": 15,
   "metadata": {
    "collapsed": true
   },
   "outputs": [],
   "source": [
    "plot_doppler_grid(logtau=6, xmin=-200, xmax=300, ymin=0, ymax=0.009)"
   ]
  },
  {
   "cell_type": "code",
   "execution_count": 16,
   "metadata": {},
   "outputs": [
    {
     "name": "stderr",
     "output_type": "stream",
     "text": [
      "/home/mcrg/Software/anaconda3/lib/python3.6/site-packages/ipykernel_launcher.py:13: RuntimeWarning: invalid value encountered in true_divide\n",
      "  del sys.path[0]\n",
      "/home/mcrg/Software/anaconda3/lib/python3.6/site-packages/ipykernel_launcher.py:14: RuntimeWarning: invalid value encountered in true_divide\n",
      "  \n",
      "/home/mcrg/Software/anaconda3/lib/python3.6/site-packages/ipykernel_launcher.py:15: RuntimeWarning: invalid value encountered in true_divide\n",
      "  from ipykernel import kernelapp as app\n"
     ]
    }
   ],
   "source": [
    "plot_doppler_grid(logtau=7, xmin=-350, xmax=550, ymin=0, ymax=0.005)"
   ]
  },
  {
   "cell_type": "code",
   "execution_count": null,
   "metadata": {
    "collapsed": true
   },
   "outputs": [],
   "source": []
  }
 ],
 "metadata": {
  "kernelspec": {
   "display_name": "Python 3",
   "language": "python",
   "name": "python3"
  },
  "language_info": {
   "codemirror_mode": {
    "name": "ipython",
    "version": 3
   },
   "file_extension": ".py",
   "mimetype": "text/x-python",
   "name": "python",
   "nbconvert_exporter": "python",
   "pygments_lexer": "ipython3",
   "version": "3.6.1"
  }
 },
 "nbformat": 4,
 "nbformat_minor": 1
}
