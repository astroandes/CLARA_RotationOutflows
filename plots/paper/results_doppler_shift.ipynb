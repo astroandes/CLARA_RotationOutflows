{
 "cells": [
  {
   "cell_type": "markdown",
   "metadata": {},
   "source": [
    "# Doppler Shift"
   ]
  },
  {
   "cell_type": "markdown",
   "metadata": {},
   "source": [
    "### Imports"
   ]
  },
  {
   "cell_type": "code",
   "execution_count": 1,
   "metadata": {
    "collapsed": true
   },
   "outputs": [],
   "source": [
    "import numpy as np\n",
    "import matplotlib.pyplot as plt\n",
    "from mpl_toolkits.axes_grid1 import ImageGrid\n",
    "from model import read_data, doppler_shift, filter_by_theta, get_spectra, plot_spectra\n",
    "\n",
    "% matplotlib inline"
   ]
  },
  {
   "cell_type": "code",
   "execution_count": 2,
   "metadata": {},
   "outputs": [],
   "source": [
    "plt.rc('text', usetex=True)\n",
    "plt.rc('font', size=30)"
   ]
  },
  {
   "cell_type": "markdown",
   "metadata": {},
   "source": [
    "### Example"
   ]
  },
  {
   "cell_type": "code",
   "execution_count": 3,
   "metadata": {},
   "outputs": [
    {
     "data": {
      "image/png": "[encoded data removed]",
      "text/plain": [
       "<matplotlib.figure.Figure at 0x7ff955649320>"
      ]
     },
     "metadata": {},
     "output_type": "display_data"
    }
   ],
   "source": [
    "vrot = 100\n",
    "vout = 5\n",
    "logtau = 6\n",
    "min_theta = np.pi/2.0 - 0.15\n",
    "max_theta = np.pi/2.0\n",
    "\n",
    "data_0 = read_data(0, vout, logtau)\n",
    "x_0, y_0 = get_spectra(data_0, as_hist=False)\n",
    "\n",
    "data_doppler = doppler_shift(data_0, vrot=vrot)\n",
    "data_doppler_theta = filter_by_theta(data_doppler, min_theta, max_theta)\n",
    "x_doppler, y_doppler = get_spectra(data_doppler_theta, as_hist=False)\n",
    "\n",
    "data_clara = read_data(vrot, vout, logtau)\n",
    "data_clara_theta = filter_by_theta(data_clara, min_theta, max_theta)\n",
    "x_clara, y_clara = get_spectra(data_clara_theta, as_hist=False)\n",
    "\n",
    "fig, ax = plt.subplots(figsize=(16,12))\n",
    "plot_spectra(x_0, y_0, ax, lw=1, label='No Rotation')\n",
    "plot_spectra(x_clara, y_clara, ax, lw=4, label='Rotation')\n",
    "plot_spectra(x_doppler, y_doppler, ax, lw=4, alpha=0.4, label='No Rotation + Doppler Shift')\n",
    "plt.legend(loc='upper left')\n",
    "plt.show()"
   ]
  },
  {
   "cell_type": "markdown",
   "metadata": {},
   "source": [
    "### Functions"
   ]
  },
  {
   "cell_type": "code",
   "execution_count": 4,
   "metadata": {},
   "outputs": [],
   "source": [
    "def plot_doppler_grid(logtau, xmin=-150, xmax=200, ymin=0, ymax=0.0125, mint=np.pi/2.0-0.13, maxt=np.pi/2.0, labt=90):\n",
    "    vrot0 = 0\n",
    "    vrots = [50,100]\n",
    "    vouts = [5,25,50]\n",
    "\n",
    "    num_rows, num_cols = len(vouts), len(vrots)\n",
    "\n",
    "    fig = plt.figure(1, figsize=(20, 20))\n",
    "    grid = ImageGrid(fig, 111, # similar to subplot(111)\n",
    "                     nrows_ncols = (num_rows, num_cols), # creates num_rows x num_cols grid of axes\n",
    "                     axes_pad=0.3, # pad between axes in inch.\n",
    "                     aspect=False,)\n",
    "    props = dict(boxstyle='square', facecolor='white')\n",
    "\n",
    "    i = 0 # grid cell number\n",
    "    for vout in vouts:\n",
    "        for vrot in vrots:\n",
    "            \n",
    "            data_0 = read_data(0, vout, logtau)\n",
    "            x_0, y_0 = get_spectra(data_0, as_hist=False)\n",
    "\n",
    "            data_doppler = doppler_shift(data_0, vrot=vrot)\n",
    "            data_doppler_theta = filter_by_theta(data_doppler, mint, maxt)\n",
    "            x_doppler, y_doppler = get_spectra(data_doppler_theta, as_hist=False)\n",
    "\n",
    "            data_clara = read_data(vrot, vout, logtau)\n",
    "            data_clara_theta = filter_by_theta(data_clara, mint, maxt)\n",
    "            x_clara, y_clara = get_spectra(data_clara_theta, as_hist=False)\n",
    "\n",
    "            grid_i = grid[i]\n",
    "            \n",
    "            grid_i.hist(x_0, weights=y_0, histtype='step', fill=False, normed=True, \n",
    "                        color='black', linewidth=1, bins=50, label='Outflows')\n",
    "            grid_i.hist(x_clara, weights=y_clara, histtype='step', fill=False, normed=True, \n",
    "                        color='black', linewidth=4, bins=50, label='Outflows \\n Rotation')\n",
    "            grid_i.hist(x_doppler, weights=y_doppler, histtype='step', fill=False, normed=True, \n",
    "                        color='black', linewidth=4, alpha=0.4, bins=50, label='Outflows \\n Doppler')\n",
    "\n",
    "            if i == 4:\n",
    "                grid_i.legend(loc=2)\n",
    "\n",
    "            grid_i.set_xlim(xmin,xmax)\n",
    "            grid_i.set_ylim(ymin,ymax)\n",
    "\n",
    "            vout_lab = r'$v_{\\mathrm{out}}=$ ' + '${0:.0f}$'.format(vout) + ' $\\mathrm{km}$ $\\mathrm{s^{-1}}$'\n",
    "            vrot_lab = r'$v_{\\mathrm{rot}}=$ ' + '${0:.0f}$'.format(vrot) + ' $\\mathrm{km}$ $\\mathrm{s^{-1}}$'\n",
    "\n",
    "            if i <= 1:\n",
    "                grid_i.text((xmin+xmax)/2, ymax*1.2, vrot_lab, bbox=props,\n",
    "                            horizontalalignment='center', verticalalignment='center')\n",
    "            if i%2 == 1:\n",
    "                grid_i.text(xmax*1.2, (ymin+ymax)/2, vout_lab, bbox=props, rotation=270,\n",
    "                            horizontalalignment='center', verticalalignment='center')\n",
    "            if i == 2:\n",
    "                grid_i.set_ylabel('$\\mathrm{Intensity}$')\n",
    "            if i == 4 or i == 5:\n",
    "                grid_i.set_xlabel('$\\mathrm{V}$ ($\\mathrm{km}$ $\\mathrm{s^{-1}}$)')\n",
    "\n",
    "            i += 1\n",
    "\n",
    "    plt.savefig('./results/doppler_shift_logtau'+str(logtau)+'_theta'+str(labt)+'.pdf', format='pdf', transparent=False, \n",
    "                bbox_inches='tight', pad_inches=0.2)\n",
    "    plt.close()"
   ]
  },
  {
   "cell_type": "markdown",
   "metadata": {},
   "source": [
    "### Figure: doppler_shift"
   ]
  },
  {
   "cell_type": "code",
   "execution_count": 5,
   "metadata": {
    "collapsed": true
   },
   "outputs": [],
   "source": [
    "# theta = 90\n",
    "plot_doppler_grid(logtau=5)\n",
    "plot_doppler_grid(logtau=6, xmin=-200, xmax=300, ymin=0, ymax=0.009)\n",
    "plot_doppler_grid(logtau=7, xmin=-350, xmax=550, ymin=0, ymax=0.005)"
   ]
  },
  {
   "cell_type": "code",
   "execution_count": 6,
   "metadata": {
    "collapsed": true
   },
   "outputs": [],
   "source": [
    "# theta = 0\n",
    "plot_doppler_grid(logtau=5, mint=0, maxt=0.51, labt=0)\n",
    "plot_doppler_grid(logtau=6, xmin=-200, xmax=300, ymin=0, ymax=0.009, mint=0, maxt=0.51, labt=0)\n",
    "plot_doppler_grid(logtau=7, xmin=-350, xmax=550, ymin=0, ymax=0.005, mint=0, maxt=0.51, labt=0)"
   ]
  },
  {
   "cell_type": "code",
   "execution_count": null,
   "metadata": {},
   "outputs": [],
   "source": []
  },
  {
   "cell_type": "code",
   "execution_count": 7,
   "metadata": {},
   "outputs": [
    {
     "data": {
      "text/plain": [
       "array([ 0.        ,  0.50536051,  0.72273425,  0.89566479,  1.04719755,\n",
       "        1.18639955,  1.31811607,  1.4454685 ,  1.57079633])"
      ]
     },
     "execution_count": 7,
     "metadata": {},
     "output_type": "execute_result"
    }
   ],
   "source": [
    "a = np.linspace(1,0,9)\n",
    "b = np.arccos(a)\n",
    "b"
   ]
  },
  {
   "cell_type": "code",
   "execution_count": 8,
   "metadata": {},
   "outputs": [
    {
     "data": {
      "text/plain": [
       "0.12532783116806523"
      ]
     },
     "execution_count": 8,
     "metadata": {},
     "output_type": "execute_result"
    }
   ],
   "source": [
    "b[-1]-b[-2]"
   ]
  },
  {
   "cell_type": "code",
   "execution_count": null,
   "metadata": {},
   "outputs": [],
   "source": []
  }
 ],
 "metadata": {
  "kernelspec": {
   "display_name": "Python 3",
   "language": "python",
   "name": "python3"
  },
  "language_info": {
   "codemirror_mode": {
    "name": "ipython",
    "version": 3
   },
   "file_extension": ".py",
   "mimetype": "text/x-python",
   "name": "python",
   "nbconvert_exporter": "python",
   "pygments_lexer": "ipython3",
   "version": "3.6.4"
  }
 },
 "nbformat": 4,
 "nbformat_minor": 2
}
