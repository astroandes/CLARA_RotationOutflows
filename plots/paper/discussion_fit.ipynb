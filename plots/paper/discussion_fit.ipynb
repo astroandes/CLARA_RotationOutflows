{
 "cells": [
  {
   "cell_type": "markdown",
   "metadata": {},
   "source": [
    "# Fit"
   ]
  },
  {
   "cell_type": "markdown",
   "metadata": {},
   "source": [
    "### Imports"
   ]
  },
  {
   "cell_type": "code",
   "execution_count": 20,
   "metadata": {
    "collapsed": true
   },
   "outputs": [],
   "source": [
    "import emcee, corner\n",
    "import numpy as np\n",
    "import matplotlib.pyplot as plt\n",
    "from model import read_data, doppler_shift, filter_by_theta, get_spectra, bins_to_x\n",
    "\n",
    "% matplotlib inline"
   ]
  },
  {
   "cell_type": "code",
   "execution_count": 2,
   "metadata": {
    "collapsed": true
   },
   "outputs": [],
   "source": [
    "plt.rc('text', usetex=True)\n",
    "plt.rc('font', size=30)"
   ]
  },
  {
   "cell_type": "markdown",
   "metadata": {},
   "source": [
    "### Constants"
   ]
  },
  {
   "cell_type": "code",
   "execution_count": null,
   "metadata": {},
   "outputs": [],
   "source": [
    "VROT_MIN = 0.0\n",
    "VROT_MAX = 600.0\n",
    "THETA_MIN = 0.0\n",
    "THETA_MAX = np.pi/2.0\n",
    "NUM_THETAS = 9\n",
    "THETAS_RANGE = np.arccos(np.linspace(1, 0, NUM_THETAS))\n",
    "N_STEPS = 500"
   ]
  },
  {
   "cell_type": "markdown",
   "metadata": {},
   "source": [
    "### Functions"
   ]
  },
  {
   "cell_type": "code",
   "execution_count": 1,
   "metadata": {},
   "outputs": [],
   "source": [
    "def get_theta_range(theta):\n",
    "    '''Returns the range of theta in a cosine linear space.'''\n",
    "    min_theta = THETAS_RANGE[0]\n",
    "    max_theta = THETAS_RANGE[1]\n",
    "    for i in range(NUM_THETAS-1):\n",
    "        min_theta = THETAS_RANGE[i]\n",
    "        max_theta = THETAS_RANGE[i+1]\n",
    "        if (theta >= min_theta and theta <= max_theta):\n",
    "            break\n",
    "    return min_theta, max_theta\n",
    "\n",
    "def model(data_doppler, vrot, theta):\n",
    "    '''Model.'''\n",
    "    doppler = doppler_shift(data_doppler, vrot=vrot)\n",
    "    min_theta, max_theta = get_theta_range(theta)\n",
    "    doppler_theta = filter_by_theta(doppler, min_theta=min_theta,\n",
    "                                    max_theta=max_theta)\n",
    "    b_m, n_m = get_spectra(doppler_theta)\n",
    "    return b_m, n_m\n",
    "\n",
    "def get_difference(b_m, n_m, x_d, y_d):\n",
    "    '''Use the data resolution to subtract model and data.'''\n",
    "    # kulas is wider than model\n",
    "    diff = []\n",
    "    ind = 0\n",
    "    for i in range(len(x_d)):\n",
    "        x = x_d[i]\n",
    "        if (x<np.amin(b_m) or x>np.amax(b_m)):\n",
    "            diff.append( y_d[i] )\n",
    "        else:\n",
    "            is_x_at_ind = (x>=b_m[ind] and x<=b_m[ind+1])\n",
    "            while (not is_x_at_ind):\n",
    "                ind += 1\n",
    "                is_x_at_ind = (x>=b_m[ind] and x<=b_m[ind+1])\n",
    "            diff.append( y_d[i] - n_m[ind] )\n",
    "    diff = np.array(diff)\n",
    "    return diff\n",
    "\n",
    "def ln_prior(param):\n",
    "    '''Log of prior.'''\n",
    "    vrot, theta = param\n",
    "    if ((VROT_MIN <= vrot <= VROT_MAX) and (THETA_MIN <= theta <= THETA_MAX)):\n",
    "        return 0.0\n",
    "    return -np.inf\n",
    "\n",
    "def ln_likelihood(param, x_d, y_d, data_doppler):\n",
    "    '''Log of likelihood function.'''\n",
    "    vrot, theta = param\n",
    "    b_m, n_m = model(data_doppler, vrot, theta)\n",
    "    diff = get_difference(b_m, n_m, x_d, y_d)\n",
    "    chi_squared = np.sum(diff**2)\n",
    "    return -0.5*chi_squared\n",
    "\n",
    "def ln_probability(param, x_d, y_d, data_doppler):\n",
    "    '''Log of probability function.'''\n",
    "    lp = ln_prior(param)\n",
    "    if not np.isfinite(lp):\n",
    "        return -np.inf\n",
    "    return lp + ln_likelihood(param, x_d, y_d, data_doppler)\n",
    "\n",
    "def emcee_kulas(x_d, y_d, data_doppler):\n",
    "    '''Emcee implementation.'''\n",
    "    # First guess\n",
    "    vrot = VROT_MAX/2.0\n",
    "    theta = THETA_MAX\n",
    "    first_guess = [vrot, theta]\n",
    "\n",
    "    # Running emcee\n",
    "    ndim = 2\n",
    "    nwalkers = 8\n",
    "    nsteps = N_STEPS\n",
    "\n",
    "    pos = [first_guess+ 1e-3*np.random.randn(ndim) for i in range(nwalkers)]\n",
    "\n",
    "    sampler = emcee.EnsembleSampler(nwalkers, ndim, ln_probability,\n",
    "                                    args=(x_d, y_d, data_doppler), threads=8)\n",
    "\n",
    "    sampler.run_mcmc(pos, nsteps, rstate0=np.random.get_state())\n",
    "\n",
    "    # Saving results\n",
    "    samples_fc = sampler.flatchain\n",
    "    #logprob_fc = sampler.flatlnprobability\n",
    "    #np.savetxt('sampler_flatchain.dat', samples_fc, delimiter=',')\n",
    "\n",
    "    # Should be between approximately 0.25 and 0.5 if everything went as planned\n",
    "    maf_msg = \"Mean acceptance fraction: {0:.3f} (0.25 < m.a.f. <0.5 approx)\"\n",
    "    print(maf_msg.format(np.mean(sampler.acceptance_fraction)))\n",
    "\n",
    "    # Discard the initial 50 steps\n",
    "    samples = samples_fc[50:]\n",
    "    #logprob = logprob_fc[50:]\n",
    "\n",
    "    # Unpack the walk for each parameter\n",
    "    vrot_walk, theta_walk = np.transpose(samples)\n",
    "\n",
    "    # Extract the percentiles for each parameter\n",
    "    vrot_mcmc = np.percentile(vrot_walk, [16, 50, 84])\n",
    "    theta_mcmc = np.percentile(theta_walk, [16, 50, 84])\n",
    "\n",
    "    # Takes the best parameters as the 50 percentile\n",
    "    vrot_best = vrot_mcmc[1]\n",
    "    theta_best = theta_mcmc[1]\n",
    "\n",
    "    # Prints them\n",
    "    #print('Parameter = [16 50 84]')\n",
    "    #print('vrot = ', vrot_mcmc)\n",
    "    #print('theta = ', theta_mcmc)\n",
    "\n",
    "    fig = corner.corner(samples, labels=[r\"$v_{rot}$\", r\"$\\theta$\"],\n",
    "                        quantiles=[0.16, 0.5, 0.84])\n",
    "    return vrot_best, theta_best, fig\n",
    "\n",
    "def plot_spectra(x_m, y_m, x_d, y_d, alpha=1.0, lw=2, fn=\"fit_emcee.png\"):\n",
    "    '''To plot results.'''\n",
    "\n",
    "    y_fw = [] # to plot y_m as it was used to get the difference\n",
    "    ind = 0\n",
    "    for i in range(len(x_d)):\n",
    "        x = x_d[i]\n",
    "        if (x<np.amin(x_m) or x>np.amax(x_m)):\n",
    "            y_fw.append( 0.0 )\n",
    "        else:\n",
    "            is_x_at_ind = (x>=x_m[ind] and x<=x_m[ind+1])\n",
    "            while (not is_x_at_ind):\n",
    "                ind += 1\n",
    "                is_x_at_ind = (x>=x_m[ind] and x<=x_m[ind+1])\n",
    "            y_fw.append( y_m[ind] )\n",
    "    y_fw = np.array(y_fw)\n",
    "\n",
    "    b = len(x_m)\n",
    "    plt.figure()\n",
    "    #plt.hist(x_m, weights=y_m, histtype='step', fill=False, normed=True,\n",
    "    #         color='black', linewidth=lw, bins=b, alpha=alpha, label='Emcee')\n",
    "    plt.hist(x_d, weights=y_fw, histtype='step', fill=False, normed=True,\n",
    "             color='black', linewidth=lw, bins=b, alpha=alpha, label='Emcee')\n",
    "    plt.hist(x_d, weights=y_d, histtype='step', fill=False, normed=True,\n",
    "             color='black', linewidth=1, bins=b, linestyle='--', label='Kulas')\n",
    "    plt.legend()\n",
    "    plt.savefig(fn)\n",
    "\n",
    "def preprocess_data(data):\n",
    "    '''To preprocess Kulas.'''\n",
    "    x_d, y_d = data[:,0], data[:,1]\n",
    "    x_d = x_d/(1+2.5954)\n",
    "    x_p, y_p = [], []\n",
    "    dx = 20\n",
    "    x = -500\n",
    "    end = 500\n",
    "    while (x <= end):\n",
    "        if (x < np.amin(x_d) or x > np.amax(x_d)):\n",
    "            y_p.append(0.0)\n",
    "        else:\n",
    "            y = np.interp(x, x_d, y_d)\n",
    "            y_p.append(y)\n",
    "        x_p.append(x)\n",
    "        x += dx\n",
    "    x_p = np.array(x_p)\n",
    "    y_p = np.array(y_p)\n",
    "\n",
    "    area = np.trapz(y_p, x_p)\n",
    "    y_p = (y_p/area)\n",
    "\n",
    "    return x_p, y_p"
   ]
  },
  {
   "cell_type": "markdown",
   "metadata": {},
   "source": [
    "### Data"
   ]
  },
  {
   "cell_type": "code",
   "execution_count": 18,
   "metadata": {},
   "outputs": [
    {
     "data": {
      "text/plain": [
       "<matplotlib.text.Text at 0x7feeb5c4e0f0>"
      ]
     },
     "execution_count": 18,
     "metadata": {},
     "output_type": "execute_result"
    },
    {
     "data": {
      "image/png": "[encoded data removed]",
      "text/plain": [
       "<matplotlib.figure.Figure at 0x7feeb5c27828>"
      ]
     },
     "metadata": {},
     "output_type": "display_data"
    }
   ],
   "source": [
    "# Kulas data\n",
    "data = np.loadtxt('./discussion/fit_kulas.csv', delimiter=',')\n",
    "x_d, y_d = preprocess_data(kulas)\n",
    "\n",
    "# Input\n",
    "vrot0 = 0\n",
    "vout = 5"
   ]
  },
  {
   "cell_type": "markdown",
   "metadata": {},
   "source": [
    "### Emcee"
   ]
  },
  {
   "cell_type": "code",
   "execution_count": null,
   "metadata": {},
   "outputs": [],
   "source": [
    "# logtau = 6\n",
    "logtau_6 = 6\n",
    "data_6 = read_data(vrot0, vout, logtau_6)\n",
    "vrot_6, theta_6, fig_6 = emcee_kulas(x_d, y_d, data_6)\n",
    "b_6, y_6 = model(data_6, vrot_6, theta_6)\n",
    "np.savetxt(\"./discussion/fit_results_6.txt\", [vrot_6, theta_6])\n",
    "x_6 = bins_to_x(b_6)\n",
    "plot_spectra(x_6, y_6, x_d, y_d, fn=\"fit_emcee_6.png\")\n",
    "fig_6.savefig(\"./discussion/fit_triangle_6.png\", dpi=200)"
   ]
  },
  {
   "cell_type": "code",
   "execution_count": null,
   "metadata": {},
   "outputs": [],
   "source": [
    "# logtau = 7\n",
    "logtau_7 = 7\n",
    "data_7 = read_data(vrot0, vout, logtau_7)\n",
    "vrot_7, theta_7, fig_7 = emcee_kulas(x_d, y_d, data_7)\n",
    "b_7, y_7 = model(data_7, vrot_7, theta_7)\n",
    "np.savetxt(\"./discussion/fit_results_7.txt\", [vrot_7, theta_7])\n",
    "x_7 = bins_to_x(b_7)\n",
    "plot_spectra(x_7, y_7, x_d, y_d, fn=\"fit_emcee_7.png\")\n",
    "fig_7.savefig(\"./discussion/fit_triangle_7.png\", dpi=200)"
   ]
  },
  {
   "cell_type": "code",
   "execution_count": null,
   "metadata": {},
   "outputs": [],
   "source": [
    "# my plots\n",
    "vrot = 270\n",
    "theta = 0.1\n",
    "bins, y_m = model(data_6, vrot, theta)\n",
    "x_m = bins_to_x(bins)\n",
    "plot_spectra(x_m, y_m, x_d, y_d, fn=\"fit_mines/mine_6_\"+str(vrot)+\"_\"+str(theta)+\".png\")"
   ]
  }
 ],
 "metadata": {
  "kernelspec": {
   "display_name": "Python 3",
   "language": "python",
   "name": "python3"
  },
  "language_info": {
   "codemirror_mode": {
    "name": "ipython",
    "version": 3
   },
   "file_extension": ".py",
   "mimetype": "text/x-python",
   "name": "python",
   "nbconvert_exporter": "python",
   "pygments_lexer": "ipython3",
   "version": "3.6.4"
  }
 },
 "nbformat": 4,
 "nbformat_minor": 2
}
