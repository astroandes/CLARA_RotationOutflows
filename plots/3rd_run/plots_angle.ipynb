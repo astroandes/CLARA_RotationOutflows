{
 "cells": [
  {
   "cell_type": "code",
   "execution_count": 2,
   "metadata": {
    "collapsed": false
   },
   "outputs": [],
   "source": [
    "import math\n",
    "import pandas as pd\n",
    "from numpy import *\n",
    "from matplotlib.pyplot import * \n",
    "from mpl_toolkits.axes_grid1 import ImageGrid\n",
    "from scipy.stats import skew\n",
    "\n",
    "rc('text', usetex=True, fontsize=20)"
   ]
  },
  {
   "cell_type": "code",
   "execution_count": 3,
   "metadata": {
    "collapsed": false
   },
   "outputs": [],
   "source": [
    "num_thetas = 9\n",
    "cos_thetas = linspace(0,1,num_thetas+1) \n",
    "cos_thetas_plus = linspace(-1,0,num_thetas+1) \n",
    "\n",
    "thetas = sort(array([arccos(ct) for ct in cos_thetas]))\n",
    "thetas_plus = array([arccos(ctp) for ctp in cos_thetas_plus])"
   ]
  },
  {
   "cell_type": "code",
   "execution_count": 4,
   "metadata": {
    "collapsed": false
   },
   "outputs": [
    {
     "name": "stdout",
     "output_type": "stream",
     "text": [
      "[ 0.          0.47588225  0.67967382  0.84106867  0.98176536  1.11024234\n",
      "  1.23095942  1.34670323  1.45945531  1.57079633]\n",
      "[ 3.14159265  2.6657104   2.46191883  2.30052398  2.1598273   2.03135032\n",
      "  1.91063324  1.79488942  1.68213734  1.57079633]\n",
      "[  0.          27.26604445  38.94244127  48.1896851   56.2510114\n",
      "  63.61220004  70.52877937  77.16041159  83.62062979  90.        ]\n",
      "[ 180.          152.73395555  141.05755873  131.8103149   123.7489886\n",
      "  116.38779996  109.47122063  102.83958841   96.37937021   90.        ]\n"
     ]
    }
   ],
   "source": [
    "print thetas\n",
    "print thetas_plus\n",
    "print rad2deg(thetas)\n",
    "print rad2deg(thetas_plus)"
   ]
  },
  {
   "cell_type": "code",
   "execution_count": 9,
   "metadata": {
    "collapsed": false
   },
   "outputs": [],
   "source": [
    "### --------------- tau10E5 --------------- ###\n",
    "\n",
    "vrots = [50,100]\n",
    "vouts = [5,10,15,20]\n",
    "\n",
    "all_x_frec = []\n",
    "all_z_u = []\n",
    "vrot_labs = []\n",
    "vout_labs = []\n",
    "\n",
    "for vout in vouts:\n",
    "    for vrot in vrots:\n",
    "        df = pd.read_csv('../../data/tau10E5/vrot'+str(vrot)+'/vout'+str(vout)+'/tau10E5_vrot'+str(vrot)+'_vout'+str(vout)+'_out.ascii', delimiter=' ')\n",
    "        \n",
    "        escaped = df['escaped']\n",
    "        x_frec = df['x_frec']\n",
    "        z_u = df['z_u']\n",
    "        \n",
    "        inds = where(escaped == 0)[0]\n",
    "        \n",
    "        x_frec_escaped = array(x_frec)[inds]\n",
    "        z_u_escaped = array(z_u)[inds]\n",
    "        \n",
    "        all_x_frec.append(x_frec_escaped)\n",
    "        all_z_u.append(z_u_escaped)\n",
    "              \n",
    "        vrot_labs.append(vrot)\n",
    "        vout_labs.append(vout)"
   ]
  },
  {
   "cell_type": "code",
   "execution_count": 12,
   "metadata": {
    "collapsed": false,
    "scrolled": true
   },
   "outputs": [],
   "source": [
    "info_file = open('info_tau10E5.dat','w') \n",
    "info_file.write('vrot\\tvout\\ttheta_lower\\ttheta_upper\\tstd\\tskw\\n') # if skw > 0 there is more weight in the left tail of the distribution\n",
    "\n",
    "for t in range(num_thetas):\n",
    "\n",
    "    fig = figure(1, (16., 20.))\n",
    "    grid = ImageGrid(fig, 111, # similar to subplot(111)\n",
    "                    nrows_ncols = (4, 2), # creates 3x2 grid of axes\n",
    "                    axes_pad=0.3, # pad between axes in inch.\n",
    "                    aspect=False,)\n",
    "\n",
    "    props = dict(boxstyle='square', facecolor='white')\n",
    "\n",
    "    theta_lower = thetas[t]\n",
    "    theta_upper = thetas[t+1]\n",
    "    \n",
    "    theta_plus_lower = thetas_plus[t+1]\n",
    "    theta_plus_upper = thetas_plus[t]\n",
    "    \n",
    "    for i in range(8):\n",
    "        \n",
    "        current_z_u = all_z_u[i]\n",
    "        current_x_frec = all_x_frec[i]\n",
    "        \n",
    "        acos_current_z_u = array([arccos(czu) for czu in current_z_u])\n",
    "        \n",
    "        angle_indices = where( ((acos_current_z_u >= theta_lower) & (acos_current_z_u < theta_upper)) | ((acos_current_z_u >= theta_plus_lower) & (acos_current_z_u < theta_plus_upper)))[0]\n",
    "        \n",
    "        current_x = current_x_frec[angle_indices] #only the ones between those upper and lower angles\n",
    "        \n",
    "        vrot_lab = r'${0:.0f}$'.format(vrot_labs[i])\n",
    "        vout_lab = r'${0:.0f}$'.format(vout_labs[i])\n",
    "        theta_lower_lab = r'${0:.0f}$'.format(int(rad2deg(theta_lower)))\n",
    "        theta_upper_lab = r'${0:.0f}$'.format(int(rad2deg(theta_upper)))\n",
    "\n",
    "        theta_lab = r'$\\theta=$ '\n",
    "        lab = '$v_{rot}=$ '+vrot_lab+' $\\mathrm{km}$ $\\mathrm{s^{-1}}$ \\n $v_{out}=$ '+vout_lab+' $\\mathrm{km}$ $\\mathrm{s^{-1}}$ \\n'+theta_lab+theta_lower_lab+'$^\\circ$ $-$ '+theta_upper_lab+'$^\\circ$'\n",
    "        \n",
    "        grid_i = grid[i]\n",
    "\n",
    "        grid_i.hist(current_x, bins=30, histtype='stepfilled', color='c')\n",
    "\n",
    "        grid_i.axvline(x=0, ymin=0, ymax=1500, c='k', linestyle='--')\n",
    "        grid_i.set_xlim(-30,20)\n",
    "        grid_i.set_ylim(0,1600)\n",
    "        grid_i.set_ylabel('$\\mathrm{Intensity}$')\n",
    "        grid_i.set_xlabel('$\\mathrm{x}$')\n",
    "        grid_i.text(-28,1150, lab, fontsize=20, bbox=props)\n",
    "        \n",
    "        info_file.write(str(vrot_labs[i])+'\\t'+str(vout_labs[i])+'\\t'+str(theta_lower)+'\\t'+str(theta_upper)+'\\t'+str(std(current_x))+'\\t'+str(skew(current_x))+'\\n')\n",
    "\n",
    "    savefig('./tau10E5/tau10E5_phi'+str(int(rad2deg(theta_lower)))+'-'+str(int(rad2deg(theta_upper)))+'.png', format='png', transparent=False, bbox_inches='tight')\n",
    "    close()\n",
    "    \n",
    "info_file.close()"
   ]
  },
  {
   "cell_type": "code",
   "execution_count": 13,
   "metadata": {
    "collapsed": false
   },
   "outputs": [],
   "source": [
    "### --------------- tau10E6 --------------- ###\n",
    "\n",
    "vrots = [50,100]\n",
    "vouts = [5,10,15,20]\n",
    "\n",
    "all_x_frec = []\n",
    "all_z_u = []\n",
    "vrot_labs = []\n",
    "vout_labs = []\n",
    "\n",
    "for vout in vouts:\n",
    "    for vrot in vrots:\n",
    "        df = pd.read_csv('../../data/tau10E6/vrot'+str(vrot)+'/vout'+str(vout)+'/tau10E6_vrot'+str(vrot)+'_vout'+str(vout)+'_out.ascii', delimiter=' ')\n",
    "        \n",
    "        escaped = df['escaped']\n",
    "        x_frec = df['x_frec']\n",
    "        z_u = df['z_u']\n",
    "        \n",
    "        inds = where(escaped == 0)[0]\n",
    "        \n",
    "        x_frec_escaped = array(x_frec)[inds]\n",
    "        z_u_escaped = array(z_u)[inds]\n",
    "        \n",
    "        all_x_frec.append(x_frec_escaped)\n",
    "        all_z_u.append(z_u_escaped)\n",
    "              \n",
    "        vrot_labs.append(vrot)\n",
    "        vout_labs.append(vout)"
   ]
  },
  {
   "cell_type": "code",
   "execution_count": 14,
   "metadata": {
    "collapsed": false,
    "scrolled": true
   },
   "outputs": [],
   "source": [
    "info_file = open('info_tau10E6.dat','w') \n",
    "info_file.write('vrot\\tvout\\ttheta_lower\\ttheta_upper\\tstd\\tskw\\n') # if skw > 0 there is more weight in the left tail of the distribution\n",
    "\n",
    "for t in range(num_thetas):\n",
    "    \n",
    "    fig = figure(1, (16., 20.))\n",
    "    grid = ImageGrid(fig, 111, # similar to subplot(111)\n",
    "                    nrows_ncols = (4, 2), # creates 3x2 grid of axes\n",
    "                    axes_pad=0.3, # pad between axes in inch.\n",
    "                    aspect=False,)\n",
    "\n",
    "    props = dict(boxstyle='square', facecolor='white')\n",
    "\n",
    "    theta_lower = thetas[t]\n",
    "    theta_upper = thetas[t+1]\n",
    "    \n",
    "    theta_plus_lower = thetas_plus[t+1]\n",
    "    theta_plus_upper = thetas_plus[t]\n",
    "\n",
    "    for i in range(8):\n",
    "        \n",
    "        current_z_u = all_z_u[i]\n",
    "        current_x_frec = all_x_frec[i]\n",
    "        \n",
    "        acos_current_z_u = array([arccos(czu) for czu in current_z_u])\n",
    "        \n",
    "        angle_indices = where( ((acos_current_z_u >= theta_lower) & (acos_current_z_u < theta_upper)) | ((acos_current_z_u >= theta_plus_lower) & (acos_current_z_u < theta_plus_upper)))[0]\n",
    "        \n",
    "        current_x = current_x_frec[angle_indices] #only the ones between those upper and lower angles\n",
    "        \n",
    "        vrot_lab = r'${0:.0f}$'.format(vrot_labs[i])\n",
    "        vout_lab = r'${0:.0f}$'.format(vout_labs[i])\n",
    "        theta_lower_lab = r'${0:.0f}$'.format(int(rad2deg(theta_lower)))\n",
    "        theta_upper_lab = r'${0:.0f}$'.format(int(rad2deg(theta_upper)))\n",
    "\n",
    "        theta_lab = r'$\\theta=$ '\n",
    "        lab = '$v_{rot}=$ '+vrot_lab+' $\\mathrm{km}$ $\\mathrm{s^{-1}}$ \\n $v_{out}=$ '+vout_lab+' $\\mathrm{km}$ $\\mathrm{s^{-1}}$ \\n'+theta_lab+theta_lower_lab+'$^\\circ$ $-$ '+theta_upper_lab+'$^\\circ$'\n",
    "        \n",
    "        grid_i = grid[i]\n",
    "\n",
    "        grid_i.hist(current_x, bins=30, histtype='stepfilled', color='c')\n",
    "\n",
    "        grid_i.axvline(x=0, ymin=0, ymax=1500, c='k', linestyle='--')\n",
    "        grid_i.set_xlim(-30,20)\n",
    "        grid_i.set_ylim(0,1600)\n",
    "        grid_i.set_ylabel('$\\mathrm{Intensity}$')\n",
    "        grid_i.set_xlabel('$\\mathrm{x}$')\n",
    "        grid_i.text(-28,1150, lab, fontsize=20, bbox=props)\n",
    "        \n",
    "        info_file.write(str(vrot_labs[i])+'\\t'+str(vout_labs[i])+'\\t'+str(theta_lower)+'\\t'+str(theta_upper)+'\\t'+str(std(current_x))+'\\t'+str(skew(current_x))+'\\n')\n",
    "\n",
    "    savefig('./tau10E6/tau10E6_phi'+str(int(rad2deg(theta_lower)))+'-'+str(int(rad2deg(theta_upper)))+'.png', format='png', transparent=False, bbox_inches='tight')\n",
    "    close()\n",
    "    \n",
    "info_file.close()"
   ]
  },
  {
   "cell_type": "code",
   "execution_count": null,
   "metadata": {
    "collapsed": true
   },
   "outputs": [],
   "source": []
  },
  {
   "cell_type": "code",
   "execution_count": null,
   "metadata": {
    "collapsed": true
   },
   "outputs": [],
   "source": []
  },
  {
   "cell_type": "code",
   "execution_count": null,
   "metadata": {
    "collapsed": true
   },
   "outputs": [],
   "source": []
  },
  {
   "cell_type": "code",
   "execution_count": null,
   "metadata": {
    "collapsed": true
   },
   "outputs": [],
   "source": []
  },
  {
   "cell_type": "code",
   "execution_count": 46,
   "metadata": {
    "collapsed": false
   },
   "outputs": [],
   "source": [
    "### --------------- tau10E7 --------------- ###\n",
    "\n",
    "vrots = [50,100]\n",
    "vouts = [25,50,75]\n",
    "\n",
    "all_x_frec = []\n",
    "all_z_u = []\n",
    "vrot_labs = []\n",
    "vout_labs = []\n",
    "\n",
    "for vout in vouts:\n",
    "    for vrot in vrots:\n",
    "        df = pd.read_csv('../../data/tau10E7/vrot'+str(vrot)+'/vout'+str(vout)+'/tau10E7_vrot'+str(vrot)+'_vout'+str(vout)+'_out.ascii', delimiter=' ')\n",
    "        \n",
    "        escaped = df['escaped']\n",
    "        x_frec = df['x_frec']\n",
    "        z_u = df['z_u']\n",
    "        \n",
    "        inds = where(escaped == 0)[0]\n",
    "        \n",
    "        x_frec_escaped = array(x_frec)[inds]\n",
    "        z_u_escaped = array(z_u)[inds]\n",
    "        \n",
    "        all_x_frec.append(x_frec_escaped)\n",
    "        all_z_u.append(z_u_escaped)\n",
    "              \n",
    "        vrot_labs.append(vrot)\n",
    "        vout_labs.append(vout)"
   ]
  },
  {
   "cell_type": "code",
   "execution_count": 47,
   "metadata": {
    "collapsed": false,
    "scrolled": true
   },
   "outputs": [],
   "source": [
    "info_file = open('info_tau10E7.dat','w') \n",
    "info_file.write('vrot\\tvout\\ttheta_lower\\ttheta_upper\\tstd\\tskw\\n') # if skw > 0 there is more weight in the left tail of the distribution\n",
    "\n",
    "for t in range(num_thetas):\n",
    "\n",
    "    fig = figure(1, (16., 16.))\n",
    "    grid = ImageGrid(fig, 111, # similar to subplot(111)\n",
    "                    nrows_ncols = (3, 2), # creates 3x2 grid of axes\n",
    "                    axes_pad=0.3, # pad between axes in inch.\n",
    "                    aspect=False,)\n",
    "\n",
    "    props = dict(boxstyle='square', facecolor='white')\n",
    "\n",
    "    theta_lower = thetas[t]\n",
    "    theta_upper = thetas[t+1]\n",
    "    \n",
    "    theta_plus_lower = thetas_plus[t+1]\n",
    "    theta_plus_upper = thetas_plus[t]\n",
    "\n",
    "    for i in range(6):\n",
    "        \n",
    "        current_z_u = all_z_u[i]\n",
    "        current_x_frec = all_x_frec[i]\n",
    "        \n",
    "        acos_current_z_u = array([arccos(czu) for czu in current_z_u])\n",
    "        \n",
    "        angle_indices = where( ((acos_current_z_u >= deg2rad(theta_lower)) & (acos_current_z_u < deg2rad(theta_upper))) | ((acos_current_z_u >= deg2rad(theta_plus_lower)) & (acos_current_z_u < deg2rad(theta_plus_upper))))[0]\n",
    "        #angle_indices = where( ((current_z_u <= cos(deg2rad(theta_lower))) & (current_z_u > cos(deg2rad(theta_upper)))) | ((current_z_u >= cos(deg2rad(theta_plus_lower))) & (current_z_u < cos(deg2rad(theta_plus_upper)))) )[0]\n",
    "        \n",
    "        current_x = current_x_frec[angle_indices] #only the ones between those upper and lower angles\n",
    "        \n",
    "        vrot_lab = r'${0:.0f}$'.format(vrot_labs[i])\n",
    "        vout_lab = r'${0:.0f}$'.format(vout_labs[i])\n",
    "        theta_lower_lab = r'${0:.0f}$'.format(int(theta_lower))\n",
    "        theta_upper_lab = r'${0:.0f}$'.format(int(theta_upper))\n",
    "\n",
    "        theta_lab = r'$\\theta=$ '\n",
    "        lab = '$v_{rot}=$ '+vrot_lab+' $\\mathrm{km}$ $\\mathrm{s^{-1}}$ \\n $v_{out}=$ '+vout_lab+' $\\mathrm{km}$ $\\mathrm{s^{-1}}$ \\n'+theta_lab+theta_lower_lab+'$^\\circ$ $-$ '+theta_upper_lab+'$^\\circ$'\n",
    "        \n",
    "        grid_i = grid[i]\n",
    "\n",
    "        grid_i.hist(current_x, bins=30, histtype='stepfilled', color='c', normed=True)\n",
    "\n",
    "        grid_i.axvline(x=0, ymin=0, ymax=1500, c='k', linestyle='--')\n",
    "        grid_i.set_xlim(-60,30)\n",
    "        grid_i.set_ylim(0,0.165)\n",
    "        grid_i.set_ylabel('$\\mathrm{Intensity}$')\n",
    "        grid_i.set_xlabel('$\\mathrm{x}$')\n",
    "        grid_i.text(-55,0.12, lab, fontsize=20, bbox=props)\n",
    "        \n",
    "        info_file.write(str(vrot_labs[i])+'\\t'+str(vout_labs[i])+'\\t'+str(theta_lower)+'\\t'+str(theta_upper)+'\\t'+str(std(current_x))+'\\t'+str(skew(current_x))+'\\n')\n",
    "\n",
    "    savefig('./tau10E7/tau10E7_phi'+str(int(theta_lower))+'-'+str(int(theta_upper))+'.png', format='png', transparent=False)\n",
    "    close()\n",
    "    \n",
    "info_file.close()"
   ]
  },
  {
   "cell_type": "code",
   "execution_count": null,
   "metadata": {
    "collapsed": true
   },
   "outputs": [],
   "source": []
  },
  {
   "cell_type": "code",
   "execution_count": null,
   "metadata": {
    "collapsed": true
   },
   "outputs": [],
   "source": []
  }
 ],
 "metadata": {
  "kernelspec": {
   "display_name": "Python 2",
   "language": "python",
   "name": "python2"
  },
  "language_info": {
   "codemirror_mode": {
    "name": "ipython",
    "version": 2
   },
   "file_extension": ".py",
   "mimetype": "text/x-python",
   "name": "python",
   "nbconvert_exporter": "python",
   "pygments_lexer": "ipython2",
   "version": "2.7.9"
  }
 },
 "nbformat": 4,
 "nbformat_minor": 0
}
