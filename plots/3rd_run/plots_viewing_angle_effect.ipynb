{
 "cells": [
  {
   "cell_type": "code",
   "execution_count": 2,
   "metadata": {
    "collapsed": false
   },
   "outputs": [],
   "source": [
    "import math\n",
    "import pandas as pd\n",
    "from numpy import *\n",
    "from matplotlib.pyplot import * \n",
    "from mpl_toolkits.axes_grid1 import ImageGrid\n",
    "\n",
    "rc('text', usetex=True, fontsize=28)"
   ]
  },
  {
   "cell_type": "code",
   "execution_count": 3,
   "metadata": {
    "collapsed": false
   },
   "outputs": [],
   "source": [
    "num_thetas = 9\n",
    "cos_thetas = linspace(0,1,num_thetas+1) \n",
    "cos_thetas_plus = linspace(-1,0,num_thetas+1) \n",
    "\n",
    "thetas = sort(array([arccos(ct) for ct in cos_thetas]))\n",
    "thetas_plus = array([arccos(ctp) for ctp in cos_thetas_plus])"
   ]
  },
  {
   "cell_type": "code",
   "execution_count": 4,
   "metadata": {
    "collapsed": false
   },
   "outputs": [
    {
     "name": "stdout",
     "output_type": "stream",
     "text": [
      "[ 0.          0.47588225  0.67967382  0.84106867  0.98176536  1.11024234\n",
      "  1.23095942  1.34670323  1.45945531  1.57079633]\n",
      "[ 3.14159265  2.6657104   2.46191883  2.30052398  2.1598273   2.03135032\n",
      "  1.91063324  1.79488942  1.68213734  1.57079633]\n",
      "[  0.          27.26604445  38.94244127  48.1896851   56.2510114\n",
      "  63.61220004  70.52877937  77.16041159  83.62062979  90.        ]\n",
      "[ 180.          152.73395555  141.05755873  131.8103149   123.7489886\n",
      "  116.38779996  109.47122063  102.83958841   96.37937021   90.        ]\n"
     ]
    }
   ],
   "source": [
    "print thetas\n",
    "print thetas_plus\n",
    "print rad2deg(thetas)\n",
    "print rad2deg(thetas_plus)"
   ]
  },
  {
   "cell_type": "code",
   "execution_count": 5,
   "metadata": {
    "collapsed": true
   },
   "outputs": [],
   "source": [
    "v_th = -12.8"
   ]
  },
  {
   "cell_type": "code",
   "execution_count": 6,
   "metadata": {
    "collapsed": false
   },
   "outputs": [],
   "source": [
    "### --------------- tau10E5 --------------- ###\n",
    "\n",
    "vrots = [100]\n",
    "vouts = [5]\n",
    "\n",
    "all_x_frec = []\n",
    "all_z_u = []\n",
    "\n",
    "for vout in vouts:\n",
    "    for vrot in vrots:\n",
    "        df = pd.read_csv('../../data/tau10E5/vrot'+str(vrot)+'/vout'+str(vout)+'/tau10E5_vrot'+str(vrot)+'_vout'+str(vout)+'_out.ascii', delimiter=' ')\n",
    "        \n",
    "        escaped = df['escaped']\n",
    "        x_frec = df['x_frec']\n",
    "        z_u = df['z_u']\n",
    "        \n",
    "        inds = where(escaped == 0)[0]\n",
    "        \n",
    "        x_frec_escaped = array(x_frec)[inds]\n",
    "        z_u_escaped = array(z_u)[inds]\n",
    "        \n",
    "        all_x_frec.append(x_frec_escaped)\n",
    "        all_z_u.append(z_u_escaped)"
   ]
  },
  {
   "cell_type": "code",
   "execution_count": 11,
   "metadata": {
    "collapsed": false
   },
   "outputs": [],
   "source": [
    "fig = figure(1, (15., 4.))\n",
    "grid = ImageGrid(fig, 111, # similar to subplot(111)\n",
    "                nrows_ncols = (1, 3), # creates 3x2 grid of axes\n",
    "                axes_pad=0.5, # pad between axes in inch.\n",
    "                aspect=False,)\n",
    "\n",
    "i = 0\n",
    "title_labs=[0,0,45,40,40,40,40,40,90]\n",
    "\n",
    "for t in [0,2,8]:\n",
    "\n",
    "    props = dict(boxstyle='square', facecolor='white')\n",
    "\n",
    "    theta_lower = thetas[t]\n",
    "    theta_upper = thetas[t+1]\n",
    "    \n",
    "    theta_plus_lower = thetas_plus[t+1]\n",
    "    theta_plus_upper = thetas_plus[t]\n",
    "    \n",
    "    current_z_u = all_z_u[0]\n",
    "    current_x_frec = all_x_frec[0]\n",
    "\n",
    "    acos_current_z_u = array([arccos(czu) for czu in current_z_u])\n",
    "\n",
    "    angle_indices = where( ((acos_current_z_u >= theta_lower) & (acos_current_z_u < theta_upper)) | ((acos_current_z_u >= theta_plus_lower) & (acos_current_z_u < theta_plus_upper)))[0]\n",
    "\n",
    "    current_x = current_x_frec[angle_indices] #only the ones between those upper and lower angles\n",
    "\n",
    "    theta_lower_lab = r'${0:.0f}$'.format(title_labs[t])\n",
    "\n",
    "    theta_lab = r'$\\theta \\simeq$'\n",
    "    lab = theta_lab+theta_lower_lab+'$^\\circ$'\n",
    "\n",
    "    grid_i = grid[i]\n",
    "\n",
    "    grid_i.hist(current_x*v_th, bins=30, histtype='stepfilled', color='c')\n",
    "\n",
    "    grid_i.set_yticks([0,400,800,1200])\n",
    "    grid_i.set_xticks([-200,0,200])\n",
    "    grid_i.axvline(x=0, ymin=0, ymax=1, c='k', linestyle='--')\n",
    "    grid_i.set_xlim(20*v_th,-20*v_th)\n",
    "    grid_i.set_ylim(0,1200)\n",
    "    grid_i.set_ylabel('$\\mathrm{Intensity}$')\n",
    "    grid_i.set_xlabel('$\\mathrm{V}$ ($\\mathrm{km}$ $\\mathrm{s^{-1}}$)')\n",
    "    grid_i.text(-70,1300, lab, fontsize=26, bbox=props)\n",
    "    \n",
    "    i += 1\n",
    "\n",
    "savefig('./tau10E5/inf_theta/influence_viewing_angle_5.png', format='png', transparent=False, bbox_inches='tight')\n",
    "close()"
   ]
  },
  {
   "cell_type": "code",
   "execution_count": 12,
   "metadata": {
    "collapsed": false
   },
   "outputs": [],
   "source": [
    "### --------------- tau10E6 --------------- ###\n",
    "\n",
    "vrots = [100]\n",
    "vouts = [5]\n",
    "\n",
    "all_x_frec = []\n",
    "all_z_u = []\n",
    "\n",
    "for vout in vouts:\n",
    "    for vrot in vrots:\n",
    "        df = pd.read_csv('../../data/tau10E6/vrot'+str(vrot)+'/vout'+str(vout)+'/tau10E6_vrot'+str(vrot)+'_vout'+str(vout)+'_out.ascii', delimiter=' ')\n",
    "        \n",
    "        escaped = df['escaped']\n",
    "        x_frec = df['x_frec']\n",
    "        z_u = df['z_u']\n",
    "        \n",
    "        inds = where(escaped == 0)[0]\n",
    "        \n",
    "        x_frec_escaped = array(x_frec)[inds]\n",
    "        z_u_escaped = array(z_u)[inds]\n",
    "        \n",
    "        all_x_frec.append(x_frec_escaped)\n",
    "        all_z_u.append(z_u_escaped)"
   ]
  },
  {
   "cell_type": "code",
   "execution_count": 13,
   "metadata": {
    "collapsed": true
   },
   "outputs": [],
   "source": [
    "fig = figure(1, (15., 4.))\n",
    "grid = ImageGrid(fig, 111, # similar to subplot(111)\n",
    "                nrows_ncols = (1, 3), # creates 3x2 grid of axes\n",
    "                axes_pad=0.5, # pad between axes in inch.\n",
    "                aspect=False,)\n",
    "\n",
    "i = 0\n",
    "title_labs=[0,0,45,40,40,40,40,40,90]\n",
    "\n",
    "for t in [0,2,8]:\n",
    "\n",
    "    props = dict(boxstyle='square', facecolor='white')\n",
    "\n",
    "    theta_lower = thetas[t]\n",
    "    theta_upper = thetas[t+1]\n",
    "    \n",
    "    theta_plus_lower = thetas_plus[t+1]\n",
    "    theta_plus_upper = thetas_plus[t]\n",
    "    \n",
    "    current_z_u = all_z_u[0]\n",
    "    current_x_frec = all_x_frec[0]\n",
    "\n",
    "    acos_current_z_u = array([arccos(czu) for czu in current_z_u])\n",
    "\n",
    "    angle_indices = where( ((acos_current_z_u >= theta_lower) & (acos_current_z_u < theta_upper)) | ((acos_current_z_u >= theta_plus_lower) & (acos_current_z_u < theta_plus_upper)))[0]\n",
    "\n",
    "    current_x = current_x_frec[angle_indices] #only the ones between those upper and lower angles\n",
    "\n",
    "    theta_lower_lab = r'${0:.0f}$'.format(title_labs[t])\n",
    "\n",
    "    theta_lab = r'$\\theta \\simeq$'\n",
    "    lab = theta_lab+theta_lower_lab+'$^\\circ$'\n",
    "\n",
    "    grid_i = grid[i]\n",
    "\n",
    "    grid_i.hist(current_x*v_th, bins=30, histtype='stepfilled', color='c')\n",
    "\n",
    "    grid_i.set_yticks([0,400,800,1200])\n",
    "    grid_i.set_xticks([-200,0,200])\n",
    "    grid_i.axvline(x=0, ymin=0, ymax=1, c='k', linestyle='--')\n",
    "    grid_i.set_xlim(20*v_th,-20*v_th)\n",
    "    grid_i.set_ylim(0,1200)\n",
    "    grid_i.set_ylabel('$\\mathrm{Intensity}$')\n",
    "    grid_i.set_xlabel('$\\mathrm{V}$ ($\\mathrm{km}$ $\\mathrm{s^{-1}}$)')\n",
    "    grid_i.text(-70,1300, lab, fontsize=26, bbox=props)\n",
    "    \n",
    "    i += 1\n",
    "\n",
    "savefig('./tau10E6/inf_theta/influence_viewing_angle_6.png', format='png', transparent=False, bbox_inches='tight')\n",
    "close()"
   ]
  },
  {
   "cell_type": "code",
   "execution_count": 14,
   "metadata": {
    "collapsed": true
   },
   "outputs": [],
   "source": [
    "### --------------- tau10E7 --------------- ###\n",
    "\n",
    "vrots = [100]\n",
    "vouts = [15]\n",
    "\n",
    "all_x_frec = []\n",
    "all_z_u = []\n",
    "\n",
    "for vout in vouts:\n",
    "    for vrot in vrots:\n",
    "        df = pd.read_csv('../../data/tau10E7/vrot'+str(vrot)+'/vout'+str(vout)+'/tau10E7_vrot'+str(vrot)+'_vout'+str(vout)+'_out.ascii', delimiter=' ')\n",
    "        \n",
    "        escaped = df['escaped']\n",
    "        x_frec = df['x_frec']\n",
    "        z_u = df['z_u']\n",
    "        \n",
    "        inds = where(escaped == 0)[0]\n",
    "        \n",
    "        x_frec_escaped = array(x_frec)[inds]\n",
    "        z_u_escaped = array(z_u)[inds]\n",
    "        \n",
    "        all_x_frec.append(x_frec_escaped)\n",
    "        all_z_u.append(z_u_escaped)"
   ]
  },
  {
   "cell_type": "code",
   "execution_count": 16,
   "metadata": {
    "collapsed": true
   },
   "outputs": [],
   "source": [
    "fig = figure(1, (15., 4.))\n",
    "grid = ImageGrid(fig, 111, # similar to subplot(111)\n",
    "                nrows_ncols = (1, 3), # creates 3x2 grid of axes\n",
    "                axes_pad=0.5, # pad between axes in inch.\n",
    "                aspect=False,)\n",
    "\n",
    "i = 0\n",
    "title_labs=[0,0,45,40,40,40,40,40,90]\n",
    "\n",
    "for t in [0,2,8]:\n",
    "\n",
    "    props = dict(boxstyle='square', facecolor='white')\n",
    "\n",
    "    theta_lower = thetas[t]\n",
    "    theta_upper = thetas[t+1]\n",
    "    \n",
    "    theta_plus_lower = thetas_plus[t+1]\n",
    "    theta_plus_upper = thetas_plus[t]\n",
    "    \n",
    "    current_z_u = all_z_u[0]\n",
    "    current_x_frec = all_x_frec[0]\n",
    "\n",
    "    acos_current_z_u = array([arccos(czu) for czu in current_z_u])\n",
    "\n",
    "    angle_indices = where( ((acos_current_z_u >= theta_lower) & (acos_current_z_u < theta_upper)) | ((acos_current_z_u >= theta_plus_lower) & (acos_current_z_u < theta_plus_upper)))[0]\n",
    "\n",
    "    current_x = current_x_frec[angle_indices] #only the ones between those upper and lower angles\n",
    "\n",
    "    theta_lower_lab = r'${0:.0f}$'.format(title_labs[t])\n",
    "\n",
    "    theta_lab = r'$\\theta \\simeq$'\n",
    "    lab = theta_lab+theta_lower_lab+'$^\\circ$'\n",
    "\n",
    "    grid_i = grid[i]\n",
    "\n",
    "    grid_i.hist(current_x*v_th, bins=30, histtype='stepfilled', color='c')\n",
    "\n",
    "    grid_i.set_yticks([0,400,800,1200])\n",
    "    grid_i.set_xticks([-300,0,300,600])\n",
    "    grid_i.axvline(x=0, ymin=0, ymax=1, c='k', linestyle='--')\n",
    "    grid_i.set_xlim(-450,600)\n",
    "    grid_i.set_ylim(0,1350)\n",
    "    grid_i.set_ylabel('$\\mathrm{Intensity}$')\n",
    "    grid_i.set_xlabel('$\\mathrm{V}$ ($\\mathrm{km}$ $\\mathrm{s^{-1}}$)')\n",
    "    grid_i.text(-100,1450, lab, fontsize=26, bbox=props)\n",
    "\n",
    "    i += 1\n",
    "\n",
    "savefig('./tau10E7/inf_theta/influence_viewing_angle_7.png', format='png', transparent=False, bbox_inches='tight')\n",
    "close()"
   ]
  },
  {
   "cell_type": "code",
   "execution_count": null,
   "metadata": {
    "collapsed": true
   },
   "outputs": [],
   "source": []
  },
  {
   "cell_type": "code",
   "execution_count": null,
   "metadata": {
    "collapsed": true
   },
   "outputs": [],
   "source": []
  },
  {
   "cell_type": "code",
   "execution_count": null,
   "metadata": {
    "collapsed": true
   },
   "outputs": [],
   "source": []
  },
  {
   "cell_type": "code",
   "execution_count": null,
   "metadata": {
    "collapsed": true
   },
   "outputs": [],
   "source": []
  },
  {
   "cell_type": "code",
   "execution_count": null,
   "metadata": {
    "collapsed": true
   },
   "outputs": [],
   "source": []
  },
  {
   "cell_type": "code",
   "execution_count": null,
   "metadata": {
    "collapsed": true
   },
   "outputs": [],
   "source": []
  },
  {
   "cell_type": "code",
   "execution_count": null,
   "metadata": {
    "collapsed": true
   },
   "outputs": [],
   "source": []
  },
  {
   "cell_type": "code",
   "execution_count": null,
   "metadata": {
    "collapsed": true
   },
   "outputs": [],
   "source": []
  },
  {
   "cell_type": "code",
   "execution_count": 6,
   "metadata": {
    "collapsed": false,
    "scrolled": true
   },
   "outputs": [],
   "source": [
    "fig = figure(1, (25., 4.))\n",
    "grid = ImageGrid(fig, 111, # similar to subplot(111)\n",
    "                nrows_ncols = (1, 5), # creates 3x2 grid of axes\n",
    "                axes_pad=0.3, # pad between axes in inch.\n",
    "                aspect=False,)\n",
    "\n",
    "for t in range(5):\n",
    "\n",
    "    props = dict(boxstyle='square', facecolor='white')\n",
    "\n",
    "    theta_lower = thetas[2*t]\n",
    "    theta_upper = thetas[2*t+1]\n",
    "    \n",
    "    theta_plus_lower = thetas_plus[2*t+1]\n",
    "    theta_plus_upper = thetas_plus[2*t]\n",
    "    \n",
    "    current_z_u = all_z_u[0]\n",
    "    current_x_frec = all_x_frec[0]\n",
    "\n",
    "    acos_current_z_u = array([arccos(czu) for czu in current_z_u])\n",
    "\n",
    "    angle_indices = where( ((acos_current_z_u >= theta_lower) & (acos_current_z_u < theta_upper)) | ((acos_current_z_u >= theta_plus_lower) & (acos_current_z_u < theta_plus_upper)))[0]\n",
    "\n",
    "    current_x = current_x_frec[angle_indices] #only the ones between those upper and lower angles\n",
    "\n",
    "    theta_lower_lab = r'${0:.0f}$'.format(int(rad2deg(theta_lower)))\n",
    "    theta_upper_lab = r'${0:.0f}$'.format(int(rad2deg(theta_upper)))\n",
    "\n",
    "    theta_lab = r'$\\theta=$ '\n",
    "    lab = theta_lab+theta_lower_lab+'$^\\circ$ $-$ '+theta_upper_lab+'$^\\circ$'\n",
    "\n",
    "    grid_i = grid[t]\n",
    "\n",
    "    grid_i.hist(current_x, bins=30, histtype='stepfilled', color='c')\n",
    "\n",
    "    grid_i.axvline(x=0, ymin=0, ymax=1500, c='k', linestyle='--')\n",
    "    grid_i.set_xlim(-20,20)\n",
    "    grid_i.set_ylim(0,1200)\n",
    "    grid_i.set_ylabel('$\\mathrm{Intensity}$')\n",
    "    grid_i.set_xlabel('$\\mathrm{x}$')\n",
    "    grid_i.text(-8,1300, lab, fontsize=26, bbox=props)\n",
    "\n",
    "savefig('./tau10E5/inf_theta/influence_viewing_angle.png', format='png', transparent=False, bbox_inches='tight')\n",
    "close()"
   ]
  }
 ],
 "metadata": {
  "kernelspec": {
   "display_name": "Python 2",
   "language": "python",
   "name": "python2"
  },
  "language_info": {
   "codemirror_mode": {
    "name": "ipython",
    "version": 2
   },
   "file_extension": ".py",
   "mimetype": "text/x-python",
   "name": "python",
   "nbconvert_exporter": "python",
   "pygments_lexer": "ipython2",
   "version": "2.7.9"
  }
 },
 "nbformat": 4,
 "nbformat_minor": 0
}
