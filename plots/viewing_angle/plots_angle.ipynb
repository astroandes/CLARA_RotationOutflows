{
 "cells": [
  {
   "cell_type": "code",
   "execution_count": 2,
   "metadata": {
    "collapsed": false
   },
   "outputs": [],
   "source": [
    "import math\n",
    "import pandas as pd\n",
    "from numpy import *\n",
    "from matplotlib.pyplot import * \n",
    "from mpl_toolkits.axes_grid1 import ImageGrid\n",
    "\n",
    "rc('text', usetex=True, fontsize=20)"
   ]
  },
  {
   "cell_type": "code",
   "execution_count": 8,
   "metadata": {
    "collapsed": false
   },
   "outputs": [],
   "source": [
    "num_thetas = 9\n",
    "thetas = linspace(0,90,num_thetas+1) #each 10°\n",
    "thetas_plus = linspace(180,90,num_thetas+1) #each 10°"
   ]
  },
  {
   "cell_type": "code",
   "execution_count": 11,
   "metadata": {
    "collapsed": false
   },
   "outputs": [
    {
     "data": {
      "text/plain": [
       "array([  0.,  10.,  20.,  30.,  40.,  50.,  60.,  70.,  80.,  90.])"
      ]
     },
     "execution_count": 11,
     "metadata": {},
     "output_type": "execute_result"
    }
   ],
   "source": [
    "thetas"
   ]
  },
  {
   "cell_type": "code",
   "execution_count": 12,
   "metadata": {
    "collapsed": false
   },
   "outputs": [
    {
     "data": {
      "text/plain": [
       "array([ 180.,  170.,  160.,  150.,  140.,  130.,  120.,  110.,  100.,   90.])"
      ]
     },
     "execution_count": 12,
     "metadata": {},
     "output_type": "execute_result"
    }
   ],
   "source": [
    "thetas_plus"
   ]
  },
  {
   "cell_type": "code",
   "execution_count": 4,
   "metadata": {
    "collapsed": false
   },
   "outputs": [],
   "source": [
    "### --------------- tau10E5 --------------- ###\n",
    "\n",
    "vrots = [0,100,200,300]\n",
    "vouts = [100,200,300]\n",
    "\n",
    "all_x_frec = []\n",
    "all_z_u = []\n",
    "vrot_labs = []\n",
    "vout_labs = []\n",
    "\n",
    "for vout in vouts:\n",
    "    for vrot in vrots:\n",
    "        df = pd.read_csv('../../data/tau10E5/vrot'+str(vrot)+'/vout'+str(vout)+'/tau10E5_vrot'+str(vrot)+'_vout'+str(vout)+'_out.ascii', delimiter=' ')\n",
    "        \n",
    "        escaped = df['escaped']\n",
    "        x_frec = df['x_frec']\n",
    "        z_u = df['z_u']\n",
    "        \n",
    "        inds = where(escaped == 0)[0]\n",
    "        \n",
    "        x_frec_escaped = array(x_frec)[inds]\n",
    "        z_u_escaped = array(z_u)[inds]\n",
    "        \n",
    "        all_x_frec.append(x_frec_escaped)\n",
    "        all_z_u.append(z_u_escaped)\n",
    "        \n",
    "        vrot_labs.append(vrot)\n",
    "        vout_labs.append(vout)"
   ]
  },
  {
   "cell_type": "code",
   "execution_count": 5,
   "metadata": {
    "collapsed": false,
    "scrolled": true
   },
   "outputs": [],
   "source": [
    "for p in range(num_phis):\n",
    "\n",
    "    fig = figure(1, (20., 16.))\n",
    "    grid = ImageGrid(fig, 111, # similar to subplot(111)\n",
    "                    nrows_ncols = (3, 4), # creates 3x4 grid of axes\n",
    "                    axes_pad=0.3, # pad between axes in inch.\n",
    "                    aspect=False,)\n",
    "\n",
    "    props = dict(boxstyle='square', facecolor='white')\n",
    "\n",
    "    phi_lower = phis[p]\n",
    "    phi_upper = phis[p+1]\n",
    "\n",
    "    for i in range(12):\n",
    "\n",
    "        current_z_u = array(all_z_u[i])\n",
    "\n",
    "        current_z_u_acos = array([math.acos(czu) for czu in current_z_u])\n",
    "\n",
    "        angle_indices = where( ((current_z_u_acos >= deg2rad(phi_lower)) & (current_z_u_acos <= deg2rad(phi_upper))) | ((current_z_u_acos >= deg2rad(phi_lower)) & (current_z_u_acos <= deg2rad(phi_upper))))\n",
    "\n",
    "        current_x = array(all_x_frec[i])[angle_indices] #only the ones between those upper and lower angles\n",
    "\n",
    "        vrot_lab = r'${0:.0f}$'.format(vrot_labs[i])\n",
    "        vout_lab = r'${0:.0f}$'.format(vout_labs[i])\n",
    "        phi_lower_lab = r'${0:.0f}$'.format(int(phi_lower))\n",
    "        phi_upper_lab = r'${0:.0f}$'.format(int(phi_upper))\n",
    "\n",
    "        lab = '$v_{rot}=$ '+vrot_lab+' $\\mathrm{km}$ $\\mathrm{s^{-1}}$ \\n $v_{out}=$ '+vout_lab+' $\\mathrm{km}$ $\\mathrm{s^{-1}}$ \\n $\\phi=$ '+phi_lower_lab+'$^\\circ$ $-$ '+phi_upper_lab+'$^\\circ$'\n",
    "        \n",
    "        grid_i = grid[i]\n",
    "\n",
    "        grid_i.hist(current_x, bins=30, histtype='stepfilled', color='c')\n",
    "\n",
    "        #FALTA HACER STANDARD DEVIATION Y SKEWNESS!!!\n",
    "\n",
    "        grid_i.axvline(x=0, ymin=0, ymax=1500, c='k', linestyle='--')\n",
    "        grid_i.set_xlim(-110,20)\n",
    "        grid_i.set_ylim(0,1500)\n",
    "        grid_i.set_ylabel('$\\mathrm{Intensity}$')\n",
    "        grid_i.set_xlabel('$\\mathrm{x}$')\n",
    "        grid_i.text(-100,1100, lab, fontsize=20, bbox=props)\n",
    "\n",
    "    savefig('./tau10E5/tau10E5_phi'+str(int(phi_lower))+'-'+str(int(phi_upper))+'.png', format='png', transparent=False)"
   ]
  },
  {
   "cell_type": "code",
   "execution_count": 6,
   "metadata": {
    "collapsed": true
   },
   "outputs": [],
   "source": [
    "### --------------- tau10E6 --------------- ###\n",
    "\n",
    "vrots = [0,100,200,300]\n",
    "vouts = [100,200,300]\n",
    "\n",
    "all_x_frec = []\n",
    "all_z_u = []\n",
    "vrot_labs = []\n",
    "vout_labs = []\n",
    "\n",
    "for vout in vouts:\n",
    "    for vrot in vrots:\n",
    "        df = pd.read_csv('../../data/tau10E6/vrot'+str(vrot)+'/vout'+str(vout)+'/tau10E6_vrot'+str(vrot)+'_vout'+str(vout)+'_out.ascii', delimiter=' ')\n",
    "        \n",
    "        escaped = df['escaped']\n",
    "        x_frec = df['x_frec']\n",
    "        z_u = df['z_u']\n",
    "        \n",
    "        inds = where(escaped == 0)[0]\n",
    "        \n",
    "        x_frec_escaped = array(x_frec)[inds]\n",
    "        z_u_escaped = array(z_u)[inds]\n",
    "        \n",
    "        all_x_frec.append(x_frec_escaped)\n",
    "        all_z_u.append(z_u_escaped)\n",
    "        \n",
    "        vrot_labs.append(vrot)\n",
    "        vout_labs.append(vout)"
   ]
  },
  {
   "cell_type": "code",
   "execution_count": 7,
   "metadata": {
    "collapsed": true
   },
   "outputs": [],
   "source": [
    "for i in range(12):\n",
    "    current_z_u = array(all_z_u[i])\n",
    "    hist(current_z_u)\n",
    "    show()"
   ]
  },
  {
   "cell_type": "code",
   "execution_count": 8,
   "metadata": {
    "collapsed": false
   },
   "outputs": [],
   "source": [
    "for p in range(num_phis):\n",
    "\n",
    "    fig = figure(1, (20., 16.))\n",
    "    grid = ImageGrid(fig, 111, # similar to subplot(111)\n",
    "                    nrows_ncols = (3, 4), # creates 3x4 grid of axes\n",
    "                    axes_pad=0.3, # pad between axes in inch.\n",
    "                    aspect=False,)\n",
    "\n",
    "    props = dict(boxstyle='square', facecolor='white')\n",
    "\n",
    "    phi_lower = phis[p]\n",
    "    phi_upper = phis[p+1]\n",
    "\n",
    "    for i in range(12):\n",
    "\n",
    "        current_z_u = array(all_z_u[i])\n",
    "\n",
    "        current_z_u_acos = array([math.acos(czu) for czu in current_z_u])\n",
    "\n",
    "        angle_indices = where((current_z_u_acos >= deg2rad(phi_lower)) & (current_z_u_acos <= deg2rad(phi_upper)))\n",
    "\n",
    "        current_x = array(all_x_frec[i])[angle_indices] #only the ones between those upper and lower angles\n",
    "\n",
    "        vrot_lab = r'${0:.0f}$'.format(vrot_labs[i])\n",
    "        vout_lab = r'${0:.0f}$'.format(vout_labs[i])\n",
    "        phi_lower_lab = r'${0:.0f}$'.format(int(phi_lower))\n",
    "        phi_upper_lab = r'${0:.0f}$'.format(int(phi_upper))\n",
    "\n",
    "        lab = '$v_{rot}=$ '+vrot_lab+' $\\mathrm{km}$ $\\mathrm{s^{-1}}$ \\n $v_{out}=$ '+vout_lab+' $\\mathrm{km}$ $\\mathrm{s^{-1}}$ \\n $\\phi=$ '+phi_lower_lab+'$^\\circ$ $-$ '+phi_upper_lab+'$^\\circ$'\n",
    "        \n",
    "        grid_i = grid[i]\n",
    "\n",
    "        grid_i.hist(current_x, bins=30, histtype='stepfilled', color='c')\n",
    "\n",
    "        #FALTA HACER STANDARD DEVIATION Y SKEWNESS!!!\n",
    "\n",
    "        grid_i.axvline(x=0, ymin=0, ymax=1500, c='k', linestyle='--')\n",
    "        grid_i.set_xlim(-110,20)\n",
    "        grid_i.set_ylim(0,1500)\n",
    "        grid_i.set_ylabel('$\\mathrm{Intensity}$')\n",
    "        grid_i.set_xlabel('$\\mathrm{x}$')\n",
    "        grid_i.text(-100,1100, lab, fontsize=20, bbox=props)\n",
    "\n",
    "    savefig('./tau10E6/tau10E6_phi'+str(int(phi_lower))+'-'+str(int(phi_upper))+'.png', format='png', transparent=False)"
   ]
  },
  {
   "cell_type": "code",
   "execution_count": 9,
   "metadata": {
    "collapsed": true
   },
   "outputs": [],
   "source": [
    "### --------------- tau10E7 --------------- ###\n",
    "\n",
    "vrots = [0,100,200,300]\n",
    "vouts = [100,200,300]\n",
    "\n",
    "all_x_frec = []\n",
    "all_z_u = []\n",
    "vrot_labs = []\n",
    "vout_labs = []\n",
    "\n",
    "for vout in vouts:\n",
    "    for vrot in vrots:\n",
    "        df = pd.read_csv('../../data/tau10E7/vrot'+str(vrot)+'/vout'+str(vout)+'/tau10E7_vrot'+str(vrot)+'_vout'+str(vout)+'_out.ascii', delimiter=' ')\n",
    "        \n",
    "        escaped = df['escaped']\n",
    "        x_frec = df['x_frec']\n",
    "        z_u = df['z_u']\n",
    "        \n",
    "        inds = where(escaped == 0)[0]\n",
    "        \n",
    "        x_frec_escaped = array(x_frec)[inds]\n",
    "        z_u_escaped = array(z_u)[inds]\n",
    "        \n",
    "        all_x_frec.append(x_frec_escaped)\n",
    "        all_z_u.append(z_u_escaped)\n",
    "        \n",
    "        vrot_labs.append(vrot)\n",
    "        vout_labs.append(vout)"
   ]
  },
  {
   "cell_type": "code",
   "execution_count": 10,
   "metadata": {
    "collapsed": false
   },
   "outputs": [],
   "source": [
    "for p in range(num_phis):\n",
    "\n",
    "    fig = figure(1, (20., 16.))\n",
    "    grid = ImageGrid(fig, 111, # similar to subplot(111)\n",
    "                    nrows_ncols = (3, 4), # creates 3x4 grid of axes\n",
    "                    axes_pad=0.3, # pad between axes in inch.\n",
    "                    aspect=False,)\n",
    "\n",
    "    props = dict(boxstyle='square', facecolor='white')\n",
    "\n",
    "    phi_lower = phis[p]\n",
    "    phi_upper = phis[p+1]\n",
    "\n",
    "    for i in range(12):\n",
    "\n",
    "        current_z_u = array(all_z_u[i])\n",
    "\n",
    "        current_z_u_acos = array([math.acos(czu) for czu in current_z_u])\n",
    "\n",
    "        angle_indices = where((current_z_u_acos >= deg2rad(phi_lower)) & (current_z_u_acos <= deg2rad(phi_upper)))\n",
    "\n",
    "        current_x = array(all_x_frec[i])[angle_indices] #only the ones between those upper and lower angles\n",
    "\n",
    "        vrot_lab = r'${0:.0f}$'.format(vrot_labs[i])\n",
    "        vout_lab = r'${0:.0f}$'.format(vout_labs[i])\n",
    "        phi_lower_lab = r'${0:.0f}$'.format(int(phi_lower))\n",
    "        phi_upper_lab = r'${0:.0f}$'.format(int(phi_upper))\n",
    "\n",
    "        lab = '$v_{rot}=$ '+vrot_lab+' $\\mathrm{km}$ $\\mathrm{s^{-1}}$ \\n $v_{out}=$ '+vout_lab+' $\\mathrm{km}$ $\\mathrm{s^{-1}}$ \\n $\\phi=$ '+phi_lower_lab+'$^\\circ$ $-$ '+phi_upper_lab+'$^\\circ$'\n",
    "        \n",
    "        grid_i = grid[i]\n",
    "\n",
    "        grid_i.hist(current_x, bins=30, histtype='stepfilled', color='c')\n",
    "\n",
    "        #FALTA HACER STANDARD DEVIATION Y SKEWNESS!!!\n",
    "\n",
    "        grid_i.axvline(x=0, ymin=0, ymax=1500, c='k', linestyle='--')\n",
    "        grid_i.set_xlim(-110,20)\n",
    "        grid_i.set_ylim(0,1500)\n",
    "        grid_i.set_ylabel('$\\mathrm{Intensity}$')\n",
    "        grid_i.set_xlabel('$\\mathrm{x}$')\n",
    "        grid_i.text(-100,1100, lab, fontsize=20, bbox=props)\n",
    "\n",
    "    savefig('./tau10E7/tau10E7_phi'+str(int(phi_lower))+'-'+str(int(phi_upper))+'.png', format='png', transparent=False)"
   ]
  },
  {
   "cell_type": "code",
   "execution_count": null,
   "metadata": {
    "collapsed": true
   },
   "outputs": [],
   "source": []
  }
 ],
 "metadata": {
  "kernelspec": {
   "display_name": "Python 2",
   "language": "python",
   "name": "python2"
  },
  "language_info": {
   "codemirror_mode": {
    "name": "ipython",
    "version": 2
   },
   "file_extension": ".py",
   "mimetype": "text/x-python",
   "name": "python",
   "nbconvert_exporter": "python",
   "pygments_lexer": "ipython2",
   "version": "2.7.10"
  }
 },
 "nbformat": 4,
 "nbformat_minor": 0
}
