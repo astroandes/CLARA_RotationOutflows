{
 "cells": [
  {
   "cell_type": "code",
   "execution_count": 2,
   "metadata": {
    "collapsed": false
   },
   "outputs": [],
   "source": [
    "import math\n",
    "import pandas as pd\n",
    "from numpy import *\n",
    "from matplotlib.pyplot import * \n",
    "from mcmc_skewed_gaussian import mcmc_skewed_gaussian, sum_2_skewed_gaussian\n",
    "\n",
    "rc('text', usetex=True, fontsize=20)"
   ]
  },
  {
   "cell_type": "code",
   "execution_count": 3,
   "metadata": {
    "collapsed": true
   },
   "outputs": [],
   "source": [
    "kulas = loadtxt(\"../Westphal-BX154_kulas_data.csv\", delimiter=\",\")\n",
    "\n",
    "kulas_xx = kulas[:,0]/(1+2.5954)\n",
    "kulas_yy = kulas[:,1]\n",
    "\n",
    "v_th = -12.8\n",
    "kulas_x = flipud(kulas_xx/v_th)\n",
    "kulas_y = flipud(kulas_yy)"
   ]
  },
  {
   "cell_type": "code",
   "execution_count": 4,
   "metadata": {
    "collapsed": false
   },
   "outputs": [],
   "source": [
    "num_thetas = 9\n",
    "cos_thetas = linspace(0,1,num_thetas+1) \n",
    "cos_thetas_plus = linspace(-1,0,num_thetas+1) \n",
    "\n",
    "thetas = sort(array([arccos(ct) for ct in cos_thetas]))\n",
    "thetas_plus = array([arccos(ctp) for ctp in cos_thetas_plus])"
   ]
  },
  {
   "cell_type": "code",
   "execution_count": 13,
   "metadata": {
    "collapsed": false
   },
   "outputs": [],
   "source": [
    "### --------------- tau=10E6, vrot=50, vout=10, theta=70-77 --------------- ###\n",
    "\n",
    "vrot = 50\n",
    "vout = 10\n",
    "theta_lower = thetas[6]\n",
    "theta_upper = thetas[7]\n",
    "theta_plus_lower = thetas_plus[6]\n",
    "theta_plus_upper = thetas_plus[7]\n",
    "\n",
    "df = pd.read_csv('./rotation+outflows/tau10E6_vrot'+str(vrot)+'_vout'+str(vout)+'_out.ascii', delimiter=' ')\n",
    "        \n",
    "escaped = df['escaped']\n",
    "x_frec = df['x_frec']\n",
    "z_u = df['z_u']\n",
    "        \n",
    "inds = where(escaped == 0)[0]\n",
    "\n",
    "x_frec_escaped = array(x_frec)[inds]\n",
    "z_u_escaped = array(z_u)[inds]\n",
    "\n",
    "acos_z_u = array(arccos(z_u_escaped))\n",
    "angle_indices = where( ((acos_z_u >= theta_lower) & (acos_z_u < theta_upper)) | ((acos_z_u >= theta_plus_lower) & (acos_z_u < theta_plus_upper)))[0]\n",
    "x = x_frec_escaped[angle_indices] #only the ones between those upper and lower angles\n",
    "\n",
    "n, b = histogram(x, bins=30)        \n",
    "delta_x = b[1]-b[0]\n",
    "n = n/delta_x\n",
    "\n",
    "border_x = []\n",
    "border_y = []\n",
    "\n",
    "bb = []\n",
    "for j in range(len(b)-1):\n",
    "    bb.append((b[j+1]+b[j])/2)\n",
    "bb = array(bb)"
   ]
  },
  {
   "cell_type": "code",
   "execution_count": 19,
   "metadata": {
    "collapsed": true
   },
   "outputs": [],
   "source": [
    "hist(x, bins=30)\n",
    "show()"
   ]
  },
  {
   "cell_type": "code",
   "execution_count": 14,
   "metadata": {
    "collapsed": false
   },
   "outputs": [],
   "source": [
    "amplitude_neg, center_neg, sigma_neg, gamma_neg, amplitude_pos, center_pos, sigma_pos, gamma_pos, amplitude_neg_std, center_neg_std, sigma_neg_std, gamma_neg_std, amplitude_pos_std, center_pos_std, sigma_pos_std, gamma_pos_std = mcmc_skewed_gaussian(bb,n)\n",
    "n_fit = sum_2_skewed_gaussian(bb, amplitude_neg, center_neg, sigma_neg, gamma_neg, amplitude_pos, center_pos, sigma_pos, gamma_pos)"
   ]
  },
  {
   "cell_type": "code",
   "execution_count": 18,
   "metadata": {
    "collapsed": false
   },
   "outputs": [],
   "source": [
    "fig = figure(1, (16., 20.))\n",
    "props = dict(boxstyle='square', facecolor='white')\n",
    "\n",
    "vrot_lab = r'${0:.0f}$'.format(vrot)\n",
    "vout_lab = r'${0:.0f}$'.format(vout)\n",
    "theta_lower_lab = r'${0:.0f}$'.format(int(rad2deg(theta_lower)))\n",
    "theta_upper_lab = r'${0:.0f}$'.format(int(rad2deg(theta_upper)))\n",
    "\n",
    "theta_lab = r'$\\theta=$ '\n",
    "lab = '$v_{rot}=$ '+vrot_lab+' $\\mathrm{km}$ $\\mathrm{s^{-1}}$ \\n $v_{out}=$ '+vout_lab+' $\\mathrm{km}$ $\\mathrm{s^{-1}}$ \\n'+theta_lab+theta_lower_lab+'$^\\circ$ $-$ '+theta_upper_lab+'$^\\circ$'\n",
    "\n",
    "for j in range(len(n)-1):\n",
    "    border_x.append(b[j+1])\n",
    "    border_x.append(b[j+1])\n",
    "    border_y.append(n[j])\n",
    "    border_y.append(n[j+1])\n",
    "\n",
    "bar(b[0:30], n, width=b[1]-b[0], color = 'c', edgecolor = 'c') \n",
    "plot(border_x, border_y, c='k')\n",
    "#plot(bb, n_fit, c='b', linestyle='--') #curva fit\n",
    "plot(kulas_x, kulas_y*max(n)/max(kulax_y), c='b') #observation\n",
    "\n",
    "axvline(x=0, ymin=0, ymax=1800, c='k', linestyle='--')\n",
    "xlim(-30,20)\n",
    "ylim(0,1700)\n",
    "ylabel('$\\mathrm{Intensity}$')\n",
    "xlabel('$\\mathrm{x}$')\n",
    "text(-28,600, lab, fontsize=20, bbox=props)\n",
    "\n",
    "savefig('./rotation+outflows/tau10E6_phi'+str(int(rad2deg(theta_lower)))+'-'+str(int(rad2deg(theta_upper)))+'.png', format='png', transparent=False, bbox_inches='tight')\n",
    "close()"
   ]
  },
  {
   "cell_type": "code",
   "execution_count": 6,
   "metadata": {
    "collapsed": true
   },
   "outputs": [],
   "source": []
  },
  {
   "cell_type": "code",
   "execution_count": 9,
   "metadata": {
    "collapsed": false
   },
   "outputs": [],
   "source": []
  }
 ],
 "metadata": {
  "kernelspec": {
   "display_name": "Python 2",
   "language": "python",
   "name": "python2"
  },
  "language_info": {
   "codemirror_mode": {
    "name": "ipython",
    "version": 2
   },
   "file_extension": ".py",
   "mimetype": "text/x-python",
   "name": "python",
   "nbconvert_exporter": "python",
   "pygments_lexer": "ipython2",
   "version": "2.7.9"
  }
 },
 "nbformat": 4,
 "nbformat_minor": 0
}
