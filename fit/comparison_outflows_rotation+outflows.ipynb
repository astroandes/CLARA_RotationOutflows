{
 "cells": [
  {
   "cell_type": "markdown",
   "metadata": {},
   "source": [
    "# Comparison"
   ]
  },
  {
   "cell_type": "code",
   "execution_count": 2,
   "metadata": {
    "collapsed": false
   },
   "outputs": [],
   "source": [
    "import numpy as np\n",
    "import matplotlib.pyplot as plt\n",
    "from scipy.interpolate import interp1d\n",
    "\n",
    "plt.rc('text', usetex=True, fontsize=20)"
   ]
  },
  {
   "cell_type": "code",
   "execution_count": 3,
   "metadata": {
    "collapsed": true
   },
   "outputs": [],
   "source": [
    "num_thetas = 9\n",
    "cos_thetas = np.linspace(0,1,num_thetas+1) \n",
    "cos_thetas_plus = np.linspace(-1,0,num_thetas+1) \n",
    "\n",
    "thetas = np.sort(np.array([np.arccos(ct) for ct in cos_thetas]))\n",
    "thetas_plus = np.array([np.arccos(ctp) for ctp in cos_thetas_plus])"
   ]
  },
  {
   "cell_type": "code",
   "execution_count": 4,
   "metadata": {
    "collapsed": false
   },
   "outputs": [],
   "source": [
    "vrots_out = [0]\n",
    "vouts_out = [5,25,50,100,200]\n",
    "\n",
    "vrots_rot = [50,100]\n",
    "vouts_rot = [5,10,15,20]"
   ]
  },
  {
   "cell_type": "markdown",
   "metadata": {},
   "source": [
    "# $\\tau = 10^5$"
   ]
  },
  {
   "cell_type": "code",
   "execution_count": 5,
   "metadata": {
    "collapsed": false
   },
   "outputs": [],
   "source": [
    "N = 11360\n",
    "n_out = len(vrots_out)*len(vouts_out)*num_thetas\n",
    "n_rot = len(vrots_rot)*len(vouts_rot)*num_thetas\n",
    "\n",
    "N_freq_lt_x = np.linspace(1, N, N) #Number of photons with frequency less than x\n",
    "Ns_freq_lt_x_out = np.zeros((N, n_out))\n",
    "Ns_freq_lt_x_rot = np.zeros((N, n_rot))\n",
    "\n",
    "x_ranges = np.linspace(-70, 20, N) #Number of photons with frequency less than x\n",
    "\n",
    "Ns_freq_lt_x_out_filenames = []\n",
    "Ns_freq_lt_x_rot_filenames = []"
   ]
  },
  {
   "cell_type": "code",
   "execution_count": 6,
   "metadata": {
    "collapsed": false
   },
   "outputs": [],
   "source": [
    "fig = plt.figure(figsize = (14,8))\n",
    "\n",
    "#Outflows\n",
    "\n",
    "i = 0\n",
    "\n",
    "for vrot in vrots_out:\n",
    "    for vout in vouts_out:\n",
    "        for t in range(num_thetas):\n",
    "            \n",
    "            theta_lower = thetas[t]\n",
    "            theta_upper = thetas[t+1]\n",
    "            \n",
    "            filename = './outflows/tau10E5/frequencies/frequencies_tau10E5_vrot'+str(vrot)+'_vout'+str(vout)+'_phi'+str(int(np.rad2deg(theta_lower)))+'-'+str(int(np.rad2deg(theta_upper)))+'.dat'\n",
    "            \n",
    "            x = np.loadtxt(filename)\n",
    "            \n",
    "            for j in range(N):                \n",
    "                N_freq_lt_x[j] = len(np.where(x <= x_ranges[j])[0])\n",
    "            \n",
    "            plt.plot(x_ranges, N_freq_lt_x, c='b')     \n",
    "            \n",
    "            Ns_freq_lt_x_out_filenames.append(filename)\n",
    "            \n",
    "            Ns_freq_lt_x_out[:,i] = N_freq_lt_x\n",
    "            \n",
    "            i += 1\n",
    "\n",
    "plt.plot(x_ranges, N_freq_lt_x, c='b', label = '$\\mathrm{Outflows}$')            \n",
    "            \n",
    "#Rotation+Outflows\n",
    "\n",
    "i = 0\n",
    "\n",
    "for vrot in vrots_rot:\n",
    "    for vout in vouts_rot:\n",
    "        for t in range(num_thetas):\n",
    "            \n",
    "            theta_lower = thetas[t]\n",
    "            theta_upper = thetas[t+1]\n",
    "            \n",
    "            filename = './rotation+outflows/tau10E5/frequencies/frequencies_tau10E5_vrot'+str(vrot)+'_vout'+str(vout)+'_phi'+str(int(np.rad2deg(theta_lower)))+'-'+str(int(np.rad2deg(theta_upper)))+'.dat'\n",
    "            \n",
    "            x = np.loadtxt(filename)\n",
    "            \n",
    "            for j in range(N):\n",
    "                N_freq_lt_x[j] = len(np.where(x <= x_ranges[j])[0])\n",
    "            \n",
    "            plt.plot(x_ranges, N_freq_lt_x, c='c')        \n",
    "                                           \n",
    "            Ns_freq_lt_x_rot_filenames.append(filename)\n",
    "            \n",
    "            Ns_freq_lt_x_rot[:,i] = N_freq_lt_x\n",
    "            \n",
    "            i += 1\n",
    "\n",
    "plt.plot(x_ranges, N_freq_lt_x, c='c', label = '$\\mathrm{Rotation+Outflows}$')                        \n",
    "            \n",
    "plt.legend(loc='upper left')    \n",
    "plt.xlabel('$x$')\n",
    "plt.ylabel('$N(<x)$')\n",
    "plt.savefig('./comparison.png')"
   ]
  },
  {
   "cell_type": "code",
   "execution_count": 7,
   "metadata": {
    "collapsed": false
   },
   "outputs": [
    {
     "name": "stdout",
     "output_type": "stream",
     "text": [
      "outflow: 0 / 45\n",
      "outflow: 1 / 45\n",
      "outflow: 2 / 45\n",
      "outflow: 3 / 45\n",
      "outflow: 4 / 45\n",
      "outflow: 5 / 45\n",
      "outflow: 6 / 45\n",
      "outflow: 7 / 45\n",
      "outflow: 8 / 45\n",
      "outflow: 9 / 45\n",
      "outflow: 10 / 45\n",
      "outflow: 11 / 45\n",
      "outflow: 12 / 45\n",
      "outflow: 13 / 45\n",
      "outflow: 14 / 45\n",
      "outflow: 15 / 45\n",
      "outflow: 16 / 45\n",
      "outflow: 17 / 45\n",
      "outflow: 18 / 45\n",
      "outflow: 19 / 45\n",
      "outflow: 20 / 45\n",
      "outflow: 21 / 45\n",
      "outflow: 22 / 45\n",
      "outflow: 23 / 45\n",
      "outflow: 24 / 45\n",
      "outflow: 25 / 45\n",
      "outflow: 26 / 45\n",
      "outflow: 27 / 45\n",
      "outflow: 28 / 45\n",
      "outflow: 29 / 45\n",
      "outflow: 30 / 45\n",
      "outflow: 31 / 45\n",
      "outflow: 32 / 45\n",
      "outflow: 33 / 45\n",
      "outflow: 34 / 45\n",
      "outflow: 35 / 45\n",
      "outflow: 36 / 45\n",
      "outflow: 37 / 45\n",
      "outflow: 38 / 45\n",
      "outflow: 39 / 45\n",
      "outflow: 40 / 45\n",
      "outflow: 41 / 45\n",
      "outflow: 42 / 45\n",
      "outflow: 43 / 45\n",
      "outflow: 44 / 45\n"
     ]
    }
   ],
   "source": [
    "minimum_diff = np.inf\n",
    "minimum_x_ranges_out_index = -1\n",
    "minimum_x_ranges_rot_index = -1\n",
    "minimum_x_ranges_out_filename = ''\n",
    "minimum_x_ranges_rot_filename = ''\n",
    "\n",
    "for i in range(n_out):\n",
    "    \n",
    "    print 'outflow:',i,'/',n_out\n",
    "    \n",
    "    N_freq_lt_x_out = Ns_freq_lt_x_out[:,i]\n",
    "    \n",
    "    f_out = interp1d(N_freq_lt_x_out, x_ranges)\n",
    "    \n",
    "    xs_out = np.zeros(N)\n",
    "    \n",
    "    for k in range(1, N-1):\n",
    "        \n",
    "        previous_N = N_freq_lt_x_out[k-1] \n",
    "        current_N = N_freq_lt_x_out[k]\n",
    "        next_N = N_freq_lt_x_out[k+1]\n",
    "        \n",
    "        if (previous_N == current_N or current_N == next_N):\n",
    "            xs_out[k] = x_ranges[np.where(N_freq_lt_x_out <= current_N)[0][0]]\n",
    "        else:    \n",
    "            xs_out[k] = f_out(current_N)\n",
    "    \n",
    "    for j in range(n_rot):\n",
    "        \n",
    "        N_freq_lt_x_rot = Ns_freq_lt_x_rot[:,j]\n",
    "        \n",
    "        f_rot = interp1d(N_freq_lt_x_rot, x_ranges)\n",
    "        \n",
    "        xs_rot = np.zeros(N)\n",
    "\n",
    "        for k in range(1, N-1):\n",
    "\n",
    "            previous_N = N_freq_lt_x_rot[k-1] \n",
    "            current_N = N_freq_lt_x_rot[k]\n",
    "            next_N = N_freq_lt_x_rot[k+1]\n",
    "\n",
    "            if (previous_N == current_N or current_N == next_N):\n",
    "                xs_rot[k] = x_ranges[np.where(N_freq_lt_x_rot <= current_N)[0][0]]\n",
    "            else:    \n",
    "                xs_rot[k] = f_rot(current_N)\n",
    "        \n",
    "        \n",
    "        diff = np.sqrt(sum((xs_rot-xs_out)**2))\n",
    "        \n",
    "        if(diff < minimum_diff):\n",
    "            minimum_diff = diff\n",
    "            minimum_x_ranges_out_index = i\n",
    "            minimum_x_ranges_rot_index = j\n",
    "            minimum_x_ranges_out_filename = Ns_freq_lt_x_out_filenames[i]\n",
    "            minimum_x_ranges_rot_filename = Ns_freq_lt_x_rot_filenames[j] "
   ]
  },
  {
   "cell_type": "code",
   "execution_count": 8,
   "metadata": {
    "collapsed": false
   },
   "outputs": [
    {
     "name": "stdout",
     "output_type": "stream",
     "text": [
      "./outflows/tau10E5/frequencies/frequencies_tau10E5_vrot0_vout5_phi63-70.dat\n",
      "./rotation+outflows/tau10E5/frequencies/frequencies_tau10E5_vrot50_vout5_phi27-38.dat\n"
     ]
    }
   ],
   "source": [
    "fig = plt.figure(figsize = (14,8))\n",
    "\n",
    "plt.plot(x_ranges, Ns_freq_lt_x_out[:,minimum_x_ranges_out_index], c='b', label = '$\\mathrm{Outflows}$')            \n",
    "plt.plot(x_ranges, Ns_freq_lt_x_rot[:,minimum_x_ranges_rot_index], c='c', label = '$\\mathrm{Rotation+Outflows}$')                        \n",
    "            \n",
    "plt.legend(loc='upper left')    \n",
    "plt.xlabel('$x$')\n",
    "plt.ylabel('$N(<x)$')\n",
    "plt.savefig('./minimum_difference.png')\n",
    "\n",
    "print(minimum_x_ranges_out_filename)\n",
    "print(minimum_x_ranges_rot_filename)"
   ]
  },
  {
   "cell_type": "code",
   "execution_count": 19,
   "metadata": {
    "collapsed": false
   },
   "outputs": [],
   "source": [
    "fig = plt.figure(figsize = (14,8))\n",
    "\n",
    "current_x = np.loadtxt(minimum_x_ranges_out_filename)\n",
    "\n",
    "n, b = np.histogram(current_x, bins=30)        \n",
    "delta_x = b[1]-b[0]\n",
    "n = n/delta_x\n",
    "\n",
    "border_x = []\n",
    "border_y = []\n",
    "\n",
    "for j in range(len(n)-1):\n",
    "    border_x.append(b[j+1])\n",
    "    border_x.append(b[j+1])\n",
    "    border_y.append(n[j])\n",
    "    border_y.append(n[j+1])\n",
    "\n",
    "bb = []\n",
    "for j in range(len(b)-1):\n",
    "    bb.append((b[j+1]+b[j])/2)\n",
    "bb = np.array(bb)\n",
    "\n",
    "plt.plot(border_x, border_y, c='b', label='$\\mathrm{outflows}$')\n",
    "\n",
    "max_y = np.max(border_y)\n",
    "\n",
    "\n",
    "current_x = np.loadtxt(minimum_x_ranges_rot_filename)\n",
    "\n",
    "n, b = np.histogram(current_x, bins=30)        \n",
    "delta_x = b[1]-b[0]\n",
    "n = n/delta_x\n",
    "\n",
    "border_x = []\n",
    "border_y = []\n",
    "\n",
    "for j in range(len(n)-1):\n",
    "    border_x.append(b[j+1])\n",
    "    border_x.append(b[j+1])\n",
    "    border_y.append(n[j])\n",
    "    border_y.append(n[j+1])\n",
    "\n",
    "bb = []\n",
    "for j in range(len(b)-1):\n",
    "    bb.append((b[j+1]+b[j])/2)\n",
    "bb = np.array(bb)\n",
    "\n",
    "scaling_factor = max_y/np.max(border_y)\n",
    "border_y = scaling_factor*np.array(border_y)\n",
    "\n",
    "plt.plot(border_x, border_y, c='c', label='$\\mathrm{rotation+outflows}$')\n",
    "\n",
    "plt.axvline(x=0, ymin=0, ymax=1800, c='k', linestyle='--')\n",
    "plt.xlim(-15,15)\n",
    "plt.ylim(0,1700)\n",
    "plt.ylabel('$\\mathrm{Intensity}$')\n",
    "plt.xlabel('$\\mathrm{x}$')\n",
    "plt.legend()\n",
    "\n",
    "plt.savefig('./minimum_difference_histograms.png')"
   ]
  },
  {
   "cell_type": "code",
   "execution_count": null,
   "metadata": {
    "collapsed": false
   },
   "outputs": [],
   "source": []
  },
  {
   "cell_type": "code",
   "execution_count": null,
   "metadata": {
    "collapsed": false
   },
   "outputs": [],
   "source": []
  },
  {
   "cell_type": "code",
   "execution_count": null,
   "metadata": {
    "collapsed": false
   },
   "outputs": [],
   "source": []
  },
  {
   "cell_type": "code",
   "execution_count": null,
   "metadata": {
    "collapsed": false
   },
   "outputs": [],
   "source": []
  }
 ],
 "metadata": {
  "kernelspec": {
   "display_name": "Python 2",
   "language": "python",
   "name": "python2"
  },
  "language_info": {
   "codemirror_mode": {
    "name": "ipython",
    "version": 2
   },
   "file_extension": ".py",
   "mimetype": "text/x-python",
   "name": "python",
   "nbconvert_exporter": "python",
   "pygments_lexer": "ipython2",
   "version": "2.7.9"
  }
 },
 "nbformat": 4,
 "nbformat_minor": 0
}
