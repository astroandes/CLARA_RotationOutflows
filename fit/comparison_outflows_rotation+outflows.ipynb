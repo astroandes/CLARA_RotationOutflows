{
 "cells": [
  {
   "cell_type": "markdown",
   "metadata": {},
   "source": [
    "# Comparison"
   ]
  },
  {
   "cell_type": "code",
   "execution_count": 2,
   "metadata": {
    "collapsed": false
   },
   "outputs": [],
   "source": [
    "import numpy as np\n",
    "import matplotlib.pyplot as plt\n",
    "\n",
    "plt.rc('text', usetex=True, fontsize=20)"
   ]
  },
  {
   "cell_type": "code",
   "execution_count": 3,
   "metadata": {
    "collapsed": false
   },
   "outputs": [],
   "source": [
    "num_thetas = 9\n",
    "cos_thetas = np.linspace(0,1,num_thetas+1) \n",
    "cos_thetas_plus = np.linspace(-1,0,num_thetas+1) \n",
    "\n",
    "thetas = np.sort(np.array([np.arccos(ct) for ct in cos_thetas]))\n",
    "thetas_plus = np.array([np.arccos(ctp) for ctp in cos_thetas_plus])"
   ]
  },
  {
   "cell_type": "code",
   "execution_count": 4,
   "metadata": {
    "collapsed": true
   },
   "outputs": [],
   "source": [
    "vrots_out = [0]\n",
    "vouts_out = [5,25,50,100,200]\n",
    "\n",
    "vrots_rot = [50,100]\n",
    "vouts_rot = [5,10,15,20]"
   ]
  },
  {
   "cell_type": "markdown",
   "metadata": {},
   "source": [
    "# $\\tau = 10^5$"
   ]
  },
  {
   "cell_type": "code",
   "execution_count": null,
   "metadata": {
    "collapsed": true
   },
   "outputs": [],
   "source": [
    "N = 100000/9.0\n",
    "\n",
    "N_freq_lt_x = np.zeros(N) #Number of photons with frequency less than x\n",
    "Ns_freq_lt_x_out = np.zeros((N, len(vrots_out)*len(vouts_out)*num_thetas))\n",
    "Ns_freq_lt_x_rot = np.zeros((N, len(vrots_rot)*len(vouts_rot)*num_thetas))\n",
    "\n",
    "Ns_freq_lt_x_out_labels = []\n",
    "Ns_freq_lt_x_rot_labels = []"
   ]
  },
  {
   "cell_type": "code",
   "execution_count": 31,
   "metadata": {
    "collapsed": false
   },
   "outputs": [
    {
     "name": "stdout",
     "output_type": "stream",
     "text": [
      "100000\n"
     ]
    },
    {
     "ename": "IndexError",
     "evalue": "index 99999 is out of bounds for axis 1 with size 45",
     "output_type": "error",
     "traceback": [
      "\u001b[1;31m---------------------------------------------------------------------------\u001b[0m",
      "\u001b[1;31mIndexError\u001b[0m                                Traceback (most recent call last)",
      "\u001b[1;32m<ipython-input-31-0b33990845d5>\u001b[0m in \u001b[0;36m<module>\u001b[1;34m()\u001b[0m\n\u001b[0;32m     26\u001b[0m \u001b[1;33m\u001b[0m\u001b[0m\n\u001b[0;32m     27\u001b[0m             \u001b[1;32mprint\u001b[0m \u001b[0mlen\u001b[0m\u001b[1;33m(\u001b[0m\u001b[0mN_freq_lt_x\u001b[0m\u001b[1;33m)\u001b[0m\u001b[1;33m\u001b[0m\u001b[0m\n\u001b[1;32m---> 28\u001b[1;33m             \u001b[1;32mprint\u001b[0m \u001b[0mlen\u001b[0m\u001b[1;33m(\u001b[0m\u001b[0mNs_freq_lt_x_out\u001b[0m\u001b[1;33m[\u001b[0m\u001b[1;33m:\u001b[0m\u001b[1;33m,\u001b[0m\u001b[0mi\u001b[0m\u001b[1;33m]\u001b[0m\u001b[1;33m)\u001b[0m\u001b[1;33m\u001b[0m\u001b[0m\n\u001b[0m\u001b[0;32m     29\u001b[0m \u001b[1;33m\u001b[0m\u001b[0m\n\u001b[0;32m     30\u001b[0m             \u001b[0mNs_freq_lt_x_out\u001b[0m\u001b[1;33m[\u001b[0m\u001b[1;33m:\u001b[0m\u001b[1;33m,\u001b[0m\u001b[0mi\u001b[0m\u001b[1;33m]\u001b[0m \u001b[1;33m=\u001b[0m \u001b[0mN_freq_lt_x\u001b[0m\u001b[1;33m\u001b[0m\u001b[0m\n",
      "\u001b[1;31mIndexError\u001b[0m: index 99999 is out of bounds for axis 1 with size 45"
     ]
    }
   ],
   "source": [
    "fig = plt.figure(figsize = (14,8))\n",
    "\n",
    "#Outflows\n",
    "\n",
    "i = 0\n",
    "\n",
    "for vrot in vrots_out:\n",
    "    for vout in vouts_out:\n",
    "        for t in range(num_thetas):\n",
    "            \n",
    "            theta_lower = thetas[t]\n",
    "            theta_upper = thetas[t+1]\n",
    "            \n",
    "            filename = './outflows/tau10E5/frequencies/frequencies_tau10E5_vrot'+str(vrot)+'_vout'+str(vout)+'_phi'+str(int(np.rad2deg(theta_lower)))+'-'+str(int(np.rad2deg(theta_upper)))+'.dat'\n",
    "            \n",
    "            x = np.loadtxt(filename)\n",
    "            \n",
    "            x_ranges = np.linspace(np.min(x), np.max(x), N)\n",
    "            \n",
    "            for i in range(N):\n",
    "                N_freq_lt_x[i] = len(np.where(x <= x_ranges[i])[0])\n",
    "            \n",
    "            plt.plot(x_ranges, N_freq_lt_x, c='b')     \n",
    "            \n",
    "            Ns_freq_lt_x_out_labels.append('frequencies_tau10E5_vrot'+str(vrot)+'_vout'+str(vout)+'_phi'+str(int(np.rad2deg(theta_lower)))+'-'+str(int(np.rad2deg(theta_upper))))\n",
    "            \n",
    "            print len(N_freq_lt_x)\n",
    "            print len(Ns_freq_lt_x_out[:,i])\n",
    "            \n",
    "            Ns_freq_lt_x_out[:,i] = N_freq_lt_x\n",
    "            \n",
    "            i += 1\n",
    "\n",
    "#Rotation+Outflows\n",
    "\n",
    "i = 0\n",
    "\n",
    "for vrot in vrots_rot:\n",
    "    for vout in vouts_rot:\n",
    "        for t in range(num_thetas):\n",
    "            \n",
    "            theta_lower = thetas[t]\n",
    "            theta_upper = thetas[t+1]\n",
    "            \n",
    "            filename = './rotation+outflows/tau10E5/frequencies/frequencies_tau10E5_vrot'+str(vrot)+'_vout'+str(vout)+'_phi'+str(int(np.rad2deg(theta_lower)))+'-'+str(int(np.rad2deg(theta_upper)))+'.dat'\n",
    "            \n",
    "            x = np.loadtxt(filename)\n",
    "            \n",
    "            x_ranges = np.linspace(np.min(x), np.max(x), N)\n",
    "            \n",
    "            for i in range(N):\n",
    "                N_freq_lt_x[i] = len(np.where(x <= x_ranges[i])[0])\n",
    "            \n",
    "            plt.plot(x_ranges, N_freq_lt_x, c='c')        \n",
    "                                           \n",
    "            Ns_freq_lt_x_rot_labels.append('frequencies_tau10E5_vrot'+str(vrot)+'_vout'+str(vout)+'_phi'+str(int(np.rad2deg(theta_lower)))+'-'+str(int(np.rad2deg(theta_upper))))\n",
    "            Ns_freq_lt_x_rot[:,i] = N_freq_lt_x\n",
    "            i += 1\n",
    "            \n",
    "            \n",
    "plt.savefig('./comparison.png')"
   ]
  },
  {
   "cell_type": "code",
   "execution_count": 20,
   "metadata": {
    "collapsed": true
   },
   "outputs": [],
   "source": [
    "Ns_freq_lt_x_out[:,0] = N_freq_lt_x"
   ]
  },
  {
   "cell_type": "code",
   "execution_count": 21,
   "metadata": {
    "collapsed": true
   },
   "outputs": [],
   "source": [
    "Ns_freq_lt_x_out_labels.append('frequencies_tau10E5_vrot'+str(vrot)+'_vout'+str(vout)+'_phi'+str(int(np.rad2deg(theta_lower)))+'-'+str(int(np.rad2deg(theta_upper))))"
   ]
  },
  {
   "cell_type": "code",
   "execution_count": null,
   "metadata": {
    "collapsed": true
   },
   "outputs": [],
   "source": []
  }
 ],
 "metadata": {
  "kernelspec": {
   "display_name": "Python 2",
   "language": "python",
   "name": "python2"
  },
  "language_info": {
   "codemirror_mode": {
    "name": "ipython",
    "version": 2
   },
   "file_extension": ".py",
   "mimetype": "text/x-python",
   "name": "python",
   "nbconvert_exporter": "python",
   "pygments_lexer": "ipython2",
   "version": "2.7.11"
  }
 },
 "nbformat": 4,
 "nbformat_minor": 0
}
