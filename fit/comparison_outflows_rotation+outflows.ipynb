{
 "cells": [
  {
   "cell_type": "markdown",
   "metadata": {},
   "source": [
    "# Comparison"
   ]
  },
  {
   "cell_type": "code",
   "execution_count": 2,
   "metadata": {
    "collapsed": false
   },
   "outputs": [],
   "source": [
    "import numpy as np\n",
    "import matplotlib.pyplot as plt\n",
    "\n",
    "plt.rc('text', usetex=True, fontsize=20)"
   ]
  },
  {
   "cell_type": "code",
   "execution_count": 3,
   "metadata": {
    "collapsed": true
   },
   "outputs": [],
   "source": [
    "num_thetas = 9\n",
    "cos_thetas = np.linspace(0,1,num_thetas+1) \n",
    "cos_thetas_plus = np.linspace(-1,0,num_thetas+1) \n",
    "\n",
    "thetas = np.sort(np.array([np.arccos(ct) for ct in cos_thetas]))\n",
    "thetas_plus = np.array([np.arccos(ctp) for ctp in cos_thetas_plus])"
   ]
  },
  {
   "cell_type": "code",
   "execution_count": 4,
   "metadata": {
    "collapsed": false
   },
   "outputs": [],
   "source": [
    "vrots_out = [0]\n",
    "vouts_out = [5,25,50,100,200]\n",
    "\n",
    "vrots_rot = [50,100]\n",
    "vouts_rot = [5,10,15,20]"
   ]
  },
  {
   "cell_type": "markdown",
   "metadata": {},
   "source": [
    "# $\\tau = 10^5$"
   ]
  },
  {
   "cell_type": "code",
   "execution_count": 5,
   "metadata": {
    "collapsed": false
   },
   "outputs": [],
   "source": [
    "N = 11360\n",
    "\n",
    "N_freq_lt_x = np.linspace(1,N,N) #Number of photons with frequency less than x\n",
    "\n",
    "x_ranges = np.zeros(N) #Ranges of frequency\n",
    "x_ranges_out = np.zeros((N, len(vrots_out)*len(vouts_out)*num_thetas))\n",
    "x_ranges_rot = np.zeros((N, len(vrots_rot)*len(vouts_rot)*num_thetas))\n",
    "\n",
    "x_ranges_out_labels = []\n",
    "x_ranges_rot_labels = []"
   ]
  },
  {
   "cell_type": "code",
   "execution_count": 6,
   "metadata": {
    "collapsed": false
   },
   "outputs": [
    {
     "ename": "NameError",
     "evalue": "name 'xranges' is not defined",
     "output_type": "error",
     "traceback": [
      "\u001b[1;31m---------------------------------------------------------------------------\u001b[0m",
      "\u001b[1;31mNameError\u001b[0m                                 Traceback (most recent call last)",
      "\u001b[1;32m<ipython-input-6-e03deb6fa2a5>\u001b[0m in \u001b[0;36m<module>\u001b[1;34m()\u001b[0m\n\u001b[0;32m     29\u001b[0m             \u001b[0mplt\u001b[0m\u001b[1;33m.\u001b[0m\u001b[0mplot\u001b[0m\u001b[1;33m(\u001b[0m\u001b[0mx_ranges\u001b[0m\u001b[1;33m,\u001b[0m \u001b[0mN_freq_lt_x\u001b[0m\u001b[1;33m,\u001b[0m \u001b[0mc\u001b[0m\u001b[1;33m=\u001b[0m\u001b[1;34m'b'\u001b[0m\u001b[1;33m)\u001b[0m\u001b[1;33m\u001b[0m\u001b[0m\n\u001b[0;32m     30\u001b[0m \u001b[1;33m\u001b[0m\u001b[0m\n\u001b[1;32m---> 31\u001b[1;33m             \u001b[0mx_ranges_out\u001b[0m\u001b[1;33m[\u001b[0m\u001b[1;33m:\u001b[0m\u001b[1;33m,\u001b[0m\u001b[0mi\u001b[0m\u001b[1;33m]\u001b[0m \u001b[1;33m=\u001b[0m \u001b[0mxranges\u001b[0m\u001b[1;33m\u001b[0m\u001b[0m\n\u001b[0m\u001b[0;32m     32\u001b[0m             \u001b[0mx_ranges_out_labels\u001b[0m\u001b[1;33m.\u001b[0m\u001b[0mappend\u001b[0m\u001b[1;33m(\u001b[0m\u001b[1;34m'frequencies_tau10E5_vrot'\u001b[0m\u001b[1;33m+\u001b[0m\u001b[0mstr\u001b[0m\u001b[1;33m(\u001b[0m\u001b[0mvrot\u001b[0m\u001b[1;33m)\u001b[0m\u001b[1;33m+\u001b[0m\u001b[1;34m'_vout'\u001b[0m\u001b[1;33m+\u001b[0m\u001b[0mstr\u001b[0m\u001b[1;33m(\u001b[0m\u001b[0mvout\u001b[0m\u001b[1;33m)\u001b[0m\u001b[1;33m+\u001b[0m\u001b[1;34m'_phi'\u001b[0m\u001b[1;33m+\u001b[0m\u001b[0mstr\u001b[0m\u001b[1;33m(\u001b[0m\u001b[0mint\u001b[0m\u001b[1;33m(\u001b[0m\u001b[0mnp\u001b[0m\u001b[1;33m.\u001b[0m\u001b[0mrad2deg\u001b[0m\u001b[1;33m(\u001b[0m\u001b[0mtheta_lower\u001b[0m\u001b[1;33m)\u001b[0m\u001b[1;33m)\u001b[0m\u001b[1;33m)\u001b[0m\u001b[1;33m+\u001b[0m\u001b[1;34m'-'\u001b[0m\u001b[1;33m+\u001b[0m\u001b[0mstr\u001b[0m\u001b[1;33m(\u001b[0m\u001b[0mint\u001b[0m\u001b[1;33m(\u001b[0m\u001b[0mnp\u001b[0m\u001b[1;33m.\u001b[0m\u001b[0mrad2deg\u001b[0m\u001b[1;33m(\u001b[0m\u001b[0mtheta_upper\u001b[0m\u001b[1;33m)\u001b[0m\u001b[1;33m)\u001b[0m\u001b[1;33m)\u001b[0m\u001b[1;33m)\u001b[0m\u001b[1;33m\u001b[0m\u001b[0m\n\u001b[0;32m     33\u001b[0m \u001b[1;33m\u001b[0m\u001b[0m\n",
      "\u001b[1;31mNameError\u001b[0m: name 'xranges' is not defined"
     ]
    }
   ],
   "source": [
    "fig = plt.figure(figsize = (14,8))\n",
    "\n",
    "#Outflows\n",
    "\n",
    "i = 0\n",
    "\n",
    "for vrot in vrots_out:\n",
    "    for vout in vouts_out:\n",
    "        for t in range(num_thetas):\n",
    "            \n",
    "            theta_lower = thetas[t]\n",
    "            theta_upper = thetas[t+1]\n",
    "            \n",
    "            filename = './outflows/tau10E5/frequencies/frequencies_tau10E5_vrot'+str(vrot)+'_vout'+str(vout)+'_phi'+str(int(np.rad2deg(theta_lower)))+'-'+str(int(np.rad2deg(theta_upper)))+'.dat'\n",
    "            \n",
    "            x = np.loadtxt(filename)\n",
    "            k_x = 0\n",
    "            \n",
    "            for j in range(N):\n",
    "                \n",
    "                for k in range(k_x, N):\n",
    "                    num = len(np.where(x <= x[k_x])[0])\n",
    "                    if (num >= N):\n",
    "                        k_x = k\n",
    "                        break\n",
    "                        \n",
    "                x_ranges[j] = x[k_x]\n",
    "            \n",
    "            plt.plot(x_ranges, N_freq_lt_x, c='b')     \n",
    "            \n",
    "            x_ranges_out[:,i] = x_ranges\n",
    "            x_ranges_out_labels.append('frequencies_tau10E5_vrot'+str(vrot)+'_vout'+str(vout)+'_phi'+str(int(np.rad2deg(theta_lower)))+'-'+str(int(np.rad2deg(theta_upper))))\n",
    "            \n",
    "            i += 1\n",
    "\n",
    "plt.plot(x_ranges, N_freq_lt_x, c='b', label = '$\\mathrm{Outflows}$')            \n",
    "            \n",
    "#Rotation+Outflows\n",
    "\n",
    "i = 0\n",
    "\n",
    "for vrot in vrots_rot:\n",
    "    for vout in vouts_rot:\n",
    "        for t in range(num_thetas):\n",
    "            \n",
    "            theta_lower = thetas[t]\n",
    "            theta_upper = thetas[t+1]\n",
    "            \n",
    "            filename = './rotation+outflows/tau10E5/frequencies/frequencies_tau10E5_vrot'+str(vrot)+'_vout'+str(vout)+'_phi'+str(int(np.rad2deg(theta_lower)))+'-'+str(int(np.rad2deg(theta_upper)))+'.dat'\n",
    "            \n",
    "            x = np.loadtxt(filename)\n",
    "            k_x = 0\n",
    "            \n",
    "            for j in range(N):\n",
    "                \n",
    "                for k in range(k_x, N):\n",
    "                    num = len(np.where(x <= x[k_x])[0])\n",
    "                    if (num >= N):\n",
    "                        k_x = k\n",
    "                        break\n",
    "                        \n",
    "                x_ranges[j] = x[k_x]\n",
    "            \n",
    "            plt.plot(x_ranges, N_freq_lt_x, c='b')     \n",
    "            \n",
    "            x_ranges_rot[:,i] = x_ranges\n",
    "            x_ranges_rot_labels.append('frequencies_tau10E5_vrot'+str(vrot)+'_vout'+str(vout)+'_phi'+str(int(np.rad2deg(theta_lower)))+'-'+str(int(np.rad2deg(theta_upper))))\n",
    "            \n",
    "            i += 1\n",
    "\n",
    "plt.plot(x_ranges, N_freq_lt_x, c='c', label = '$\\mathrm{Rotation+Outflows}$')                        \n",
    "            \n",
    "plt.legend(loc='upper left')    \n",
    "plt.xlabel('$x$')\n",
    "plt.ylabel('$N(<x)$')\n",
    "plt.savefig('./comparison.png')"
   ]
  },
  {
   "cell_type": "code",
   "execution_count": 7,
   "metadata": {
    "collapsed": false
   },
   "outputs": [
    {
     "ename": "IndexError",
     "evalue": "list index out of range",
     "output_type": "error",
     "traceback": [
      "\u001b[1;31m---------------------------------------------------------------------------\u001b[0m",
      "\u001b[1;31mIndexError\u001b[0m                                Traceback (most recent call last)",
      "\u001b[1;32m<ipython-input-7-aed939b4c33b>\u001b[0m in \u001b[0;36m<module>\u001b[1;34m()\u001b[0m\n\u001b[0;32m     13\u001b[0m         \u001b[1;32mif\u001b[0m\u001b[1;33m(\u001b[0m\u001b[0mdiff\u001b[0m \u001b[1;33m<\u001b[0m \u001b[0mminimum_diff\u001b[0m\u001b[1;33m)\u001b[0m\u001b[1;33m:\u001b[0m\u001b[1;33m\u001b[0m\u001b[0m\n\u001b[0;32m     14\u001b[0m             \u001b[0mminimum_diff\u001b[0m \u001b[1;33m=\u001b[0m \u001b[0mdiff\u001b[0m\u001b[1;33m\u001b[0m\u001b[0m\n\u001b[1;32m---> 15\u001b[1;33m             \u001b[0mminimum_x_ranges_out_labels\u001b[0m \u001b[1;33m=\u001b[0m \u001b[0mx_ranges_out_labels\u001b[0m\u001b[1;33m[\u001b[0m\u001b[0mi\u001b[0m\u001b[1;33m]\u001b[0m\u001b[1;33m\u001b[0m\u001b[0m\n\u001b[0m\u001b[0;32m     16\u001b[0m             \u001b[0mminimum_x_ranges_rot_labels\u001b[0m \u001b[1;33m=\u001b[0m \u001b[0mx_ranges_rot_labels\u001b[0m\u001b[1;33m[\u001b[0m\u001b[0mj\u001b[0m\u001b[1;33m]\u001b[0m\u001b[1;33m\u001b[0m\u001b[0m\n",
      "\u001b[1;31mIndexError\u001b[0m: list index out of range"
     ]
    }
   ],
   "source": [
    "minimum_diff = np.inf\n",
    "minimum_x_ranges_out_labels = ''\n",
    "minimum_x_ranges_rot_labels = ''\n",
    "\n",
    "for i in range(len(x_ranges_out[:,0])):\n",
    "    column_out = x_ranges_out[:,i]\n",
    "    \n",
    "    for j in range(len(x_ranges_rot[:,0])):\n",
    "        column_rot = x_ranges_rot[:,j]\n",
    "        \n",
    "        diff = np.sqrt(sum((column_rot-column_out)**2))\n",
    "        \n",
    "        if(diff < minimum_diff):\n",
    "            minimum_diff = diff\n",
    "            minimum_x_ranges_out_labels = x_ranges_out_labels[i]\n",
    "            minimum_x_ranges_rot_labels = x_ranges_rot_labels[j] "
   ]
  },
  {
   "cell_type": "code",
   "execution_count": null,
   "metadata": {
    "collapsed": false
   },
   "outputs": [],
   "source": []
  },
  {
   "cell_type": "code",
   "execution_count": null,
   "metadata": {
    "collapsed": false
   },
   "outputs": [],
   "source": []
  },
  {
   "cell_type": "code",
   "execution_count": null,
   "metadata": {
    "collapsed": false
   },
   "outputs": [],
   "source": []
  },
  {
   "cell_type": "code",
   "execution_count": null,
   "metadata": {
    "collapsed": false
   },
   "outputs": [],
   "source": []
  },
  {
   "cell_type": "code",
   "execution_count": null,
   "metadata": {
    "collapsed": false
   },
   "outputs": [],
   "source": []
  },
  {
   "cell_type": "code",
   "execution_count": null,
   "metadata": {
    "collapsed": false
   },
   "outputs": [],
   "source": []
  }
 ],
 "metadata": {
  "kernelspec": {
   "display_name": "Python 2",
   "language": "python",
   "name": "python2"
  },
  "language_info": {
   "codemirror_mode": {
    "name": "ipython",
    "version": 2
   },
   "file_extension": ".py",
   "mimetype": "text/x-python",
   "name": "python",
   "nbconvert_exporter": "python",
   "pygments_lexer": "ipython2",
   "version": "2.7.9"
  }
 },
 "nbformat": 4,
 "nbformat_minor": 0
}
